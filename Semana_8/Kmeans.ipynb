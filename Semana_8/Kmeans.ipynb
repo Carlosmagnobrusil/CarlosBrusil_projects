{
  "nbformat": 4,
  "nbformat_minor": 0,
  "metadata": {
    "colab": {
      "name": "Kmeans.ipynb",
      "provenance": [],
      "authorship_tag": "ABX9TyOqhn8QhnRqSoD2eMGHesJN",
      "include_colab_link": true
    },
    "kernelspec": {
      "name": "python3",
      "display_name": "Python 3"
    },
    "language_info": {
      "name": "python"
    }
  },
  "cells": [
    {
      "cell_type": "markdown",
      "metadata": {
        "id": "view-in-github",
        "colab_type": "text"
      },
      "source": [
        "<a href=\"https://colab.research.google.com/github/Carlosmagnobrusil/CarlosBrusil_projects/blob/main/Semana_8/Kmeans.ipynb\" target=\"_parent\"><img src=\"https://colab.research.google.com/assets/colab-badge.svg\" alt=\"Open In Colab\"/></a>"
      ]
    },
    {
      "cell_type": "markdown",
      "source": [
        "#**Agrupamiento Kmeans**\n",
        "## *Creado por: Carlos Brusil*\n",
        "\n",
        "\n",
        "\n",
        "*   Fecha de Creación: 24 de febrero de 2022 \n",
        "*   Fechad de actualización: 24 de febrero de 2022\n",
        "*   Descripción: Se realiza un ejercio donde se practica el modelo no supervisado kmeans"
      ],
      "metadata": {
        "id": "EkSmayes05I4"
      }
    },
    {
      "cell_type": "code",
      "execution_count": 1,
      "metadata": {
        "colab": {
          "base_uri": "https://localhost:8080/"
        },
        "id": "NyMfyEZD0jBv",
        "outputId": "808d5a5d-e697-4e72-ad4f-f7ab7f16b229"
      },
      "outputs": [
        {
          "output_type": "stream",
          "name": "stdout",
          "text": [
            "Mounted at /content/drive\n"
          ]
        }
      ],
      "source": [
        "from google.colab import drive\n",
        "drive.mount('/content/drive') # uno my Drive al nuevo cuaderno"
      ]
    },
    {
      "cell_type": "code",
      "source": [
        "import pandas as pd #importo la libreria panda permite manipular y molderar los datos \n",
        "import numpy as np #importo la libreria numpy manipular y molderar los datos \n",
        "import matplotlib.pyplot as plt #importo libreria matplotlib que es una libreria que me permite realizar graficas en 2 dimensiones de de mis datos\n"
      ],
      "metadata": {
        "id": "WvuYHh5J2XV9"
      },
      "execution_count": 21,
      "outputs": []
    },
    {
      "cell_type": "code",
      "source": [
        "cust =  '/content/drive/MyDrive/Coding_Dojo/Semana 8/Data/cust_seg.csv' #Nombro a la base\n",
        "cust_df = pd.read_csv(cust) #le doy un nombre a la trama tener en cuenta que tipo dearchivo estoy leyendo\n",
        "cust_df.head() #Observo que los datos hayan sido leidos de forma correcta"
      ],
      "metadata": {
        "colab": {
          "base_uri": "https://localhost:8080/",
          "height": 206
        },
        "id": "MKV_0jE72cRN",
        "outputId": "71c1c9b7-4659-4e24-e410-0b41c0b7be06"
      },
      "execution_count": 3,
      "outputs": [
        {
          "output_type": "execute_result",
          "data": {
            "text/html": [
              "\n",
              "  <div id=\"df-0546311c-69d1-4a9c-85d8-1fcf6ffc3b65\">\n",
              "    <div class=\"colab-df-container\">\n",
              "      <div>\n",
              "<style scoped>\n",
              "    .dataframe tbody tr th:only-of-type {\n",
              "        vertical-align: middle;\n",
              "    }\n",
              "\n",
              "    .dataframe tbody tr th {\n",
              "        vertical-align: top;\n",
              "    }\n",
              "\n",
              "    .dataframe thead th {\n",
              "        text-align: right;\n",
              "    }\n",
              "</style>\n",
              "<table border=\"1\" class=\"dataframe\">\n",
              "  <thead>\n",
              "    <tr style=\"text-align: right;\">\n",
              "      <th></th>\n",
              "      <th>Unnamed: 0</th>\n",
              "      <th>Customer Id</th>\n",
              "      <th>Age</th>\n",
              "      <th>Edu</th>\n",
              "      <th>Years Employed</th>\n",
              "      <th>Income</th>\n",
              "      <th>Card Debt</th>\n",
              "      <th>Other Debt</th>\n",
              "      <th>Defaulted</th>\n",
              "      <th>DebtIncomeRatio</th>\n",
              "    </tr>\n",
              "  </thead>\n",
              "  <tbody>\n",
              "    <tr>\n",
              "      <th>0</th>\n",
              "      <td>0</td>\n",
              "      <td>1</td>\n",
              "      <td>41</td>\n",
              "      <td>2</td>\n",
              "      <td>6</td>\n",
              "      <td>19</td>\n",
              "      <td>0.124</td>\n",
              "      <td>1.073</td>\n",
              "      <td>0.0</td>\n",
              "      <td>6.3</td>\n",
              "    </tr>\n",
              "    <tr>\n",
              "      <th>1</th>\n",
              "      <td>1</td>\n",
              "      <td>2</td>\n",
              "      <td>47</td>\n",
              "      <td>1</td>\n",
              "      <td>26</td>\n",
              "      <td>100</td>\n",
              "      <td>4.582</td>\n",
              "      <td>8.218</td>\n",
              "      <td>0.0</td>\n",
              "      <td>12.8</td>\n",
              "    </tr>\n",
              "    <tr>\n",
              "      <th>2</th>\n",
              "      <td>2</td>\n",
              "      <td>3</td>\n",
              "      <td>33</td>\n",
              "      <td>2</td>\n",
              "      <td>10</td>\n",
              "      <td>57</td>\n",
              "      <td>6.111</td>\n",
              "      <td>5.802</td>\n",
              "      <td>1.0</td>\n",
              "      <td>20.9</td>\n",
              "    </tr>\n",
              "    <tr>\n",
              "      <th>3</th>\n",
              "      <td>3</td>\n",
              "      <td>4</td>\n",
              "      <td>29</td>\n",
              "      <td>2</td>\n",
              "      <td>4</td>\n",
              "      <td>19</td>\n",
              "      <td>0.681</td>\n",
              "      <td>0.516</td>\n",
              "      <td>0.0</td>\n",
              "      <td>6.3</td>\n",
              "    </tr>\n",
              "    <tr>\n",
              "      <th>4</th>\n",
              "      <td>4</td>\n",
              "      <td>5</td>\n",
              "      <td>47</td>\n",
              "      <td>1</td>\n",
              "      <td>31</td>\n",
              "      <td>253</td>\n",
              "      <td>9.308</td>\n",
              "      <td>8.908</td>\n",
              "      <td>0.0</td>\n",
              "      <td>7.2</td>\n",
              "    </tr>\n",
              "  </tbody>\n",
              "</table>\n",
              "</div>\n",
              "      <button class=\"colab-df-convert\" onclick=\"convertToInteractive('df-0546311c-69d1-4a9c-85d8-1fcf6ffc3b65')\"\n",
              "              title=\"Convert this dataframe to an interactive table.\"\n",
              "              style=\"display:none;\">\n",
              "        \n",
              "  <svg xmlns=\"http://www.w3.org/2000/svg\" height=\"24px\"viewBox=\"0 0 24 24\"\n",
              "       width=\"24px\">\n",
              "    <path d=\"M0 0h24v24H0V0z\" fill=\"none\"/>\n",
              "    <path d=\"M18.56 5.44l.94 2.06.94-2.06 2.06-.94-2.06-.94-.94-2.06-.94 2.06-2.06.94zm-11 1L8.5 8.5l.94-2.06 2.06-.94-2.06-.94L8.5 2.5l-.94 2.06-2.06.94zm10 10l.94 2.06.94-2.06 2.06-.94-2.06-.94-.94-2.06-.94 2.06-2.06.94z\"/><path d=\"M17.41 7.96l-1.37-1.37c-.4-.4-.92-.59-1.43-.59-.52 0-1.04.2-1.43.59L10.3 9.45l-7.72 7.72c-.78.78-.78 2.05 0 2.83L4 21.41c.39.39.9.59 1.41.59.51 0 1.02-.2 1.41-.59l7.78-7.78 2.81-2.81c.8-.78.8-2.07 0-2.86zM5.41 20L4 18.59l7.72-7.72 1.47 1.35L5.41 20z\"/>\n",
              "  </svg>\n",
              "      </button>\n",
              "      \n",
              "  <style>\n",
              "    .colab-df-container {\n",
              "      display:flex;\n",
              "      flex-wrap:wrap;\n",
              "      gap: 12px;\n",
              "    }\n",
              "\n",
              "    .colab-df-convert {\n",
              "      background-color: #E8F0FE;\n",
              "      border: none;\n",
              "      border-radius: 50%;\n",
              "      cursor: pointer;\n",
              "      display: none;\n",
              "      fill: #1967D2;\n",
              "      height: 32px;\n",
              "      padding: 0 0 0 0;\n",
              "      width: 32px;\n",
              "    }\n",
              "\n",
              "    .colab-df-convert:hover {\n",
              "      background-color: #E2EBFA;\n",
              "      box-shadow: 0px 1px 2px rgba(60, 64, 67, 0.3), 0px 1px 3px 1px rgba(60, 64, 67, 0.15);\n",
              "      fill: #174EA6;\n",
              "    }\n",
              "\n",
              "    [theme=dark] .colab-df-convert {\n",
              "      background-color: #3B4455;\n",
              "      fill: #D2E3FC;\n",
              "    }\n",
              "\n",
              "    [theme=dark] .colab-df-convert:hover {\n",
              "      background-color: #434B5C;\n",
              "      box-shadow: 0px 1px 3px 1px rgba(0, 0, 0, 0.15);\n",
              "      filter: drop-shadow(0px 1px 2px rgba(0, 0, 0, 0.3));\n",
              "      fill: #FFFFFF;\n",
              "    }\n",
              "  </style>\n",
              "\n",
              "      <script>\n",
              "        const buttonEl =\n",
              "          document.querySelector('#df-0546311c-69d1-4a9c-85d8-1fcf6ffc3b65 button.colab-df-convert');\n",
              "        buttonEl.style.display =\n",
              "          google.colab.kernel.accessAllowed ? 'block' : 'none';\n",
              "\n",
              "        async function convertToInteractive(key) {\n",
              "          const element = document.querySelector('#df-0546311c-69d1-4a9c-85d8-1fcf6ffc3b65');\n",
              "          const dataTable =\n",
              "            await google.colab.kernel.invokeFunction('convertToInteractive',\n",
              "                                                     [key], {});\n",
              "          if (!dataTable) return;\n",
              "\n",
              "          const docLinkHtml = 'Like what you see? Visit the ' +\n",
              "            '<a target=\"_blank\" href=https://colab.research.google.com/notebooks/data_table.ipynb>data table notebook</a>'\n",
              "            + ' to learn more about interactive tables.';\n",
              "          element.innerHTML = '';\n",
              "          dataTable['output_type'] = 'display_data';\n",
              "          await google.colab.output.renderOutput(dataTable, element);\n",
              "          const docLink = document.createElement('div');\n",
              "          docLink.innerHTML = docLinkHtml;\n",
              "          element.appendChild(docLink);\n",
              "        }\n",
              "      </script>\n",
              "    </div>\n",
              "  </div>\n",
              "  "
            ],
            "text/plain": [
              "   Unnamed: 0  Customer Id  Age  ...  Other Debt  Defaulted  DebtIncomeRatio\n",
              "0           0            1   41  ...       1.073        0.0              6.3\n",
              "1           1            2   47  ...       8.218        0.0             12.8\n",
              "2           2            3   33  ...       5.802        1.0             20.9\n",
              "3           3            4   29  ...       0.516        0.0              6.3\n",
              "4           4            5   47  ...       8.908        0.0              7.2\n",
              "\n",
              "[5 rows x 10 columns]"
            ]
          },
          "metadata": {},
          "execution_count": 3
        }
      ]
    },
    {
      "cell_type": "code",
      "source": [
        "cust_df.info()"
      ],
      "metadata": {
        "colab": {
          "base_uri": "https://localhost:8080/"
        },
        "id": "wOJZwfUp3AHe",
        "outputId": "64abc84a-845e-4d60-8014-78a588e686ae"
      },
      "execution_count": 4,
      "outputs": [
        {
          "output_type": "stream",
          "name": "stdout",
          "text": [
            "<class 'pandas.core.frame.DataFrame'>\n",
            "RangeIndex: 850 entries, 0 to 849\n",
            "Data columns (total 10 columns):\n",
            " #   Column           Non-Null Count  Dtype  \n",
            "---  ------           --------------  -----  \n",
            " 0   Unnamed: 0       850 non-null    int64  \n",
            " 1   Customer Id      850 non-null    int64  \n",
            " 2   Age              850 non-null    int64  \n",
            " 3   Edu              850 non-null    int64  \n",
            " 4   Years Employed   850 non-null    int64  \n",
            " 5   Income           850 non-null    int64  \n",
            " 6   Card Debt        850 non-null    float64\n",
            " 7   Other Debt       850 non-null    float64\n",
            " 8   Defaulted        700 non-null    float64\n",
            " 9   DebtIncomeRatio  850 non-null    float64\n",
            "dtypes: float64(4), int64(6)\n",
            "memory usage: 66.5 KB\n"
          ]
        }
      ]
    },
    {
      "cell_type": "code",
      "source": [
        "cust_df.drop([\"Unnamed: 0\"], axis = \"columns\", inplace = True ) # elimino mi columna sin nombre ya que es una copia del indice "
      ],
      "metadata": {
        "id": "HAjElQaC3Mbz"
      },
      "execution_count": 5,
      "outputs": []
    },
    {
      "cell_type": "code",
      "source": [
        "cust_df.info()"
      ],
      "metadata": {
        "colab": {
          "base_uri": "https://localhost:8080/"
        },
        "id": "_0Fq5TFLr28R",
        "outputId": "6a170ab2-6967-42c7-ae0b-13cc6b7806c1"
      },
      "execution_count": 6,
      "outputs": [
        {
          "output_type": "stream",
          "name": "stdout",
          "text": [
            "<class 'pandas.core.frame.DataFrame'>\n",
            "RangeIndex: 850 entries, 0 to 849\n",
            "Data columns (total 9 columns):\n",
            " #   Column           Non-Null Count  Dtype  \n",
            "---  ------           --------------  -----  \n",
            " 0   Customer Id      850 non-null    int64  \n",
            " 1   Age              850 non-null    int64  \n",
            " 2   Edu              850 non-null    int64  \n",
            " 3   Years Employed   850 non-null    int64  \n",
            " 4   Income           850 non-null    int64  \n",
            " 5   Card Debt        850 non-null    float64\n",
            " 6   Other Debt       850 non-null    float64\n",
            " 7   Defaulted        700 non-null    float64\n",
            " 8   DebtIncomeRatio  850 non-null    float64\n",
            "dtypes: float64(4), int64(5)\n",
            "memory usage: 59.9 KB\n"
          ]
        }
      ]
    },
    {
      "cell_type": "code",
      "source": [
        "cust_df.columns= cust_df.columns.str.lower()#primero defino a todos los nombres de las columnas en letra minuscula"
      ],
      "metadata": {
        "id": "BQLGZO3LsGJv"
      },
      "execution_count": 7,
      "outputs": []
    },
    {
      "cell_type": "code",
      "source": [
        "cust_df.columns = cust_df.columns.str.replace(' ', '_') #en esta linea realizo el cambio de los espacios del nombre de las columnas por \n",
        "#el '_' "
      ],
      "metadata": {
        "id": "DSTpIoLJsPaH"
      },
      "execution_count": 9,
      "outputs": []
    },
    {
      "cell_type": "code",
      "source": [
        "cust_df.info()"
      ],
      "metadata": {
        "colab": {
          "base_uri": "https://localhost:8080/"
        },
        "id": "Mq-DbNGZsXGp",
        "outputId": "600e45c3-bf34-4892-aeeb-409278e59209"
      },
      "execution_count": 10,
      "outputs": [
        {
          "output_type": "stream",
          "name": "stdout",
          "text": [
            "<class 'pandas.core.frame.DataFrame'>\n",
            "RangeIndex: 850 entries, 0 to 849\n",
            "Data columns (total 9 columns):\n",
            " #   Column           Non-Null Count  Dtype  \n",
            "---  ------           --------------  -----  \n",
            " 0   customer_id      850 non-null    int64  \n",
            " 1   age              850 non-null    int64  \n",
            " 2   edu              850 non-null    int64  \n",
            " 3   years_employed   850 non-null    int64  \n",
            " 4   income           850 non-null    int64  \n",
            " 5   card_debt        850 non-null    float64\n",
            " 6   other_debt       850 non-null    float64\n",
            " 7   defaulted        700 non-null    float64\n",
            " 8   debtincomeratio  850 non-null    float64\n",
            "dtypes: float64(4), int64(5)\n",
            "memory usage: 59.9 KB\n"
          ]
        }
      ]
    },
    {
      "cell_type": "code",
      "source": [
        "list(cust_df.columns)"
      ],
      "metadata": {
        "colab": {
          "base_uri": "https://localhost:8080/"
        },
        "id": "B2bQXgIitHXP",
        "outputId": "69ea35ca-4886-4f34-f0ba-322aff46185b"
      },
      "execution_count": 12,
      "outputs": [
        {
          "output_type": "execute_result",
          "data": {
            "text/plain": [
              "['customer_id',\n",
              " 'age',\n",
              " 'edu',\n",
              " 'years_employed',\n",
              " 'income',\n",
              " 'card_debt',\n",
              " 'other_debt',\n",
              " 'defaulted',\n",
              " 'debtincomeratio']"
            ]
          },
          "metadata": {},
          "execution_count": 12
        }
      ]
    },
    {
      "cell_type": "markdown",
      "source": [
        "### Agrupamiento por clusters "
      ],
      "metadata": {
        "id": "Q2n0dSnKs5VL"
      }
    },
    {
      "cell_type": "code",
      "source": [
        "cust_df1 = cust_df[['age', 'edu']] #defino el data frame con las columnas que deseo trabajar "
      ],
      "metadata": {
        "id": "PZolj7Pps48u"
      },
      "execution_count": 16,
      "outputs": []
    },
    {
      "cell_type": "code",
      "source": [
        "cust_df1.info()"
      ],
      "metadata": {
        "colab": {
          "base_uri": "https://localhost:8080/"
        },
        "id": "CA1ImMLetiqf",
        "outputId": "379abecd-df45-49c7-eddc-0887844eda20"
      },
      "execution_count": 17,
      "outputs": [
        {
          "output_type": "stream",
          "name": "stdout",
          "text": [
            "<class 'pandas.core.frame.DataFrame'>\n",
            "RangeIndex: 850 entries, 0 to 849\n",
            "Data columns (total 2 columns):\n",
            " #   Column  Non-Null Count  Dtype\n",
            "---  ------  --------------  -----\n",
            " 0   age     850 non-null    int64\n",
            " 1   edu     850 non-null    int64\n",
            "dtypes: int64(2)\n",
            "memory usage: 13.4 KB\n"
          ]
        }
      ]
    },
    {
      "cell_type": "code",
      "source": [
        "from sklearn.preprocessing import StandardScaler #herramienta de escalado de datos "
      ],
      "metadata": {
        "id": "PGtwN0lotxXD"
      },
      "execution_count": 19,
      "outputs": []
    },
    {
      "cell_type": "code",
      "source": [
        "scaler = StandardScaler()\n",
        "scaled_df = scaler.fit_transform(cust_df1)#Creo mi base con datos escalados "
      ],
      "metadata": {
        "id": "LvcTDE1cw7zv"
      },
      "execution_count": 22,
      "outputs": []
    },
    {
      "cell_type": "code",
      "source": [
        "plt.scatter(cust_df['age'], cust_df['edu'])\n",
        "plt.xlabel('Edad del Consumidor')\n",
        "plt.ylabel('Educación del consumidor')"
      ],
      "metadata": {
        "colab": {
          "base_uri": "https://localhost:8080/",
          "height": 297
        },
        "id": "MzBGKthixHMu",
        "outputId": "46122b96-672f-45ff-f9a5-761c4cfbff26"
      },
      "execution_count": 23,
      "outputs": [
        {
          "output_type": "execute_result",
          "data": {
            "text/plain": [
              "Text(0, 0.5, 'Educación del consumidor')"
            ]
          },
          "metadata": {},
          "execution_count": 23
        },
        {
          "output_type": "display_data",
          "data": {
            "image/png": "[encoded data removed]",
            "text/plain": [
              "<Figure size 432x288 with 1 Axes>"
            ]
          },
          "metadata": {
            "needs_background": "light"
          }
        }
      ]
    },
    {
      "cell_type": "markdown",
      "source": [
        "#### Definicion de numero de clusters "
      ],
      "metadata": {
        "id": "wwMRtky80_jI"
      }
    },
    {
      "cell_type": "code",
      "source": [
        "from sklearn.cluster import KMeans #herarmienta de creacion de cluster "
      ],
      "metadata": {
        "id": "BRbNqij7151u"
      },
      "execution_count": 38,
      "outputs": []
    },
    {
      "cell_type": "code",
      "source": [
        "Sum_of_squared_distances = []\n",
        "K = range(1,10)\n",
        "for num_clusters in K :\n",
        " kmeans = KMeans(n_clusters=num_clusters)\n",
        " kmeans.fit(cust_df1)\n",
        " Sum_of_squared_distances.append(kmeans.inertia_)\n",
        "plt.plot(K,Sum_of_squared_distances,\"bx-\")\n",
        "plt.xlabel(\"Valores de  K\") \n",
        "plt.ylabel(\"Sum del cuadrado de las distancias\") \n",
        "plt.title(\"Metodo del codo\")\n",
        "plt.show() #este metodo nos permite crear una grafica que nos ayudara a identificar el nuemro de cluster necesarios para lo que buscamos "
      ],
      "metadata": {
        "colab": {
          "base_uri": "https://localhost:8080/",
          "height": 295
        },
        "id": "8gFHn2VP0_Uh",
        "outputId": "ce150cb5-1d29-4789-caa4-047ae3029878"
      },
      "execution_count": 46,
      "outputs": [
        {
          "output_type": "display_data",
          "data": {
            "image/png": "[encoded data removed]",
            "text/plain": [
              "<Figure size 432x288 with 1 Axes>"
            ]
          },
          "metadata": {
            "needs_background": "light"
          }
        }
      ]
    },
    {
      "cell_type": "code",
      "source": [
        "kmeans = KMeans(n_clusters = 3)\n",
        "kmeans.fit(scaled_df)"
      ],
      "metadata": {
        "colab": {
          "base_uri": "https://localhost:8080/"
        },
        "id": "Lu8Rr4HixmBI",
        "outputId": "8d2959fb-e27f-4291-82f7-43d746896fe3"
      },
      "execution_count": 44,
      "outputs": [
        {
          "output_type": "execute_result",
          "data": {
            "text/plain": [
              "KMeans(n_clusters=3)"
            ]
          },
          "metadata": {},
          "execution_count": 44
        }
      ]
    },
    {
      "cell_type": "code",
      "source": [
        "cust_df1['cluster'] = kmeans.labels_\n",
        "# Visualiza los clusters\n",
        "plt.scatter(cust_df1['age'], cust_df1['edu'], c = cust_df1['cluster'])\n",
        "plt.xlabel('Edad del Consumidor')\n",
        "plt.ylabel('Educación del consumidor')\n",
        "plt.title('Cluster de consumidores')"
      ],
      "metadata": {
        "colab": {
          "base_uri": "https://localhost:8080/",
          "height": 423
        },
        "id": "BRYKkSDlyN6k",
        "outputId": "5ed0d715-faf8-40fe-f707-2078341dc059"
      },
      "execution_count": 45,
      "outputs": [
        {
          "output_type": "stream",
          "name": "stderr",
          "text": [
            "/usr/local/lib/python3.7/dist-packages/ipykernel_launcher.py:1: SettingWithCopyWarning: \n",
            "A value is trying to be set on a copy of a slice from a DataFrame.\n",
            "Try using .loc[row_indexer,col_indexer] = value instead\n",
            "\n",
            "See the caveats in the documentation: https://pandas.pydata.org/pandas-docs/stable/user_guide/indexing.html#returning-a-view-versus-a-copy\n",
            "  \"\"\"Entry point for launching an IPython kernel.\n"
          ]
        },
        {
          "output_type": "execute_result",
          "data": {
            "text/plain": [
              "Text(0.5, 1.0, 'Cluster de consumidores')"
            ]
          },
          "metadata": {},
          "execution_count": 45
        },
        {
          "output_type": "display_data",
          "data": {
            "image/png": "[encoded data removed]",
            "text/plain": [
              "<Figure size 432x288 with 1 Axes>"
            ]
          },
          "metadata": {
            "needs_background": "light"
          }
        }
      ]
    },
    {
      "cell_type": "code",
      "source": [
        "cust_df2 = cust_df[['age', 'income']] #defino el data frame con las columnas que deseo trabajar \n",
        "scaler = StandardScaler()\n",
        "scaled_df = scaler.fit_transform(cust_df1)#Creo mi base con datos escalados "
      ],
      "metadata": {
        "id": "cDrSJltWAUXZ"
      },
      "execution_count": 48,
      "outputs": []
    },
    {
      "cell_type": "code",
      "source": [
        "plt.scatter(cust_df['age'], cust_df['income'])\n",
        "plt.xlabel('Edad del Consumidor')\n",
        "plt.ylabel('Ingreso del consumidor')"
      ],
      "metadata": {
        "colab": {
          "base_uri": "https://localhost:8080/",
          "height": 297
        },
        "id": "xc-FMsdPA-Pc",
        "outputId": "5896b3bd-d5c9-4701-e72d-dbe0231bc2d2"
      },
      "execution_count": 49,
      "outputs": [
        {
          "output_type": "execute_result",
          "data": {
            "text/plain": [
              "Text(0, 0.5, 'Ingreso del consumidor')"
            ]
          },
          "metadata": {},
          "execution_count": 49
        },
        {
          "output_type": "display_data",
          "data": {
            "image/png": "[encoded data removed]",
            "text/plain": [
              "<Figure size 432x288 with 1 Axes>"
            ]
          },
          "metadata": {
            "needs_background": "light"
          }
        }
      ]
    },
    {
      "cell_type": "code",
      "source": [
        "Sum_of_squared_distances = []\n",
        "K = range(1,10)\n",
        "for num_clusters in K :\n",
        " kmeans = KMeans(n_clusters=num_clusters)\n",
        " kmeans.fit(cust_df2)\n",
        " Sum_of_squared_distances.append(kmeans.inertia_)\n",
        "plt.plot(K,Sum_of_squared_distances,\"bx-\")\n",
        "plt.xlabel(\"Valores de  K\") \n",
        "plt.ylabel(\"Sum del cuadrado de las distancias\") \n",
        "plt.title(\"Metodo del codo\")\n",
        "plt.show() #este metodo nos permite crear una grafica que nos ayudara a identificar el nuemro de cluster necesarios para lo que buscamos "
      ],
      "metadata": {
        "colab": {
          "base_uri": "https://localhost:8080/",
          "height": 295
        },
        "id": "VQLArs-_BILM",
        "outputId": "13dc5c35-7a47-476a-decb-f17d8080e445"
      },
      "execution_count": 50,
      "outputs": [
        {
          "output_type": "display_data",
          "data": {
            "image/png": "[encoded data removed]",
            "text/plain": [
              "<Figure size 432x288 with 1 Axes>"
            ]
          },
          "metadata": {
            "needs_background": "light"
          }
        }
      ]
    },
    {
      "cell_type": "code",
      "source": [
        "kmeans1 = KMeans(n_clusters = 3)\n",
        "kmeans1.fit(scaled_df)"
      ],
      "metadata": {
        "colab": {
          "base_uri": "https://localhost:8080/"
        },
        "id": "S-0n84ItBbGt",
        "outputId": "278c7402-1922-424e-f1d0-29d32701e04d"
      },
      "execution_count": 51,
      "outputs": [
        {
          "output_type": "execute_result",
          "data": {
            "text/plain": [
              "KMeans(n_clusters=3)"
            ]
          },
          "metadata": {},
          "execution_count": 51
        }
      ]
    },
    {
      "cell_type": "code",
      "source": [
        "cust_df2['cluster'] = kmeans1.labels_\n",
        "# Visualiza los clusters\n",
        "plt.scatter(cust_df2['age'], cust_df2['income'], c = cust_df2['cluster'])\n",
        "plt.xlabel('Edad del Consumidor')\n",
        "plt.ylabel('Ingreso del consumidor')\n",
        "plt.title('Cluster de consumidores')"
      ],
      "metadata": {
        "colab": {
          "base_uri": "https://localhost:8080/",
          "height": 423
        },
        "id": "AwaZq4EjBh3A",
        "outputId": "688bc48e-c1c6-4d56-f813-56d3fc3ff0f2"
      },
      "execution_count": 54,
      "outputs": [
        {
          "output_type": "stream",
          "name": "stderr",
          "text": [
            "/usr/local/lib/python3.7/dist-packages/ipykernel_launcher.py:1: SettingWithCopyWarning: \n",
            "A value is trying to be set on a copy of a slice from a DataFrame.\n",
            "Try using .loc[row_indexer,col_indexer] = value instead\n",
            "\n",
            "See the caveats in the documentation: https://pandas.pydata.org/pandas-docs/stable/user_guide/indexing.html#returning-a-view-versus-a-copy\n",
            "  \"\"\"Entry point for launching an IPython kernel.\n"
          ]
        },
        {
          "output_type": "execute_result",
          "data": {
            "text/plain": [
              "Text(0.5, 1.0, 'Cluster de consumidores')"
            ]
          },
          "metadata": {},
          "execution_count": 54
        },
        {
          "output_type": "display_data",
          "data": {
            "image/png": "[encoded data removed]",
            "text/plain": [
              "<Figure size 432x288 with 1 Axes>"
            ]
          },
          "metadata": {
            "needs_background": "light"
          }
        }
      ]
    },
    {
      "cell_type": "markdown",
      "source": [
        "##### De los dos grupos realizados podemos observar que las personas que superan los 35 años tienen maypres ingresos, ademas podemos observar que on existe una tendencia entre la edad y los estudios alcanzados "
      ],
      "metadata": {
        "id": "6IswBpohB8pO"
      }
    }
  ]
}