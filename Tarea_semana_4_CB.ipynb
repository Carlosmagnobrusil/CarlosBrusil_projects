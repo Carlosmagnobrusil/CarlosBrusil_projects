{
  "cells": [
    {
      "cell_type": "markdown",
      "metadata": {
        "id": "view-in-github",
        "colab_type": "text"
      },
      "source": [
        "<a href=\"https://colab.research.google.com/github/Carlosmagnobrusil/CarlosBrusil_projects/blob/main/Tarea_semana_4_CB.ipynb\" target=\"_parent\"><img src=\"https://colab.research.google.com/assets/colab-badge.svg\" alt=\"Open In Colab\"/></a>"
      ]
    },
    {
      "cell_type": "markdown",
      "metadata": {
        "id": "Xt-aQJY0uHup"
      },
      "source": [
        "# **Deber semana 4**\n",
        "## *Creado por: Carlos Brusil*\n",
        "\n",
        "\n",
        "\n",
        "*   Fecha de Creación: 2 de febrero de 2023 \n",
        "*   Fechad de actualización: 2 de febrero de 2023 \n",
        "*   Descripción: Intervalo de confianza y prueba de hipótesis para la diferencia de medias\n"
      ]
    },
    {
      "cell_type": "markdown",
      "source": [
        "- La empresa Stats Health está desarrollando un análisis de [usabilidad](https://en.wikipedia.org/wiki/Usability) de un nuevo sistema informático de tele-rehabilitación para pacientes de artroplastia de cadera.\n",
        "  - Vea: https://ieeexplore.ieee.org/stamp/stamp.jsp?arnumber=8606428\n",
        "\n",
        "- Stats Health ha recopilado un dataset acerca de la usabilidad de la interfaz del sistema que contiene:\n",
        "  - Variables de uso de la aplicación: **Time**, y la escala de usabilidad dada por el usuario: **SUS**.\n",
        "  - Variables demográficas del usuario, Género (**Gender**), Edad (**Age**), entre otras.\n",
        "\n",
        "### Problema: Stats Health"
      ],
      "metadata": {
        "id": "yU677CeXvEtN"
      }
    },
    {
      "cell_type": "code",
      "execution_count": 1,
      "metadata": {
        "id": "Zw_ejEoduHut"
      },
      "outputs": [],
      "source": [
        "import pandas as pd #importo la libreria panda permite manipular y molderar los datos \n",
        "import numpy as np #importo la libreria numpy manipular y molderar los datos \n",
        "import matplotlib.pyplot as plt #importo libreria matplotlib que es una libreria que me permite realizar graficas en 2 dimensiones de de mis datos\n",
        "import seaborn as sns #Esta libreria nos permite modificar la vizualizacion de los datos atraves de los coleres y mejorar presetancion de los mismo "
      ]
    },
    {
      "cell_type": "code",
      "execution_count": 2,
      "metadata": {
        "id": "M3QCNGqTuHuv",
        "outputId": "796ca206-7887-4e41-ea80-79c218d3e533",
        "colab": {
          "base_uri": "https://localhost:8080/",
          "height": 206
        }
      },
      "outputs": [
        {
          "output_type": "execute_result",
          "data": {
            "text/plain": [
              "    SUS   Time       ID Gender     Age   Kinect      NUI Games\n",
              "0  42.5  179.3  student      M  twenty     high  average  high\n",
              "1  92.5  153.3  student      M  twenty     high     high  high\n",
              "2  95.0  135.7  student      M  twenty  average  average  high\n",
              "3  92.5  148.3  student      F  twenty  average     high  high\n",
              "4  80.0  148.0  student      M  twenty  average  average  high"
            ],
            "text/html": [
              "\n",
              "  <div id=\"df-5dcc6c62-9a46-4ce3-a928-994ecf3e90f7\">\n",
              "    <div class=\"colab-df-container\">\n",
              "      <div>\n",
              "<style scoped>\n",
              "    .dataframe tbody tr th:only-of-type {\n",
              "        vertical-align: middle;\n",
              "    }\n",
              "\n",
              "    .dataframe tbody tr th {\n",
              "        vertical-align: top;\n",
              "    }\n",
              "\n",
              "    .dataframe thead th {\n",
              "        text-align: right;\n",
              "    }\n",
              "</style>\n",
              "<table border=\"1\" class=\"dataframe\">\n",
              "  <thead>\n",
              "    <tr style=\"text-align: right;\">\n",
              "      <th></th>\n",
              "      <th>SUS</th>\n",
              "      <th>Time</th>\n",
              "      <th>ID</th>\n",
              "      <th>Gender</th>\n",
              "      <th>Age</th>\n",
              "      <th>Kinect</th>\n",
              "      <th>NUI</th>\n",
              "      <th>Games</th>\n",
              "    </tr>\n",
              "  </thead>\n",
              "  <tbody>\n",
              "    <tr>\n",
              "      <th>0</th>\n",
              "      <td>42.5</td>\n",
              "      <td>179.3</td>\n",
              "      <td>student</td>\n",
              "      <td>M</td>\n",
              "      <td>twenty</td>\n",
              "      <td>high</td>\n",
              "      <td>average</td>\n",
              "      <td>high</td>\n",
              "    </tr>\n",
              "    <tr>\n",
              "      <th>1</th>\n",
              "      <td>92.5</td>\n",
              "      <td>153.3</td>\n",
              "      <td>student</td>\n",
              "      <td>M</td>\n",
              "      <td>twenty</td>\n",
              "      <td>high</td>\n",
              "      <td>high</td>\n",
              "      <td>high</td>\n",
              "    </tr>\n",
              "    <tr>\n",
              "      <th>2</th>\n",
              "      <td>95.0</td>\n",
              "      <td>135.7</td>\n",
              "      <td>student</td>\n",
              "      <td>M</td>\n",
              "      <td>twenty</td>\n",
              "      <td>average</td>\n",
              "      <td>average</td>\n",
              "      <td>high</td>\n",
              "    </tr>\n",
              "    <tr>\n",
              "      <th>3</th>\n",
              "      <td>92.5</td>\n",
              "      <td>148.3</td>\n",
              "      <td>student</td>\n",
              "      <td>F</td>\n",
              "      <td>twenty</td>\n",
              "      <td>average</td>\n",
              "      <td>high</td>\n",
              "      <td>high</td>\n",
              "    </tr>\n",
              "    <tr>\n",
              "      <th>4</th>\n",
              "      <td>80.0</td>\n",
              "      <td>148.0</td>\n",
              "      <td>student</td>\n",
              "      <td>M</td>\n",
              "      <td>twenty</td>\n",
              "      <td>average</td>\n",
              "      <td>average</td>\n",
              "      <td>high</td>\n",
              "    </tr>\n",
              "  </tbody>\n",
              "</table>\n",
              "</div>\n",
              "      <button class=\"colab-df-convert\" onclick=\"convertToInteractive('df-5dcc6c62-9a46-4ce3-a928-994ecf3e90f7')\"\n",
              "              title=\"Convert this dataframe to an interactive table.\"\n",
              "              style=\"display:none;\">\n",
              "        \n",
              "  <svg xmlns=\"http://www.w3.org/2000/svg\" height=\"24px\"viewBox=\"0 0 24 24\"\n",
              "       width=\"24px\">\n",
              "    <path d=\"M0 0h24v24H0V0z\" fill=\"none\"/>\n",
              "    <path d=\"M18.56 5.44l.94 2.06.94-2.06 2.06-.94-2.06-.94-.94-2.06-.94 2.06-2.06.94zm-11 1L8.5 8.5l.94-2.06 2.06-.94-2.06-.94L8.5 2.5l-.94 2.06-2.06.94zm10 10l.94 2.06.94-2.06 2.06-.94-2.06-.94-.94-2.06-.94 2.06-2.06.94z\"/><path d=\"M17.41 7.96l-1.37-1.37c-.4-.4-.92-.59-1.43-.59-.52 0-1.04.2-1.43.59L10.3 9.45l-7.72 7.72c-.78.78-.78 2.05 0 2.83L4 21.41c.39.39.9.59 1.41.59.51 0 1.02-.2 1.41-.59l7.78-7.78 2.81-2.81c.8-.78.8-2.07 0-2.86zM5.41 20L4 18.59l7.72-7.72 1.47 1.35L5.41 20z\"/>\n",
              "  </svg>\n",
              "      </button>\n",
              "      \n",
              "  <style>\n",
              "    .colab-df-container {\n",
              "      display:flex;\n",
              "      flex-wrap:wrap;\n",
              "      gap: 12px;\n",
              "    }\n",
              "\n",
              "    .colab-df-convert {\n",
              "      background-color: #E8F0FE;\n",
              "      border: none;\n",
              "      border-radius: 50%;\n",
              "      cursor: pointer;\n",
              "      display: none;\n",
              "      fill: #1967D2;\n",
              "      height: 32px;\n",
              "      padding: 0 0 0 0;\n",
              "      width: 32px;\n",
              "    }\n",
              "\n",
              "    .colab-df-convert:hover {\n",
              "      background-color: #E2EBFA;\n",
              "      box-shadow: 0px 1px 2px rgba(60, 64, 67, 0.3), 0px 1px 3px 1px rgba(60, 64, 67, 0.15);\n",
              "      fill: #174EA6;\n",
              "    }\n",
              "\n",
              "    [theme=dark] .colab-df-convert {\n",
              "      background-color: #3B4455;\n",
              "      fill: #D2E3FC;\n",
              "    }\n",
              "\n",
              "    [theme=dark] .colab-df-convert:hover {\n",
              "      background-color: #434B5C;\n",
              "      box-shadow: 0px 1px 3px 1px rgba(0, 0, 0, 0.15);\n",
              "      filter: drop-shadow(0px 1px 2px rgba(0, 0, 0, 0.3));\n",
              "      fill: #FFFFFF;\n",
              "    }\n",
              "  </style>\n",
              "\n",
              "      <script>\n",
              "        const buttonEl =\n",
              "          document.querySelector('#df-5dcc6c62-9a46-4ce3-a928-994ecf3e90f7 button.colab-df-convert');\n",
              "        buttonEl.style.display =\n",
              "          google.colab.kernel.accessAllowed ? 'block' : 'none';\n",
              "\n",
              "        async function convertToInteractive(key) {\n",
              "          const element = document.querySelector('#df-5dcc6c62-9a46-4ce3-a928-994ecf3e90f7');\n",
              "          const dataTable =\n",
              "            await google.colab.kernel.invokeFunction('convertToInteractive',\n",
              "                                                     [key], {});\n",
              "          if (!dataTable) return;\n",
              "\n",
              "          const docLinkHtml = 'Like what you see? Visit the ' +\n",
              "            '<a target=\"_blank\" href=https://colab.research.google.com/notebooks/data_table.ipynb>data table notebook</a>'\n",
              "            + ' to learn more about interactive tables.';\n",
              "          element.innerHTML = '';\n",
              "          dataTable['output_type'] = 'display_data';\n",
              "          await google.colab.output.renderOutput(dataTable, element);\n",
              "          const docLink = document.createElement('div');\n",
              "          docLink.innerHTML = docLinkHtml;\n",
              "          element.appendChild(docLink);\n",
              "        }\n",
              "      </script>\n",
              "    </div>\n",
              "  </div>\n",
              "  "
            ]
          },
          "metadata": {},
          "execution_count": 2
        }
      ],
      "source": [
        "sh_df = pd.read_csv(\"https://raw.githubusercontent.com/marsgr6/EN-online/8a1cee296279c274d8f05f3905fce97c1f7636a2/data/UX_data.csv\") #llamo a la base desde un repositorio de Github\n",
        "sh_df.head()"
      ]
    },
    {
      "cell_type": "code",
      "source": [
        "sh_df.describe()"
      ],
      "metadata": {
        "colab": {
          "base_uri": "https://localhost:8080/",
          "height": 300
        },
        "id": "7Wz8tSmswwT2",
        "outputId": "d6f9704f-df07-4894-e847-bf56eeb0bb79"
      },
      "execution_count": 3,
      "outputs": [
        {
          "output_type": "execute_result",
          "data": {
            "text/plain": [
              "             SUS        Time\n",
              "count  30.000000   30.000000\n",
              "mean   76.083333  157.500000\n",
              "std    14.616997   22.399415\n",
              "min    40.000000  112.700000\n",
              "25%    68.125000  140.025000\n",
              "50%    78.750000  159.700000\n",
              "75%    87.500000  177.050000\n",
              "max    95.000000  188.300000"
            ],
            "text/html": [
              "\n",
              "  <div id=\"df-dbc28455-58dc-47ca-bb7e-3f4b68401ba8\">\n",
              "    <div class=\"colab-df-container\">\n",
              "      <div>\n",
              "<style scoped>\n",
              "    .dataframe tbody tr th:only-of-type {\n",
              "        vertical-align: middle;\n",
              "    }\n",
              "\n",
              "    .dataframe tbody tr th {\n",
              "        vertical-align: top;\n",
              "    }\n",
              "\n",
              "    .dataframe thead th {\n",
              "        text-align: right;\n",
              "    }\n",
              "</style>\n",
              "<table border=\"1\" class=\"dataframe\">\n",
              "  <thead>\n",
              "    <tr style=\"text-align: right;\">\n",
              "      <th></th>\n",
              "      <th>SUS</th>\n",
              "      <th>Time</th>\n",
              "    </tr>\n",
              "  </thead>\n",
              "  <tbody>\n",
              "    <tr>\n",
              "      <th>count</th>\n",
              "      <td>30.000000</td>\n",
              "      <td>30.000000</td>\n",
              "    </tr>\n",
              "    <tr>\n",
              "      <th>mean</th>\n",
              "      <td>76.083333</td>\n",
              "      <td>157.500000</td>\n",
              "    </tr>\n",
              "    <tr>\n",
              "      <th>std</th>\n",
              "      <td>14.616997</td>\n",
              "      <td>22.399415</td>\n",
              "    </tr>\n",
              "    <tr>\n",
              "      <th>min</th>\n",
              "      <td>40.000000</td>\n",
              "      <td>112.700000</td>\n",
              "    </tr>\n",
              "    <tr>\n",
              "      <th>25%</th>\n",
              "      <td>68.125000</td>\n",
              "      <td>140.025000</td>\n",
              "    </tr>\n",
              "    <tr>\n",
              "      <th>50%</th>\n",
              "      <td>78.750000</td>\n",
              "      <td>159.700000</td>\n",
              "    </tr>\n",
              "    <tr>\n",
              "      <th>75%</th>\n",
              "      <td>87.500000</td>\n",
              "      <td>177.050000</td>\n",
              "    </tr>\n",
              "    <tr>\n",
              "      <th>max</th>\n",
              "      <td>95.000000</td>\n",
              "      <td>188.300000</td>\n",
              "    </tr>\n",
              "  </tbody>\n",
              "</table>\n",
              "</div>\n",
              "      <button class=\"colab-df-convert\" onclick=\"convertToInteractive('df-dbc28455-58dc-47ca-bb7e-3f4b68401ba8')\"\n",
              "              title=\"Convert this dataframe to an interactive table.\"\n",
              "              style=\"display:none;\">\n",
              "        \n",
              "  <svg xmlns=\"http://www.w3.org/2000/svg\" height=\"24px\"viewBox=\"0 0 24 24\"\n",
              "       width=\"24px\">\n",
              "    <path d=\"M0 0h24v24H0V0z\" fill=\"none\"/>\n",
              "    <path d=\"M18.56 5.44l.94 2.06.94-2.06 2.06-.94-2.06-.94-.94-2.06-.94 2.06-2.06.94zm-11 1L8.5 8.5l.94-2.06 2.06-.94-2.06-.94L8.5 2.5l-.94 2.06-2.06.94zm10 10l.94 2.06.94-2.06 2.06-.94-2.06-.94-.94-2.06-.94 2.06-2.06.94z\"/><path d=\"M17.41 7.96l-1.37-1.37c-.4-.4-.92-.59-1.43-.59-.52 0-1.04.2-1.43.59L10.3 9.45l-7.72 7.72c-.78.78-.78 2.05 0 2.83L4 21.41c.39.39.9.59 1.41.59.51 0 1.02-.2 1.41-.59l7.78-7.78 2.81-2.81c.8-.78.8-2.07 0-2.86zM5.41 20L4 18.59l7.72-7.72 1.47 1.35L5.41 20z\"/>\n",
              "  </svg>\n",
              "      </button>\n",
              "      \n",
              "  <style>\n",
              "    .colab-df-container {\n",
              "      display:flex;\n",
              "      flex-wrap:wrap;\n",
              "      gap: 12px;\n",
              "    }\n",
              "\n",
              "    .colab-df-convert {\n",
              "      background-color: #E8F0FE;\n",
              "      border: none;\n",
              "      border-radius: 50%;\n",
              "      cursor: pointer;\n",
              "      display: none;\n",
              "      fill: #1967D2;\n",
              "      height: 32px;\n",
              "      padding: 0 0 0 0;\n",
              "      width: 32px;\n",
              "    }\n",
              "\n",
              "    .colab-df-convert:hover {\n",
              "      background-color: #E2EBFA;\n",
              "      box-shadow: 0px 1px 2px rgba(60, 64, 67, 0.3), 0px 1px 3px 1px rgba(60, 64, 67, 0.15);\n",
              "      fill: #174EA6;\n",
              "    }\n",
              "\n",
              "    [theme=dark] .colab-df-convert {\n",
              "      background-color: #3B4455;\n",
              "      fill: #D2E3FC;\n",
              "    }\n",
              "\n",
              "    [theme=dark] .colab-df-convert:hover {\n",
              "      background-color: #434B5C;\n",
              "      box-shadow: 0px 1px 3px 1px rgba(0, 0, 0, 0.15);\n",
              "      filter: drop-shadow(0px 1px 2px rgba(0, 0, 0, 0.3));\n",
              "      fill: #FFFFFF;\n",
              "    }\n",
              "  </style>\n",
              "\n",
              "      <script>\n",
              "        const buttonEl =\n",
              "          document.querySelector('#df-dbc28455-58dc-47ca-bb7e-3f4b68401ba8 button.colab-df-convert');\n",
              "        buttonEl.style.display =\n",
              "          google.colab.kernel.accessAllowed ? 'block' : 'none';\n",
              "\n",
              "        async function convertToInteractive(key) {\n",
              "          const element = document.querySelector('#df-dbc28455-58dc-47ca-bb7e-3f4b68401ba8');\n",
              "          const dataTable =\n",
              "            await google.colab.kernel.invokeFunction('convertToInteractive',\n",
              "                                                     [key], {});\n",
              "          if (!dataTable) return;\n",
              "\n",
              "          const docLinkHtml = 'Like what you see? Visit the ' +\n",
              "            '<a target=\"_blank\" href=https://colab.research.google.com/notebooks/data_table.ipynb>data table notebook</a>'\n",
              "            + ' to learn more about interactive tables.';\n",
              "          element.innerHTML = '';\n",
              "          dataTable['output_type'] = 'display_data';\n",
              "          await google.colab.output.renderOutput(dataTable, element);\n",
              "          const docLink = document.createElement('div');\n",
              "          docLink.innerHTML = docLinkHtml;\n",
              "          element.appendChild(docLink);\n",
              "        }\n",
              "      </script>\n",
              "    </div>\n",
              "  </div>\n",
              "  "
            ]
          },
          "metadata": {},
          "execution_count": 3
        }
      ]
    },
    {
      "cell_type": "code",
      "source": [
        "#Obtengo informacion de mi data frame \n",
        "sh_df.info()"
      ],
      "metadata": {
        "colab": {
          "base_uri": "https://localhost:8080/"
        },
        "id": "mgyRJoSvwTR7",
        "outputId": "853931eb-5a20-4730-ba71-151c7eda6f60"
      },
      "execution_count": 4,
      "outputs": [
        {
          "output_type": "stream",
          "name": "stdout",
          "text": [
            "<class 'pandas.core.frame.DataFrame'>\n",
            "RangeIndex: 30 entries, 0 to 29\n",
            "Data columns (total 8 columns):\n",
            " #   Column  Non-Null Count  Dtype  \n",
            "---  ------  --------------  -----  \n",
            " 0   SUS     30 non-null     float64\n",
            " 1   Time    30 non-null     float64\n",
            " 2   ID      30 non-null     object \n",
            " 3   Gender  30 non-null     object \n",
            " 4   Age     30 non-null     object \n",
            " 5   Kinect  30 non-null     object \n",
            " 6   NUI     30 non-null     object \n",
            " 7   Games   30 non-null     object \n",
            "dtypes: float64(2), object(6)\n",
            "memory usage: 2.0+ KB\n"
          ]
        }
      ]
    },
    {
      "cell_type": "markdown",
      "source": [
        "### 1.Escriba el código Python para construir un diagrama de cajas que muestre el género (**Gender**) en $x$ y el tiempo de ejecución de la tarea (**Time**) en $y$.\n",
        "  - **Discuta:** Observa diferencia en el tiempo de ejecución de la tarea en sistema (Time) realizada por los usuarios de acuerdo al género (Gender). Realice el análisis con respecto a la información mostrada en el diagrama de cajas (resumen de 5 puntos, posición (de los cuartiles), dispersión (IQR, bigotes), etc.)."
      ],
      "metadata": {
        "id": "U-LOTtWb1yTS"
      }
    },
    {
      "cell_type": "code",
      "source": [
        "sns.boxplot(data=sh_df, x=\"Gender\", y=\"Time\")\n",
        "plt.plot(sh_df.groupby(\"Gender\").mean()['Time'], 'Pk')"
      ],
      "metadata": {
        "colab": {
          "base_uri": "https://localhost:8080/",
          "height": 297
        },
        "id": "lQMqCa_QxP8D",
        "outputId": "22f5fe21-1af9-4bfe-87c0-0ff004c3e7ca"
      },
      "execution_count": 5,
      "outputs": [
        {
          "output_type": "execute_result",
          "data": {
            "text/plain": [
              "[<matplotlib.lines.Line2D at 0x7fc8657a4760>]"
            ]
          },
          "metadata": {},
          "execution_count": 5
        },
        {
          "output_type": "display_data",
          "data": {
            "text/plain": [
              "<Figure size 432x288 with 1 Axes>"
            ],
            "image/png": "[encoded data removed]"
          },
          "metadata": {
            "needs_background": "light"
          }
        }
      ]
    },
    {
      "cell_type": "markdown",
      "source": [
        "##### Para entender de mejor manera el grafico debemos destacar primero que la disperción donde vemos que los datos se encuentran mas cercano cuando hablamos del tiempo de ejecución de las mujeres pero tambien bemos que la mediana de su tiempo es mayor que el de los hombres,sin embargo, vemos que el promedio de la repuesta de los hombres ees menos. Otro punto a observar es que los rangos interquartiles que presentan en la grafica son mas grandes dentro de los hombres loq ue indiaca que los valores mínimo y máximo tienen una mayor distancia razoin por la cual se podria entender que el promedio se menor en hombres que en mujeres.  "
      ],
      "metadata": {
        "id": "Pb5fg5Ap1ulF"
      }
    },
    {
      "cell_type": "markdown",
      "source": [
        "### 2. Escriba el código Python para construir un diagrama de líneas con barras de error (CI: 0.95) que muestre el género (**Gender**) en $x$ y el tiempo de ejecución de la tarea (**Time**) en $y$.\n",
        "\n",
        "  - **Discuta:** Observa diferencia en el tiempo de ejecución de la tarea en sistema (Time) por los usuarios de acuerdo al género (Gender). "
      ],
      "metadata": {
        "id": "pSHLcaSP7BTO"
      }
    },
    {
      "cell_type": "code",
      "source": [
        "sns.lineplot(data= sh_df, x=\"Gender\", y=\"Time\", err_style=\"bars\", ci=95, estimator='mean')"
      ],
      "metadata": {
        "colab": {
          "base_uri": "https://localhost:8080/",
          "height": 297
        },
        "id": "wboQHhdC6rB0",
        "outputId": "ab2b60df-a0df-4684-900d-6e861824e139"
      },
      "execution_count": 6,
      "outputs": [
        {
          "output_type": "execute_result",
          "data": {
            "text/plain": [
              "<matplotlib.axes._subplots.AxesSubplot at 0x7fc86526e520>"
            ]
          },
          "metadata": {},
          "execution_count": 6
        },
        {
          "output_type": "display_data",
          "data": {
            "text/plain": [
              "<Figure size 432x288 with 1 Axes>"
            ],
            "image/png": "[encoded data removed]"
          },
          "metadata": {
            "needs_background": "light"
          }
        }
      ]
    },
    {
      "cell_type": "markdown",
      "source": [
        "#### Cuando observamos este grafico podemos reafirmar dos comentarios de la linea anterior donde observamos que el intervalo de confianza de los hombres es mas grande esto se debe a la disperción de los datos, tambien prodiamos decir que el tiempo de respuesta es mayor cuando hablamos del género femenino, sin embargo como vimos en la parte superior esto nos podria hacer caer el la ilusion de los promedios."
      ],
      "metadata": {
        "id": "G-5V4wVD7psa"
      }
    },
    {
      "cell_type": "markdown",
      "source": [
        "### 4. Realice una prueba de dos varianzas para los grupos masculino y femenino (**Gender**). \n",
        "  - Escriba (reutilce) el código Python.\n",
        "  - **Discuta** los resultados. "
      ],
      "metadata": {
        "id": "obZ8YB627ppe"
      }
    },
    {
      "cell_type": "code",
      "source": [
        "sns.kdeplot(data=sh_df, x='Time', hue='Gender', fill=True, common_norm=False, alpha=0.2)"
      ],
      "metadata": {
        "colab": {
          "base_uri": "https://localhost:8080/",
          "height": 297
        },
        "id": "xi4bRusk7oJA",
        "outputId": "4263a4f7-f1f4-449a-8a9e-953deabb1cce"
      },
      "execution_count": 7,
      "outputs": [
        {
          "output_type": "execute_result",
          "data": {
            "text/plain": [
              "<matplotlib.axes._subplots.AxesSubplot at 0x7fc865202dc0>"
            ]
          },
          "metadata": {},
          "execution_count": 7
        },
        {
          "output_type": "display_data",
          "data": {
            "text/plain": [
              "<Figure size 432x288 with 1 Axes>"
            ],
            "image/png": "[encoded data removed]"
          },
          "metadata": {
            "needs_background": "light"
          }
        }
      ]
    },
    {
      "cell_type": "markdown",
      "source": [
        "#### En la presente gráfica podemos observar que la distribucion de los hombre se acerca mas a una distribución normal ya que las colas no se van con mayor varha y se obseva una campana mas estructurada mientras que la distribucion de los tiempos de respuesta de las mujeres se observa que existe una mayor carga en su cola dizquirda por lo cual podriamos decir que presenta un sego."
      ],
      "metadata": {
        "id": "ubitT82N-ShN"
      }
    },
    {
      "cell_type": "markdown",
      "source": [
        "### 5. A partir de la prueba anterior realice una prueba de diferencias de medias para los grupos masculino y femenino (**Gender**).\n",
        "  - Escriba (reutilce) el código Python.\n",
        "  - **Discuta** los resultados. "
      ],
      "metadata": {
        "id": "av4Z_1sd-03w"
      }
    },
    {
      "cell_type": "code",
      "source": [
        "timem= sh_df.query('Gender == \"M\"')['Time']\n",
        "timef = sh_df.query('Gender == \"F\"')['Time']\n",
        "\n",
        "timem.describe(), timef.describe()"
      ],
      "metadata": {
        "colab": {
          "base_uri": "https://localhost:8080/"
        },
        "id": "Zox4wIvU-0av",
        "outputId": "9dc82fc7-2cb8-435b-c112-1c5f196c348d"
      },
      "execution_count": 8,
      "outputs": [
        {
          "output_type": "execute_result",
          "data": {
            "text/plain": [
              "(count     20.000000\n",
              " mean     150.155000\n",
              " std       21.893582\n",
              " min      112.700000\n",
              " 25%      135.600000\n",
              " 50%      148.650000\n",
              " 75%      167.300000\n",
              " max      185.300000\n",
              " Name: Time, dtype: float64, count     10.000000\n",
              " mean     172.190000\n",
              " std       15.656341\n",
              " min      144.000000\n",
              " 25%      165.975000\n",
              " 50%      175.500000\n",
              " 75%      184.750000\n",
              " max      188.300000\n",
              " Name: Time, dtype: float64)"
            ]
          },
          "metadata": {},
          "execution_count": 8
        }
      ]
    },
    {
      "cell_type": "code",
      "source": [
        "# importamos distribución F\n",
        "from scipy.stats import f\n",
        "\n",
        "def f_test(*args, alpha=0.05, alternative='two-sided'):\n",
        "    # *args: array o lista\n",
        "    if len(args) == 2:\n",
        "        x = np.array(args[0])\n",
        "        y = np.array(args[1])\n",
        "        dfx = x.size-1  # define grados de libertad del numerador \n",
        "        dfy = y.size-1  # define grados de libertad del denominador \n",
        "        fp = np.var(x, ddof=1)/np.var(y, ddof=1)  # calcula F test statistic \n",
        "    # *args: varianzas\n",
        "    else:\n",
        "        fp = args[0] / args[1]  # calcula F test statistic\n",
        "        nx = args[2]\n",
        "        ny = args[3]\n",
        "        dfx = nx-1  # define grados de libertad del numerador\n",
        "        dfy = ny-1  # define grados de libertad del denominador \n",
        "    \n",
        "    alpha_c = alpha\n",
        "    if alternative=='two-sided': alpha_c = alpha_c / 2\n",
        "    f_critical = f.ppf(alpha_c, dfx, dfy), f.ppf(1-alpha_c, dfx, dfy)\n",
        "    f_areas = f.cdf(fp, dfx, dfy), 1-f.cdf(fp, dfx, dfy)  # areas colas\n",
        "    \n",
        "    colas = {'less': {'p-value': f_areas[0], \"f-value\": f_critical[0]}, \n",
        "             'greater': {'p-value': f_areas[1], \"f-value\": f_critical[1]},\n",
        "             'two-sided': {'p-value': min(f_areas)*2, \"f-value\": f_critical}\n",
        "            }\n",
        "    return {\"F-test result\": {\"statistic\": fp, \n",
        "                       \"p-value\": colas[alternative]['p-value']},\n",
        "                       \"f-value\": colas[alternative]['f-value'],\n",
        "                       \"alpha\": alpha}\n",
        "\n",
        "f_test(timem, timef)"
      ],
      "metadata": {
        "colab": {
          "base_uri": "https://localhost:8080/"
        },
        "id": "cf1qT8vAxVss",
        "outputId": "93e84493-4953-48e0-fc8f-5d693f114bf7"
      },
      "execution_count": 11,
      "outputs": [
        {
          "output_type": "execute_result",
          "data": {
            "text/plain": [
              "{'F-test result': {'statistic': 1.9554788086399444,\n",
              "  'p-value': 0.3032106717119911},\n",
              " 'f-value': (0.34721594741232176, 3.6833380832180525),\n",
              " 'alpha': 0.05}"
            ]
          },
          "metadata": {},
          "execution_count": 11
        }
      ]
    },
    {
      "cell_type": "markdown",
      "source": [
        "#### Al revisar el p-value es mayor a nuestro alpha por lo cual aceptamos nuestra hipotesis que me indica mis varianzas son iguales "
      ],
      "metadata": {
        "id": "-DgkGG9wyR1N"
      }
    },
    {
      "cell_type": "code",
      "source": [
        "from scipy.stats import ttest_ind\n",
        "\n",
        "meanm = timem.mean()\n",
        "meanf = timef.mean()\n",
        "ttest_ind(timem, timef, \n",
        "          equal_var=True, alternative='two-sided'), \"Diferencia\", meanm - meanf"
      ],
      "metadata": {
        "colab": {
          "base_uri": "https://localhost:8080/"
        },
        "id": "sHfWIpbuAj-2",
        "outputId": "3184d153-7c2c-44a7-fb1f-3ecb0847528e"
      },
      "execution_count": 10,
      "outputs": [
        {
          "output_type": "execute_result",
          "data": {
            "text/plain": [
              "(Ttest_indResult(statistic=-2.8304210808891264, pvalue=0.00850683391306472),\n",
              " 'Diferencia',\n",
              " -22.034999999999968)"
            ]
          },
          "metadata": {},
          "execution_count": 10
        }
      ]
    },
    {
      "cell_type": "markdown",
      "source": [
        "#### La diferencia una vez asumido las varianxzas iguale spodemos entender que el valor medio del tiempo de respuesta en el programa por parte de los hombres es menor en 22.034 que el tiempo de respuesta de las mujeres "
      ],
      "metadata": {
        "id": "UTpKwkn_z9NJ"
      }
    }
  ],
  "metadata": {
    "kernelspec": {
      "display_name": "Python 3 (ipykernel)",
      "language": "python",
      "name": "python3"
    },
    "language_info": {
      "codemirror_mode": {
        "name": "ipython",
        "version": 3
      },
      "file_extension": ".py",
      "mimetype": "text/x-python",
      "name": "python",
      "nbconvert_exporter": "python",
      "pygments_lexer": "ipython3",
      "version": "3.9.13"
    },
    "colab": {
      "provenance": [],
      "include_colab_link": true
    }
  },
  "nbformat": 4,
  "nbformat_minor": 0
}