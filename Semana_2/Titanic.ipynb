{
  "nbformat": 4,
  "nbformat_minor": 0,
  "metadata": {
    "colab": {
      "name": "Titanic.ipynb",
      "provenance": [],
      "collapsed_sections": [],
      "authorship_tag": "ABX9TyM+J0o+njsJX/zeG+P+SHhk",
      "include_colab_link": true
    },
    "kernelspec": {
      "name": "python3",
      "display_name": "Python 3"
    },
    "language_info": {
      "name": "python"
    }
  },
  "cells": [
    {
      "cell_type": "markdown",
      "metadata": {
        "id": "view-in-github",
        "colab_type": "text"
      },
      "source": [
        "<a href=\"https://colab.research.google.com/github/Carlosmagnobrusil/CarlosBrusil_projects/blob/main/Semana_2/Titanic.ipynb\" target=\"_parent\"><img src=\"https://colab.research.google.com/assets/colab-badge.svg\" alt=\"Open In Colab\"/></a>"
      ]
    },
    {
      "cell_type": "markdown",
      "source": [
        "#**Datos Titanic**\n",
        "## *Creado por: Carlos Brusil*\n",
        "\n",
        "\n",
        "\n",
        "*   Fecha de Creación: 14 de enero de 2022 \n",
        "*   Fechad de actualización: 14 de enero de 2022\n",
        "*   Descripción: Practicar los conceptos de los metodos pandas aprendidoshasta el final de la semana 2 "
      ],
      "metadata": {
        "id": "UeGcJHPUHXMC"
      }
    },
    {
      "cell_type": "markdown",
      "source": [
        "### Carga de datos "
      ],
      "metadata": {
        "id": "AQGbBvikJvC-"
      }
    },
    {
      "cell_type": "code",
      "source": [
        "from google.colab import drive\n",
        "drive.mount('/content/drive') # uno my Drive al nuevo cuaderno\n"
      ],
      "metadata": {
        "id": "0CuKzU9WHtBr",
        "colab": {
          "base_uri": "https://localhost:8080/"
        },
        "outputId": "16d0d117-c0b0-4c67-bced-f2774aaf32d7"
      },
      "execution_count": 1,
      "outputs": [
        {
          "output_type": "stream",
          "name": "stdout",
          "text": [
            "Mounted at /content/drive\n"
          ]
        }
      ]
    },
    {
      "cell_type": "code",
      "source": [
        "import pandas as pd #importo la libreria panda \n",
        "titanic =  '/content/drive/MyDrive/Coding_Dojo/Semana 2/Pandas Data science/Data /titanic.csv' #Nombro a la base\n",
        "titanic_df = pd.read_csv(titanic) #le doy un nombre a la trama \n",
        "#de datos  ene ste caso el sugerido en la tarea como no tiene titulos el archivo txt uso el metodo header y que mantega los \n",
        "#valores vacios con na \n",
        "titanic_df.head() #Observo que los datos hayan sido leidos de forma correcta\n",
        "#titanic_df.info()\n"
      ],
      "metadata": {
        "colab": {
          "base_uri": "https://localhost:8080/",
          "height": 206
        },
        "id": "Z3ZUyoGLLDrD",
        "outputId": "1dabc691-c9e0-4a9a-a1c7-55d7a3cb75d3"
      },
      "execution_count": 2,
      "outputs": [
        {
          "output_type": "execute_result",
          "data": {
            "text/html": [
              "\n",
              "  <div id=\"df-95ee43b8-1fcb-4800-9b6e-b5eea7e89266\">\n",
              "    <div class=\"colab-df-container\">\n",
              "      <div>\n",
              "<style scoped>\n",
              "    .dataframe tbody tr th:only-of-type {\n",
              "        vertical-align: middle;\n",
              "    }\n",
              "\n",
              "    .dataframe tbody tr th {\n",
              "        vertical-align: top;\n",
              "    }\n",
              "\n",
              "    .dataframe thead th {\n",
              "        text-align: right;\n",
              "    }\n",
              "</style>\n",
              "<table border=\"1\" class=\"dataframe\">\n",
              "  <thead>\n",
              "    <tr style=\"text-align: right;\">\n",
              "      <th></th>\n",
              "      <th>PassengerId</th>\n",
              "      <th>Survived</th>\n",
              "      <th>Pclass</th>\n",
              "      <th>Name</th>\n",
              "      <th>Sex</th>\n",
              "      <th>Age</th>\n",
              "      <th>SibSp</th>\n",
              "      <th>Parch</th>\n",
              "      <th>Ticket</th>\n",
              "      <th>Fare</th>\n",
              "      <th>Cabin</th>\n",
              "      <th>Embarked</th>\n",
              "    </tr>\n",
              "  </thead>\n",
              "  <tbody>\n",
              "    <tr>\n",
              "      <th>0</th>\n",
              "      <td>1</td>\n",
              "      <td>0</td>\n",
              "      <td>3</td>\n",
              "      <td>Braund, Mr. Owen Harris</td>\n",
              "      <td>male</td>\n",
              "      <td>22.0</td>\n",
              "      <td>1</td>\n",
              "      <td>0</td>\n",
              "      <td>A/5 21171</td>\n",
              "      <td>7.2500</td>\n",
              "      <td>NaN</td>\n",
              "      <td>S</td>\n",
              "    </tr>\n",
              "    <tr>\n",
              "      <th>1</th>\n",
              "      <td>2</td>\n",
              "      <td>1</td>\n",
              "      <td>1</td>\n",
              "      <td>Cumings, Mrs. John Bradley (Florence Briggs Th...</td>\n",
              "      <td>female</td>\n",
              "      <td>38.0</td>\n",
              "      <td>1</td>\n",
              "      <td>0</td>\n",
              "      <td>PC 17599</td>\n",
              "      <td>71.2833</td>\n",
              "      <td>C85</td>\n",
              "      <td>C</td>\n",
              "    </tr>\n",
              "    <tr>\n",
              "      <th>2</th>\n",
              "      <td>3</td>\n",
              "      <td>1</td>\n",
              "      <td>3</td>\n",
              "      <td>Heikkinen, Miss. Laina</td>\n",
              "      <td>female</td>\n",
              "      <td>26.0</td>\n",
              "      <td>0</td>\n",
              "      <td>0</td>\n",
              "      <td>STON/O2. 3101282</td>\n",
              "      <td>7.9250</td>\n",
              "      <td>NaN</td>\n",
              "      <td>S</td>\n",
              "    </tr>\n",
              "    <tr>\n",
              "      <th>3</th>\n",
              "      <td>4</td>\n",
              "      <td>1</td>\n",
              "      <td>1</td>\n",
              "      <td>Futrelle, Mrs. Jacques Heath (Lily May Peel)</td>\n",
              "      <td>female</td>\n",
              "      <td>35.0</td>\n",
              "      <td>1</td>\n",
              "      <td>0</td>\n",
              "      <td>113803</td>\n",
              "      <td>53.1000</td>\n",
              "      <td>C123</td>\n",
              "      <td>S</td>\n",
              "    </tr>\n",
              "    <tr>\n",
              "      <th>4</th>\n",
              "      <td>5</td>\n",
              "      <td>0</td>\n",
              "      <td>3</td>\n",
              "      <td>Allen, Mr. William Henry</td>\n",
              "      <td>male</td>\n",
              "      <td>35.0</td>\n",
              "      <td>0</td>\n",
              "      <td>0</td>\n",
              "      <td>373450</td>\n",
              "      <td>8.0500</td>\n",
              "      <td>NaN</td>\n",
              "      <td>S</td>\n",
              "    </tr>\n",
              "  </tbody>\n",
              "</table>\n",
              "</div>\n",
              "      <button class=\"colab-df-convert\" onclick=\"convertToInteractive('df-95ee43b8-1fcb-4800-9b6e-b5eea7e89266')\"\n",
              "              title=\"Convert this dataframe to an interactive table.\"\n",
              "              style=\"display:none;\">\n",
              "        \n",
              "  <svg xmlns=\"http://www.w3.org/2000/svg\" height=\"24px\"viewBox=\"0 0 24 24\"\n",
              "       width=\"24px\">\n",
              "    <path d=\"M0 0h24v24H0V0z\" fill=\"none\"/>\n",
              "    <path d=\"M18.56 5.44l.94 2.06.94-2.06 2.06-.94-2.06-.94-.94-2.06-.94 2.06-2.06.94zm-11 1L8.5 8.5l.94-2.06 2.06-.94-2.06-.94L8.5 2.5l-.94 2.06-2.06.94zm10 10l.94 2.06.94-2.06 2.06-.94-2.06-.94-.94-2.06-.94 2.06-2.06.94z\"/><path d=\"M17.41 7.96l-1.37-1.37c-.4-.4-.92-.59-1.43-.59-.52 0-1.04.2-1.43.59L10.3 9.45l-7.72 7.72c-.78.78-.78 2.05 0 2.83L4 21.41c.39.39.9.59 1.41.59.51 0 1.02-.2 1.41-.59l7.78-7.78 2.81-2.81c.8-.78.8-2.07 0-2.86zM5.41 20L4 18.59l7.72-7.72 1.47 1.35L5.41 20z\"/>\n",
              "  </svg>\n",
              "      </button>\n",
              "      \n",
              "  <style>\n",
              "    .colab-df-container {\n",
              "      display:flex;\n",
              "      flex-wrap:wrap;\n",
              "      gap: 12px;\n",
              "    }\n",
              "\n",
              "    .colab-df-convert {\n",
              "      background-color: #E8F0FE;\n",
              "      border: none;\n",
              "      border-radius: 50%;\n",
              "      cursor: pointer;\n",
              "      display: none;\n",
              "      fill: #1967D2;\n",
              "      height: 32px;\n",
              "      padding: 0 0 0 0;\n",
              "      width: 32px;\n",
              "    }\n",
              "\n",
              "    .colab-df-convert:hover {\n",
              "      background-color: #E2EBFA;\n",
              "      box-shadow: 0px 1px 2px rgba(60, 64, 67, 0.3), 0px 1px 3px 1px rgba(60, 64, 67, 0.15);\n",
              "      fill: #174EA6;\n",
              "    }\n",
              "\n",
              "    [theme=dark] .colab-df-convert {\n",
              "      background-color: #3B4455;\n",
              "      fill: #D2E3FC;\n",
              "    }\n",
              "\n",
              "    [theme=dark] .colab-df-convert:hover {\n",
              "      background-color: #434B5C;\n",
              "      box-shadow: 0px 1px 3px 1px rgba(0, 0, 0, 0.15);\n",
              "      filter: drop-shadow(0px 1px 2px rgba(0, 0, 0, 0.3));\n",
              "      fill: #FFFFFF;\n",
              "    }\n",
              "  </style>\n",
              "\n",
              "      <script>\n",
              "        const buttonEl =\n",
              "          document.querySelector('#df-95ee43b8-1fcb-4800-9b6e-b5eea7e89266 button.colab-df-convert');\n",
              "        buttonEl.style.display =\n",
              "          google.colab.kernel.accessAllowed ? 'block' : 'none';\n",
              "\n",
              "        async function convertToInteractive(key) {\n",
              "          const element = document.querySelector('#df-95ee43b8-1fcb-4800-9b6e-b5eea7e89266');\n",
              "          const dataTable =\n",
              "            await google.colab.kernel.invokeFunction('convertToInteractive',\n",
              "                                                     [key], {});\n",
              "          if (!dataTable) return;\n",
              "\n",
              "          const docLinkHtml = 'Like what you see? Visit the ' +\n",
              "            '<a target=\"_blank\" href=https://colab.research.google.com/notebooks/data_table.ipynb>data table notebook</a>'\n",
              "            + ' to learn more about interactive tables.';\n",
              "          element.innerHTML = '';\n",
              "          dataTable['output_type'] = 'display_data';\n",
              "          await google.colab.output.renderOutput(dataTable, element);\n",
              "          const docLink = document.createElement('div');\n",
              "          docLink.innerHTML = docLinkHtml;\n",
              "          element.appendChild(docLink);\n",
              "        }\n",
              "      </script>\n",
              "    </div>\n",
              "  </div>\n",
              "  "
            ],
            "text/plain": [
              "   PassengerId  Survived  Pclass  ...     Fare Cabin  Embarked\n",
              "0            1         0       3  ...   7.2500   NaN         S\n",
              "1            2         1       1  ...  71.2833   C85         C\n",
              "2            3         1       3  ...   7.9250   NaN         S\n",
              "3            4         1       1  ...  53.1000  C123         S\n",
              "4            5         0       3  ...   8.0500   NaN         S\n",
              "\n",
              "[5 rows x 12 columns]"
            ]
          },
          "metadata": {},
          "execution_count": 2
        }
      ]
    },
    {
      "cell_type": "code",
      "source": [
        "titanic_df.info()"
      ],
      "metadata": {
        "colab": {
          "base_uri": "https://localhost:8080/"
        },
        "id": "B48Rzozfd7Qn",
        "outputId": "e960c404-23d5-47d0-963a-b2d612d8d237"
      },
      "execution_count": 3,
      "outputs": [
        {
          "output_type": "stream",
          "name": "stdout",
          "text": [
            "<class 'pandas.core.frame.DataFrame'>\n",
            "RangeIndex: 891 entries, 0 to 890\n",
            "Data columns (total 12 columns):\n",
            " #   Column       Non-Null Count  Dtype  \n",
            "---  ------       --------------  -----  \n",
            " 0   PassengerId  891 non-null    int64  \n",
            " 1   Survived     891 non-null    int64  \n",
            " 2   Pclass       891 non-null    int64  \n",
            " 3   Name         891 non-null    object \n",
            " 4   Sex          891 non-null    object \n",
            " 5   Age          714 non-null    float64\n",
            " 6   SibSp        891 non-null    int64  \n",
            " 7   Parch        891 non-null    int64  \n",
            " 8   Ticket       891 non-null    object \n",
            " 9   Fare         891 non-null    float64\n",
            " 10  Cabin        204 non-null    object \n",
            " 11  Embarked     889 non-null    object \n",
            "dtypes: float64(2), int64(5), object(5)\n",
            "memory usage: 83.7+ KB\n"
          ]
        }
      ]
    },
    {
      "cell_type": "markdown",
      "source": [
        "### Porcentaje de supervivientes "
      ],
      "metadata": {
        "id": "zRBhk4SYDmxE"
      }
    },
    {
      "cell_type": "code",
      "source": [
        "#obs_tot = 891 # desde una aproximacion  podria haber creado una variable del total de personas en la base\n",
        "#sobrevivientes = titanic_df['Survived'].sum() #como un segundo paso a este enfoque contaria el numero de sobrevivientes\n",
        "#en este caso como las personas que han sobrevivio tomn el valor de 1 realizo un metodo de suma para la solumna de\n",
        "#sobrevivientes \n",
        "#porcentaje= sobrevivientes/obs_tot #realizo la division que mentregara el porcentaje de perdsonas sobrevivientes\n",
        "#porcentaje muestro el porcentaje obtenido \n",
        "sobrevivientes = titanic_df['Survived'].mean() #Una manera mas corta fue usar el promedio, cabe aclarar que \n",
        "#en este caso fue posible debido a que los datos solo eran 1 y 0 caso contarrio deberia haber cambiado el enfoque  \n",
        "print ('El',str('{0:.2f}'.format((sobrevivientes)*100)),'%', 'de las personas embarcadas a sobrevivido')\n",
        "#en la linea de codigo superior lo que hago es crear una cadena que muestre el porcentaje con unicamente dos decimales \n",
        "# para mostrar el resulatado \n"
      ],
      "metadata": {
        "colab": {
          "base_uri": "https://localhost:8080/"
        },
        "id": "mM-UN-8cD4mj",
        "outputId": "d6397692-c167-46f1-d532-40fd0f254905"
      },
      "execution_count": 4,
      "outputs": [
        {
          "output_type": "stream",
          "name": "stdout",
          "text": [
            "El 38.38 % de las personas embarcadas a sobrevivido\n"
          ]
        }
      ]
    },
    {
      "cell_type": "markdown",
      "source": [
        "### Numero de Sobrevivientes por sexo "
      ],
      "metadata": {
        "id": "Z0xqfAtQUCBN"
      }
    },
    {
      "cell_type": "code",
      "source": [
        "titanic_df.groupby(['Sex'])['Survived'].sum() #Uso la funcion de agrupamiento con el parametro del sexo y el metodo de \n",
        "#suma para que realize un conteo de las personas que sobrevivieron segun su sexo "
      ],
      "metadata": {
        "colab": {
          "base_uri": "https://localhost:8080/"
        },
        "id": "jy4LZQwCThW8",
        "outputId": "01f69791-bf05-48c4-d8a7-b26698b59e6f"
      },
      "execution_count": 5,
      "outputs": [
        {
          "output_type": "execute_result",
          "data": {
            "text/plain": [
              "Sex\n",
              "female    233\n",
              "male      109\n",
              "Name: Survived, dtype: int64"
            ]
          },
          "metadata": {},
          "execution_count": 5
        }
      ]
    },
    {
      "cell_type": "markdown",
      "source": [
        "#### Sobrevivieron **233** personas de sexo **femenino** y **109** personas de sexo **masculino** "
      ],
      "metadata": {
        "id": "N-sOcc_UUyRR"
      }
    },
    {
      "cell_type": "markdown",
      "source": [
        "### Porcentaje de sobrevivientes por valor del pasaje "
      ],
      "metadata": {
        "id": "L2I3-zw2cVQB"
      }
    },
    {
      "cell_type": "code",
      "source": [
        "obs_tot = 891 #fijo la variable del total de pasajeros u observaciones del data frame \n",
        "pasaje = titanic_df['Fare']<10 #fijo el filtro para pasajero de ticket de menos de 10 \n",
        "sobre_pasaje = titanic_df[pasaje]['Survived'].sum()#sumo todos los pasajeros que sobrevivieron con un ticket de menos de 10\n",
        "sobrevivientes_fare = sobre_pasaje/obs_tot\n",
        "print('El',str('{0:.2f}'.format(sobrevivientes_fare*100)),'%','de personas que pagaron un boleto de menos 10 sobrevivieron' )"
      ],
      "metadata": {
        "colab": {
          "base_uri": "https://localhost:8080/"
        },
        "id": "YLgI94MqexqK",
        "outputId": "39381081-fe43-415e-eda9-1b198f88f389"
      },
      "execution_count": 6,
      "outputs": [
        {
          "output_type": "stream",
          "name": "stdout",
          "text": [
            "El 7.52 % de personas que pagaron un boleto de menos 10 sobrevivieron\n"
          ]
        }
      ]
    },
    {
      "cell_type": "markdown",
      "source": [
        "### Edad promedio de quienes no sobrevivieron"
      ],
      "metadata": {
        "id": "nJn-AOcyl5yv"
      }
    },
    {
      "cell_type": "code",
      "source": [
        "no_sobrevivientes = titanic_df['Survived']==0 # defino un filtro que me diga quienes sobrevivieron o no\n",
        "edad_nosobrev = titanic_df[no_sobrevivientes]['Age'].mean() #obtengo la media del filtro creado \n",
        "print('La edad promedio de los no sobrevivientes es de ', str('{0:.1f}'.format(edad_nosobrev)),'años')#imprimo la respuesta "
      ],
      "metadata": {
        "colab": {
          "base_uri": "https://localhost:8080/"
        },
        "id": "VxU9x4iPmH1w",
        "outputId": "93461072-8f60-4dc5-8325-3032bc26d917"
      },
      "execution_count": 7,
      "outputs": [
        {
          "output_type": "stream",
          "name": "stdout",
          "text": [
            "La edad promedio de los no sobrevivientes es de  30.6 años\n"
          ]
        }
      ]
    },
    {
      "cell_type": "markdown",
      "source": [
        "###  Edad promedio de quienes sobrevivieron"
      ],
      "metadata": {
        "id": "Gh76Jldu0_Zq"
      }
    },
    {
      "cell_type": "markdown",
      "source": [
        ""
      ],
      "metadata": {
        "id": "sN6lw__d1Cvz"
      }
    },
    {
      "cell_type": "code",
      "source": [
        "sobrevivient = titanic_df['Survived']==1\n",
        "edad_sobrev = titanic_df[sobrevivient]['Age'].mean()\n",
        "print('La edad promedio de los sobrevivientes es de ', str('{0:.1f}'.format(edad_sobrev)),'años')"
      ],
      "metadata": {
        "colab": {
          "base_uri": "https://localhost:8080/"
        },
        "id": "VVilviK01Dcn",
        "outputId": "9c325084-2331-4273-b7aa-21491049dba3"
      },
      "execution_count": 8,
      "outputs": [
        {
          "output_type": "stream",
          "name": "stdout",
          "text": [
            "La edad promedio de los sobrevivientes es de  28.3 años\n"
          ]
        }
      ]
    },
    {
      "cell_type": "markdown",
      "source": [
        "### edad promedio de quienes sobrevivieron y no sobrevivieron agrupados por sexo"
      ],
      "metadata": {
        "id": "Ma-yX07r1tjP"
      }
    },
    {
      "cell_type": "code",
      "source": [
        "round(titanic_df.groupby(['Survived','Sex'])['Age'].mean(),2)"
      ],
      "metadata": {
        "colab": {
          "base_uri": "https://localhost:8080/"
        },
        "id": "qWgi3uVw2DbL",
        "outputId": "805f259a-119b-488b-c5b6-5340beca66d1"
      },
      "execution_count": 9,
      "outputs": [
        {
          "output_type": "execute_result",
          "data": {
            "text/plain": [
              "Survived  Sex   \n",
              "0         female    25.05\n",
              "          male      31.62\n",
              "1         female    28.85\n",
              "          male      27.28\n",
              "Name: Age, dtype: float64"
            ]
          },
          "metadata": {},
          "execution_count": 9
        }
      ]
    }
  ]
}