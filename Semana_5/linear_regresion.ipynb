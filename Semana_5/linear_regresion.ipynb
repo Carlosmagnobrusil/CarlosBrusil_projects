{
  "nbformat": 4,
  "nbformat_minor": 0,
  "metadata": {
    "colab": {
      "name": "linear_regresion.ipynb",
      "provenance": [],
      "collapsed_sections": [],
      "authorship_tag": "ABX9TyOz0DoL3AFfh0th4V9r3tCD",
      "include_colab_link": true
    },
    "kernelspec": {
      "name": "python3",
      "display_name": "Python 3"
    },
    "language_info": {
      "name": "python"
    }
  },
  "cells": [
    {
      "cell_type": "markdown",
      "metadata": {
        "id": "view-in-github",
        "colab_type": "text"
      },
      "source": [
        "<a href=\"https://colab.research.google.com/github/Carlosmagnobrusil/CarlosBrusil_projects/blob/main/Semana_5/linear_regresion.ipynb\" target=\"_parent\"><img src=\"https://colab.research.google.com/assets/colab-badge.svg\" alt=\"Open In Colab\"/></a>"
      ]
    },
    {
      "cell_type": "markdown",
      "source": [
        "#**Regresión Lineal**\n",
        "## *Creado por: Carlos Brusil*\n",
        "\n",
        "\n",
        "\n",
        "*   Fecha de Creación: 31 de enero de 2022 \n",
        "*   Fechad de actualización: 1 de febrero de 2022\n",
        "*   Descripción: SE realiza la regresion lineal apartir de los ejercios automos dictados en la plataforma de coding dojo y se calcula los valores de ajuste como los claculos de los errores ademas del r cuadrado."
      ],
      "metadata": {
        "id": "snT5z7NBfzvH"
      }
    },
    {
      "cell_type": "code",
      "source": [
        "from google.colab import drive\n",
        "drive.mount('/content/drive') # uno my Drive al nuevo cuaderno"
      ],
      "metadata": {
        "colab": {
          "base_uri": "https://localhost:8080/"
        },
        "id": "cP2hxw80gs2n",
        "outputId": "b5c8e641-fc4e-4e85-dd83-5ee0be94d913"
      },
      "execution_count": 1,
      "outputs": [
        {
          "output_type": "stream",
          "name": "stdout",
          "text": [
            "Mounted at /content/drive\n"
          ]
        }
      ]
    },
    {
      "cell_type": "code",
      "source": [
        "import pandas as pd #importo la libreria panda permite manipular y molderar los datos \n",
        "import numpy as np #importo la libreria numpy manipular y molderar los datos \n",
        "import matplotlib.pyplot as plt #importo libreria matplotlib que es una libreria que me permite realizar graficas en 2 dimensiones de de mis datos\n",
        "import seaborn as sns #Esta libreria nos permite modificar la vizualizacion de los datos atraves de los coleres y mejorar presetancion de los mismo \n",
        "from sklearn.linear_model import LinearRegression #para realizar regresiones y modelos "
      ],
      "metadata": {
        "id": "979MYudBgPCd"
      },
      "execution_count": 2,
      "outputs": []
    },
    {
      "cell_type": "code",
      "source": [
        "mortage =  '/content/drive/MyDrive/Coding_Dojo/Semana 5/Data/modifiedBostonHousing.csv' #Nombro a la base\n",
        "mortage_df = pd.read_csv(mortage) #le doy un nombre a la trama tener en cuenta que tipo dearchivo estoy leyendo\n",
        "mortage_df.head() #Observo que los datos hayan sido leidos de forma correcta"
      ],
      "metadata": {
        "colab": {
          "base_uri": "https://localhost:8080/",
          "height": 206
        },
        "id": "C15uBRb7gZdP",
        "outputId": "18d6feb2-8618-48a6-d501-10d15e68cc16"
      },
      "execution_count": 3,
      "outputs": [
        {
          "output_type": "execute_result",
          "data": {
            "text/html": [
              "\n",
              "  <div id=\"df-fcb09b76-b4c4-4634-905f-17c1a755ff98\">\n",
              "    <div class=\"colab-df-container\">\n",
              "      <div>\n",
              "<style scoped>\n",
              "    .dataframe tbody tr th:only-of-type {\n",
              "        vertical-align: middle;\n",
              "    }\n",
              "\n",
              "    .dataframe tbody tr th {\n",
              "        vertical-align: top;\n",
              "    }\n",
              "\n",
              "    .dataframe thead th {\n",
              "        text-align: right;\n",
              "    }\n",
              "</style>\n",
              "<table border=\"1\" class=\"dataframe\">\n",
              "  <thead>\n",
              "    <tr style=\"text-align: right;\">\n",
              "      <th></th>\n",
              "      <th>CRIM</th>\n",
              "      <th>ZN</th>\n",
              "      <th>INDUS</th>\n",
              "      <th>CHAS</th>\n",
              "      <th>NOX</th>\n",
              "      <th>RM</th>\n",
              "      <th>AGE</th>\n",
              "      <th>DIS</th>\n",
              "      <th>RAD</th>\n",
              "      <th>TAX</th>\n",
              "      <th>PTRATIO</th>\n",
              "      <th>B</th>\n",
              "      <th>LSTAT</th>\n",
              "      <th>price</th>\n",
              "    </tr>\n",
              "  </thead>\n",
              "  <tbody>\n",
              "    <tr>\n",
              "      <th>0</th>\n",
              "      <td>0.00632</td>\n",
              "      <td>18.0</td>\n",
              "      <td>2.31</td>\n",
              "      <td>0.0</td>\n",
              "      <td>0.538</td>\n",
              "      <td>6.575</td>\n",
              "      <td>65.2</td>\n",
              "      <td>4.0900</td>\n",
              "      <td>1.0</td>\n",
              "      <td>296.0</td>\n",
              "      <td>15.3</td>\n",
              "      <td>396.90</td>\n",
              "      <td>4.98</td>\n",
              "      <td>24.0</td>\n",
              "    </tr>\n",
              "    <tr>\n",
              "      <th>1</th>\n",
              "      <td>0.02731</td>\n",
              "      <td>0.0</td>\n",
              "      <td>7.07</td>\n",
              "      <td>0.0</td>\n",
              "      <td>0.469</td>\n",
              "      <td>6.421</td>\n",
              "      <td>78.9</td>\n",
              "      <td>4.9671</td>\n",
              "      <td>2.0</td>\n",
              "      <td>242.0</td>\n",
              "      <td>17.8</td>\n",
              "      <td>396.90</td>\n",
              "      <td>9.14</td>\n",
              "      <td>21.6</td>\n",
              "    </tr>\n",
              "    <tr>\n",
              "      <th>2</th>\n",
              "      <td>0.02729</td>\n",
              "      <td>0.0</td>\n",
              "      <td>7.07</td>\n",
              "      <td>0.0</td>\n",
              "      <td>0.469</td>\n",
              "      <td>7.185</td>\n",
              "      <td>61.1</td>\n",
              "      <td>4.9671</td>\n",
              "      <td>2.0</td>\n",
              "      <td>242.0</td>\n",
              "      <td>17.8</td>\n",
              "      <td>392.83</td>\n",
              "      <td>4.03</td>\n",
              "      <td>34.7</td>\n",
              "    </tr>\n",
              "    <tr>\n",
              "      <th>3</th>\n",
              "      <td>0.03237</td>\n",
              "      <td>0.0</td>\n",
              "      <td>2.18</td>\n",
              "      <td>0.0</td>\n",
              "      <td>0.458</td>\n",
              "      <td>6.998</td>\n",
              "      <td>45.8</td>\n",
              "      <td>6.0622</td>\n",
              "      <td>3.0</td>\n",
              "      <td>222.0</td>\n",
              "      <td>18.7</td>\n",
              "      <td>394.63</td>\n",
              "      <td>2.94</td>\n",
              "      <td>33.4</td>\n",
              "    </tr>\n",
              "    <tr>\n",
              "      <th>4</th>\n",
              "      <td>0.06905</td>\n",
              "      <td>0.0</td>\n",
              "      <td>2.18</td>\n",
              "      <td>0.0</td>\n",
              "      <td>0.458</td>\n",
              "      <td>7.147</td>\n",
              "      <td>54.2</td>\n",
              "      <td>6.0622</td>\n",
              "      <td>3.0</td>\n",
              "      <td>222.0</td>\n",
              "      <td>18.7</td>\n",
              "      <td>396.90</td>\n",
              "      <td>5.33</td>\n",
              "      <td>36.2</td>\n",
              "    </tr>\n",
              "  </tbody>\n",
              "</table>\n",
              "</div>\n",
              "      <button class=\"colab-df-convert\" onclick=\"convertToInteractive('df-fcb09b76-b4c4-4634-905f-17c1a755ff98')\"\n",
              "              title=\"Convert this dataframe to an interactive table.\"\n",
              "              style=\"display:none;\">\n",
              "        \n",
              "  <svg xmlns=\"http://www.w3.org/2000/svg\" height=\"24px\"viewBox=\"0 0 24 24\"\n",
              "       width=\"24px\">\n",
              "    <path d=\"M0 0h24v24H0V0z\" fill=\"none\"/>\n",
              "    <path d=\"M18.56 5.44l.94 2.06.94-2.06 2.06-.94-2.06-.94-.94-2.06-.94 2.06-2.06.94zm-11 1L8.5 8.5l.94-2.06 2.06-.94-2.06-.94L8.5 2.5l-.94 2.06-2.06.94zm10 10l.94 2.06.94-2.06 2.06-.94-2.06-.94-.94-2.06-.94 2.06-2.06.94z\"/><path d=\"M17.41 7.96l-1.37-1.37c-.4-.4-.92-.59-1.43-.59-.52 0-1.04.2-1.43.59L10.3 9.45l-7.72 7.72c-.78.78-.78 2.05 0 2.83L4 21.41c.39.39.9.59 1.41.59.51 0 1.02-.2 1.41-.59l7.78-7.78 2.81-2.81c.8-.78.8-2.07 0-2.86zM5.41 20L4 18.59l7.72-7.72 1.47 1.35L5.41 20z\"/>\n",
              "  </svg>\n",
              "      </button>\n",
              "      \n",
              "  <style>\n",
              "    .colab-df-container {\n",
              "      display:flex;\n",
              "      flex-wrap:wrap;\n",
              "      gap: 12px;\n",
              "    }\n",
              "\n",
              "    .colab-df-convert {\n",
              "      background-color: #E8F0FE;\n",
              "      border: none;\n",
              "      border-radius: 50%;\n",
              "      cursor: pointer;\n",
              "      display: none;\n",
              "      fill: #1967D2;\n",
              "      height: 32px;\n",
              "      padding: 0 0 0 0;\n",
              "      width: 32px;\n",
              "    }\n",
              "\n",
              "    .colab-df-convert:hover {\n",
              "      background-color: #E2EBFA;\n",
              "      box-shadow: 0px 1px 2px rgba(60, 64, 67, 0.3), 0px 1px 3px 1px rgba(60, 64, 67, 0.15);\n",
              "      fill: #174EA6;\n",
              "    }\n",
              "\n",
              "    [theme=dark] .colab-df-convert {\n",
              "      background-color: #3B4455;\n",
              "      fill: #D2E3FC;\n",
              "    }\n",
              "\n",
              "    [theme=dark] .colab-df-convert:hover {\n",
              "      background-color: #434B5C;\n",
              "      box-shadow: 0px 1px 3px 1px rgba(0, 0, 0, 0.15);\n",
              "      filter: drop-shadow(0px 1px 2px rgba(0, 0, 0, 0.3));\n",
              "      fill: #FFFFFF;\n",
              "    }\n",
              "  </style>\n",
              "\n",
              "      <script>\n",
              "        const buttonEl =\n",
              "          document.querySelector('#df-fcb09b76-b4c4-4634-905f-17c1a755ff98 button.colab-df-convert');\n",
              "        buttonEl.style.display =\n",
              "          google.colab.kernel.accessAllowed ? 'block' : 'none';\n",
              "\n",
              "        async function convertToInteractive(key) {\n",
              "          const element = document.querySelector('#df-fcb09b76-b4c4-4634-905f-17c1a755ff98');\n",
              "          const dataTable =\n",
              "            await google.colab.kernel.invokeFunction('convertToInteractive',\n",
              "                                                     [key], {});\n",
              "          if (!dataTable) return;\n",
              "\n",
              "          const docLinkHtml = 'Like what you see? Visit the ' +\n",
              "            '<a target=\"_blank\" href=https://colab.research.google.com/notebooks/data_table.ipynb>data table notebook</a>'\n",
              "            + ' to learn more about interactive tables.';\n",
              "          element.innerHTML = '';\n",
              "          dataTable['output_type'] = 'display_data';\n",
              "          await google.colab.output.renderOutput(dataTable, element);\n",
              "          const docLink = document.createElement('div');\n",
              "          docLink.innerHTML = docLinkHtml;\n",
              "          element.appendChild(docLink);\n",
              "        }\n",
              "      </script>\n",
              "    </div>\n",
              "  </div>\n",
              "  "
            ],
            "text/plain": [
              "      CRIM    ZN  INDUS  CHAS    NOX  ...    TAX  PTRATIO       B  LSTAT  price\n",
              "0  0.00632  18.0   2.31   0.0  0.538  ...  296.0     15.3  396.90   4.98   24.0\n",
              "1  0.02731   0.0   7.07   0.0  0.469  ...  242.0     17.8  396.90   9.14   21.6\n",
              "2  0.02729   0.0   7.07   0.0  0.469  ...  242.0     17.8  392.83   4.03   34.7\n",
              "3  0.03237   0.0   2.18   0.0  0.458  ...  222.0     18.7  394.63   2.94   33.4\n",
              "4  0.06905   0.0   2.18   0.0  0.458  ...  222.0     18.7  396.90   5.33   36.2\n",
              "\n",
              "[5 rows x 14 columns]"
            ]
          },
          "metadata": {},
          "execution_count": 3
        }
      ]
    },
    {
      "cell_type": "markdown",
      "source": [
        "#### Revision de la Base "
      ],
      "metadata": {
        "id": "pqINPifsilgY"
      }
    },
    {
      "cell_type": "code",
      "source": [
        "mortage_df.columns= mortage_df.columns.str.lower()#primero defino a todos los nombres de las columnas en letra minuscula"
      ],
      "metadata": {
        "id": "VnayS5tThXmC"
      },
      "execution_count": 4,
      "outputs": []
    },
    {
      "cell_type": "code",
      "source": [
        "mortage_df.info()"
      ],
      "metadata": {
        "colab": {
          "base_uri": "https://localhost:8080/"
        },
        "id": "xmZnF0_BhhwD",
        "outputId": "030e7a29-f4d4-4d04-e3cf-5b8c53e2483e"
      },
      "execution_count": 5,
      "outputs": [
        {
          "output_type": "stream",
          "name": "stdout",
          "text": [
            "<class 'pandas.core.frame.DataFrame'>\n",
            "RangeIndex: 506 entries, 0 to 505\n",
            "Data columns (total 14 columns):\n",
            " #   Column   Non-Null Count  Dtype  \n",
            "---  ------   --------------  -----  \n",
            " 0   crim     506 non-null    float64\n",
            " 1   zn       506 non-null    float64\n",
            " 2   indus    506 non-null    float64\n",
            " 3   chas     506 non-null    float64\n",
            " 4   nox      506 non-null    float64\n",
            " 5   rm       506 non-null    float64\n",
            " 6   age      506 non-null    float64\n",
            " 7   dis      506 non-null    float64\n",
            " 8   rad      506 non-null    float64\n",
            " 9   tax      506 non-null    float64\n",
            " 10  ptratio  506 non-null    float64\n",
            " 11  b        506 non-null    float64\n",
            " 12  lstat    506 non-null    float64\n",
            " 13  price    505 non-null    float64\n",
            "dtypes: float64(14)\n",
            "memory usage: 55.5 KB\n"
          ]
        }
      ]
    },
    {
      "cell_type": "markdown",
      "source": [
        "##### Al observar la base vemos que nuestra columna de precio la cueal sera el vector objetivo contiene un dato perdido por lo cual procedemos a eliminar la fila completa de este dato ya que el porcentaje de perdida es minimo. Se recomienda siempre sacar un potcentaje de perdida para evitar eliminar una cantidad excesiva de datos, este porcentaje de maxima tolerancia va depoender del modelo y la cantidad de datos, sin embargo, se recomienda que los valores perdidos noe excedan el **30%** "
      ],
      "metadata": {
        "id": "AFRPP3QIih7B"
      }
    },
    {
      "cell_type": "code",
      "source": [
        "mortage_df.shape # con .shape reviso la bidimensionalidad de mis datos "
      ],
      "metadata": {
        "colab": {
          "base_uri": "https://localhost:8080/"
        },
        "id": "jSQHAltkhneX",
        "outputId": "6921829e-bf4e-4153-90c9-6f615a67d8b5"
      },
      "execution_count": 6,
      "outputs": [
        {
          "output_type": "execute_result",
          "data": {
            "text/plain": [
              "(506, 14)"
            ]
          },
          "metadata": {},
          "execution_count": 6
        }
      ]
    },
    {
      "cell_type": "code",
      "source": [
        "mortage_df = mortage_df.loc[:, ['rm', 'lstat','ptratio', 'price']] #establezco cual sera mi matriz de caracteristicas \n",
        "mortage_df.head()"
      ],
      "metadata": {
        "colab": {
          "base_uri": "https://localhost:8080/",
          "height": 206
        },
        "id": "8NGXij3Oh3LV",
        "outputId": "37c6234d-c476-44d3-f9ae-e1ee4293af7b"
      },
      "execution_count": 7,
      "outputs": [
        {
          "output_type": "execute_result",
          "data": {
            "text/html": [
              "\n",
              "  <div id=\"df-0a52ee9a-808d-4277-9992-0fb006ff56fa\">\n",
              "    <div class=\"colab-df-container\">\n",
              "      <div>\n",
              "<style scoped>\n",
              "    .dataframe tbody tr th:only-of-type {\n",
              "        vertical-align: middle;\n",
              "    }\n",
              "\n",
              "    .dataframe tbody tr th {\n",
              "        vertical-align: top;\n",
              "    }\n",
              "\n",
              "    .dataframe thead th {\n",
              "        text-align: right;\n",
              "    }\n",
              "</style>\n",
              "<table border=\"1\" class=\"dataframe\">\n",
              "  <thead>\n",
              "    <tr style=\"text-align: right;\">\n",
              "      <th></th>\n",
              "      <th>rm</th>\n",
              "      <th>lstat</th>\n",
              "      <th>ptratio</th>\n",
              "      <th>price</th>\n",
              "    </tr>\n",
              "  </thead>\n",
              "  <tbody>\n",
              "    <tr>\n",
              "      <th>0</th>\n",
              "      <td>6.575</td>\n",
              "      <td>4.98</td>\n",
              "      <td>15.3</td>\n",
              "      <td>24.0</td>\n",
              "    </tr>\n",
              "    <tr>\n",
              "      <th>1</th>\n",
              "      <td>6.421</td>\n",
              "      <td>9.14</td>\n",
              "      <td>17.8</td>\n",
              "      <td>21.6</td>\n",
              "    </tr>\n",
              "    <tr>\n",
              "      <th>2</th>\n",
              "      <td>7.185</td>\n",
              "      <td>4.03</td>\n",
              "      <td>17.8</td>\n",
              "      <td>34.7</td>\n",
              "    </tr>\n",
              "    <tr>\n",
              "      <th>3</th>\n",
              "      <td>6.998</td>\n",
              "      <td>2.94</td>\n",
              "      <td>18.7</td>\n",
              "      <td>33.4</td>\n",
              "    </tr>\n",
              "    <tr>\n",
              "      <th>4</th>\n",
              "      <td>7.147</td>\n",
              "      <td>5.33</td>\n",
              "      <td>18.7</td>\n",
              "      <td>36.2</td>\n",
              "    </tr>\n",
              "  </tbody>\n",
              "</table>\n",
              "</div>\n",
              "      <button class=\"colab-df-convert\" onclick=\"convertToInteractive('df-0a52ee9a-808d-4277-9992-0fb006ff56fa')\"\n",
              "              title=\"Convert this dataframe to an interactive table.\"\n",
              "              style=\"display:none;\">\n",
              "        \n",
              "  <svg xmlns=\"http://www.w3.org/2000/svg\" height=\"24px\"viewBox=\"0 0 24 24\"\n",
              "       width=\"24px\">\n",
              "    <path d=\"M0 0h24v24H0V0z\" fill=\"none\"/>\n",
              "    <path d=\"M18.56 5.44l.94 2.06.94-2.06 2.06-.94-2.06-.94-.94-2.06-.94 2.06-2.06.94zm-11 1L8.5 8.5l.94-2.06 2.06-.94-2.06-.94L8.5 2.5l-.94 2.06-2.06.94zm10 10l.94 2.06.94-2.06 2.06-.94-2.06-.94-.94-2.06-.94 2.06-2.06.94z\"/><path d=\"M17.41 7.96l-1.37-1.37c-.4-.4-.92-.59-1.43-.59-.52 0-1.04.2-1.43.59L10.3 9.45l-7.72 7.72c-.78.78-.78 2.05 0 2.83L4 21.41c.39.39.9.59 1.41.59.51 0 1.02-.2 1.41-.59l7.78-7.78 2.81-2.81c.8-.78.8-2.07 0-2.86zM5.41 20L4 18.59l7.72-7.72 1.47 1.35L5.41 20z\"/>\n",
              "  </svg>\n",
              "      </button>\n",
              "      \n",
              "  <style>\n",
              "    .colab-df-container {\n",
              "      display:flex;\n",
              "      flex-wrap:wrap;\n",
              "      gap: 12px;\n",
              "    }\n",
              "\n",
              "    .colab-df-convert {\n",
              "      background-color: #E8F0FE;\n",
              "      border: none;\n",
              "      border-radius: 50%;\n",
              "      cursor: pointer;\n",
              "      display: none;\n",
              "      fill: #1967D2;\n",
              "      height: 32px;\n",
              "      padding: 0 0 0 0;\n",
              "      width: 32px;\n",
              "    }\n",
              "\n",
              "    .colab-df-convert:hover {\n",
              "      background-color: #E2EBFA;\n",
              "      box-shadow: 0px 1px 2px rgba(60, 64, 67, 0.3), 0px 1px 3px 1px rgba(60, 64, 67, 0.15);\n",
              "      fill: #174EA6;\n",
              "    }\n",
              "\n",
              "    [theme=dark] .colab-df-convert {\n",
              "      background-color: #3B4455;\n",
              "      fill: #D2E3FC;\n",
              "    }\n",
              "\n",
              "    [theme=dark] .colab-df-convert:hover {\n",
              "      background-color: #434B5C;\n",
              "      box-shadow: 0px 1px 3px 1px rgba(0, 0, 0, 0.15);\n",
              "      filter: drop-shadow(0px 1px 2px rgba(0, 0, 0, 0.3));\n",
              "      fill: #FFFFFF;\n",
              "    }\n",
              "  </style>\n",
              "\n",
              "      <script>\n",
              "        const buttonEl =\n",
              "          document.querySelector('#df-0a52ee9a-808d-4277-9992-0fb006ff56fa button.colab-df-convert');\n",
              "        buttonEl.style.display =\n",
              "          google.colab.kernel.accessAllowed ? 'block' : 'none';\n",
              "\n",
              "        async function convertToInteractive(key) {\n",
              "          const element = document.querySelector('#df-0a52ee9a-808d-4277-9992-0fb006ff56fa');\n",
              "          const dataTable =\n",
              "            await google.colab.kernel.invokeFunction('convertToInteractive',\n",
              "                                                     [key], {});\n",
              "          if (!dataTable) return;\n",
              "\n",
              "          const docLinkHtml = 'Like what you see? Visit the ' +\n",
              "            '<a target=\"_blank\" href=https://colab.research.google.com/notebooks/data_table.ipynb>data table notebook</a>'\n",
              "            + ' to learn more about interactive tables.';\n",
              "          element.innerHTML = '';\n",
              "          dataTable['output_type'] = 'display_data';\n",
              "          await google.colab.output.renderOutput(dataTable, element);\n",
              "          const docLink = document.createElement('div');\n",
              "          docLink.innerHTML = docLinkHtml;\n",
              "          element.appendChild(docLink);\n",
              "        }\n",
              "      </script>\n",
              "    </div>\n",
              "  </div>\n",
              "  "
            ],
            "text/plain": [
              "      rm  lstat  ptratio  price\n",
              "0  6.575   4.98     15.3   24.0\n",
              "1  6.421   9.14     17.8   21.6\n",
              "2  7.185   4.03     17.8   34.7\n",
              "3  6.998   2.94     18.7   33.4\n",
              "4  7.147   5.33     18.7   36.2"
            ]
          },
          "metadata": {},
          "execution_count": 7
        }
      ]
    },
    {
      "cell_type": "code",
      "source": [
        "mortage_df = mortage_df.dropna(how = 'any') # elimino los valores perdidos"
      ],
      "metadata": {
        "id": "Y4i2ba2siR3d"
      },
      "execution_count": 8,
      "outputs": []
    },
    {
      "cell_type": "code",
      "source": [
        "mortage_df.info() # observo que todos mis datos sean de la misma longitud una vez eliminando el valor perdido "
      ],
      "metadata": {
        "colab": {
          "base_uri": "https://localhost:8080/"
        },
        "id": "5F4B-tYVj2eU",
        "outputId": "f51ada02-a3f9-4e5d-9a99-d3688b410c3c"
      },
      "execution_count": 9,
      "outputs": [
        {
          "output_type": "stream",
          "name": "stdout",
          "text": [
            "<class 'pandas.core.frame.DataFrame'>\n",
            "Int64Index: 505 entries, 0 to 505\n",
            "Data columns (total 4 columns):\n",
            " #   Column   Non-Null Count  Dtype  \n",
            "---  ------   --------------  -----  \n",
            " 0   rm       505 non-null    float64\n",
            " 1   lstat    505 non-null    float64\n",
            " 2   ptratio  505 non-null    float64\n",
            " 3   price    505 non-null    float64\n",
            "dtypes: float64(4)\n",
            "memory usage: 19.7 KB\n"
          ]
        }
      ]
    },
    {
      "cell_type": "code",
      "source": [
        "mortage_df.isnull().sum() #otra manera de revisar esto es con el conteo de valores perdidos aqui buscamos que la suma sea 0"
      ],
      "metadata": {
        "colab": {
          "base_uri": "https://localhost:8080/"
        },
        "id": "XdTaIGu9kGuZ",
        "outputId": "0e113d94-f24e-477a-9835-6f72a10d4839"
      },
      "execution_count": 10,
      "outputs": [
        {
          "output_type": "execute_result",
          "data": {
            "text/plain": [
              "rm         0\n",
              "lstat      0\n",
              "ptratio    0\n",
              "price      0\n",
              "dtype: int64"
            ]
          },
          "metadata": {},
          "execution_count": 10
        }
      ]
    },
    {
      "cell_type": "code",
      "source": [
        "mortage_df.shape #debo mantener unacontante revision de que mis dfatos mantengan su bidimensionalidad"
      ],
      "metadata": {
        "colab": {
          "base_uri": "https://localhost:8080/"
        },
        "id": "CoAZuY2IkStX",
        "outputId": "908c3d09-4eb8-4cc0-b11f-e4b4285bd7fd"
      },
      "execution_count": 11,
      "outputs": [
        {
          "output_type": "execute_result",
          "data": {
            "text/plain": [
              "(505, 4)"
            ]
          },
          "metadata": {},
          "execution_count": 11
        }
      ]
    },
    {
      "cell_type": "code",
      "source": [
        "mortage_corr= round(mortage_df.corr(),2) #el comando .corr de la libreria de regresion no permite observar la no multicolinealidad, para evitar que un dato este abserviendo la \n",
        "#informacion de los otros datos\n",
        "mortage_corr"
      ],
      "metadata": {
        "colab": {
          "base_uri": "https://localhost:8080/",
          "height": 174
        },
        "id": "w9tGXF36kkD_",
        "outputId": "0242fd44-f13e-4029-c1bc-b125ee8821d2"
      },
      "execution_count": 12,
      "outputs": [
        {
          "output_type": "execute_result",
          "data": {
            "text/html": [
              "\n",
              "  <div id=\"df-9845d9c9-0a13-4915-98d8-1e8ceaeb52be\">\n",
              "    <div class=\"colab-df-container\">\n",
              "      <div>\n",
              "<style scoped>\n",
              "    .dataframe tbody tr th:only-of-type {\n",
              "        vertical-align: middle;\n",
              "    }\n",
              "\n",
              "    .dataframe tbody tr th {\n",
              "        vertical-align: top;\n",
              "    }\n",
              "\n",
              "    .dataframe thead th {\n",
              "        text-align: right;\n",
              "    }\n",
              "</style>\n",
              "<table border=\"1\" class=\"dataframe\">\n",
              "  <thead>\n",
              "    <tr style=\"text-align: right;\">\n",
              "      <th></th>\n",
              "      <th>rm</th>\n",
              "      <th>lstat</th>\n",
              "      <th>ptratio</th>\n",
              "      <th>price</th>\n",
              "    </tr>\n",
              "  </thead>\n",
              "  <tbody>\n",
              "    <tr>\n",
              "      <th>rm</th>\n",
              "      <td>1.00</td>\n",
              "      <td>-0.61</td>\n",
              "      <td>-0.36</td>\n",
              "      <td>0.14</td>\n",
              "    </tr>\n",
              "    <tr>\n",
              "      <th>lstat</th>\n",
              "      <td>-0.61</td>\n",
              "      <td>1.00</td>\n",
              "      <td>0.37</td>\n",
              "      <td>-0.03</td>\n",
              "    </tr>\n",
              "    <tr>\n",
              "      <th>ptratio</th>\n",
              "      <td>-0.36</td>\n",
              "      <td>0.37</td>\n",
              "      <td>1.00</td>\n",
              "      <td>-0.19</td>\n",
              "    </tr>\n",
              "    <tr>\n",
              "      <th>price</th>\n",
              "      <td>0.14</td>\n",
              "      <td>-0.03</td>\n",
              "      <td>-0.19</td>\n",
              "      <td>1.00</td>\n",
              "    </tr>\n",
              "  </tbody>\n",
              "</table>\n",
              "</div>\n",
              "      <button class=\"colab-df-convert\" onclick=\"convertToInteractive('df-9845d9c9-0a13-4915-98d8-1e8ceaeb52be')\"\n",
              "              title=\"Convert this dataframe to an interactive table.\"\n",
              "              style=\"display:none;\">\n",
              "        \n",
              "  <svg xmlns=\"http://www.w3.org/2000/svg\" height=\"24px\"viewBox=\"0 0 24 24\"\n",
              "       width=\"24px\">\n",
              "    <path d=\"M0 0h24v24H0V0z\" fill=\"none\"/>\n",
              "    <path d=\"M18.56 5.44l.94 2.06.94-2.06 2.06-.94-2.06-.94-.94-2.06-.94 2.06-2.06.94zm-11 1L8.5 8.5l.94-2.06 2.06-.94-2.06-.94L8.5 2.5l-.94 2.06-2.06.94zm10 10l.94 2.06.94-2.06 2.06-.94-2.06-.94-.94-2.06-.94 2.06-2.06.94z\"/><path d=\"M17.41 7.96l-1.37-1.37c-.4-.4-.92-.59-1.43-.59-.52 0-1.04.2-1.43.59L10.3 9.45l-7.72 7.72c-.78.78-.78 2.05 0 2.83L4 21.41c.39.39.9.59 1.41.59.51 0 1.02-.2 1.41-.59l7.78-7.78 2.81-2.81c.8-.78.8-2.07 0-2.86zM5.41 20L4 18.59l7.72-7.72 1.47 1.35L5.41 20z\"/>\n",
              "  </svg>\n",
              "      </button>\n",
              "      \n",
              "  <style>\n",
              "    .colab-df-container {\n",
              "      display:flex;\n",
              "      flex-wrap:wrap;\n",
              "      gap: 12px;\n",
              "    }\n",
              "\n",
              "    .colab-df-convert {\n",
              "      background-color: #E8F0FE;\n",
              "      border: none;\n",
              "      border-radius: 50%;\n",
              "      cursor: pointer;\n",
              "      display: none;\n",
              "      fill: #1967D2;\n",
              "      height: 32px;\n",
              "      padding: 0 0 0 0;\n",
              "      width: 32px;\n",
              "    }\n",
              "\n",
              "    .colab-df-convert:hover {\n",
              "      background-color: #E2EBFA;\n",
              "      box-shadow: 0px 1px 2px rgba(60, 64, 67, 0.3), 0px 1px 3px 1px rgba(60, 64, 67, 0.15);\n",
              "      fill: #174EA6;\n",
              "    }\n",
              "\n",
              "    [theme=dark] .colab-df-convert {\n",
              "      background-color: #3B4455;\n",
              "      fill: #D2E3FC;\n",
              "    }\n",
              "\n",
              "    [theme=dark] .colab-df-convert:hover {\n",
              "      background-color: #434B5C;\n",
              "      box-shadow: 0px 1px 3px 1px rgba(0, 0, 0, 0.15);\n",
              "      filter: drop-shadow(0px 1px 2px rgba(0, 0, 0, 0.3));\n",
              "      fill: #FFFFFF;\n",
              "    }\n",
              "  </style>\n",
              "\n",
              "      <script>\n",
              "        const buttonEl =\n",
              "          document.querySelector('#df-9845d9c9-0a13-4915-98d8-1e8ceaeb52be button.colab-df-convert');\n",
              "        buttonEl.style.display =\n",
              "          google.colab.kernel.accessAllowed ? 'block' : 'none';\n",
              "\n",
              "        async function convertToInteractive(key) {\n",
              "          const element = document.querySelector('#df-9845d9c9-0a13-4915-98d8-1e8ceaeb52be');\n",
              "          const dataTable =\n",
              "            await google.colab.kernel.invokeFunction('convertToInteractive',\n",
              "                                                     [key], {});\n",
              "          if (!dataTable) return;\n",
              "\n",
              "          const docLinkHtml = 'Like what you see? Visit the ' +\n",
              "            '<a target=\"_blank\" href=https://colab.research.google.com/notebooks/data_table.ipynb>data table notebook</a>'\n",
              "            + ' to learn more about interactive tables.';\n",
              "          element.innerHTML = '';\n",
              "          dataTable['output_type'] = 'display_data';\n",
              "          await google.colab.output.renderOutput(dataTable, element);\n",
              "          const docLink = document.createElement('div');\n",
              "          docLink.innerHTML = docLinkHtml;\n",
              "          element.appendChild(docLink);\n",
              "        }\n",
              "      </script>\n",
              "    </div>\n",
              "  </div>\n",
              "  "
            ],
            "text/plain": [
              "           rm  lstat  ptratio  price\n",
              "rm       1.00  -0.61    -0.36   0.14\n",
              "lstat   -0.61   1.00     0.37  -0.03\n",
              "ptratio -0.36   0.37     1.00  -0.19\n",
              "price    0.14  -0.03    -0.19   1.00"
            ]
          },
          "metadata": {},
          "execution_count": 12
        }
      ]
    },
    {
      "cell_type": "markdown",
      "source": [
        "##### En esta matriz de correlacion observamos una alta relacion inversa entre lstat y rm la cual aun apesar de tener un valor amplio y el mas cercano a uno no tomaremos como grave ya que la mayoria de autores de modelos de regresion lineal ponen como grave una correlacion o una alta colinealidad cuando esta supera el **0.75** sin embargo"
      ],
      "metadata": {
        "id": "EIHnmBTdk6e5"
      }
    },
    {
      "cell_type": "code",
      "source": [
        "sns.heatmap(mortage_corr, cmap = sns.diverging_palette(240, 10, n=9), annot= True) # el comando cmap= me permite definir el color de la paleta la cual es sns.diverging_palette \n",
        "#esta me permite tener los colores rojo para los valores mas alto apartir de la media ya zules para aquelloos que se alejan de la misma "
      ],
      "metadata": {
        "colab": {
          "base_uri": "https://localhost:8080/",
          "height": 286
        },
        "id": "h3eFUj6Zk6Iv",
        "outputId": "38287f96-2632-4a53-c04d-67e550237f3a"
      },
      "execution_count": 14,
      "outputs": [
        {
          "output_type": "execute_result",
          "data": {
            "text/plain": [
              "<matplotlib.axes._subplots.AxesSubplot at 0x7f22e82d3850>"
            ]
          },
          "metadata": {},
          "execution_count": 14
        },
        {
          "output_type": "display_data",
          "data": {
            "image/png": "[encoded data removed]",
            "text/plain": [
              "<Figure size 432x288 with 2 Axes>"
            ]
          },
          "metadata": {
            "needs_background": "light"
          }
        }
      ]
    },
    {
      "cell_type": "markdown",
      "source": [
        "##### El grafico nos muestra que las relaciones inversas mas altas son entre rm y lstat mientras que las relaciones positivas mas altas son las de ptratio y lstat, lo que nos puede dar una idea de que esta variable podria presentar un reiesgo parta el modelo sin embargo al no ser mayor a 0.75 no realizaremos ningun cambio "
      ],
      "metadata": {
        "id": "S2tLGu9LmuGR"
      }
    },
    {
      "cell_type": "code",
      "source": [
        "mortage_df.loc[:,:].hist(bins=25, figsize=(18,18), xlabelsize='10', ylabelsize='10', xrot= 0 ) # en este codigo primero defino todos los valores que deseo visualizar\n",
        "# en este caso estoy pidiendo todas las columnas y filas ademas el bind que le pido que sean 25 secuencias para fines vizuales y el ta;o de las etiquetas en loes ejes\n",
        "# ademas del xrot que me permite definir el angulo de las etiquetas en los ejes en este caso al no ser demasiado largas escojo una rotacion de 0 grados "
      ],
      "metadata": {
        "colab": {
          "base_uri": "https://localhost:8080/",
          "height": 1000
        },
        "id": "7KazG9D6mh7U",
        "outputId": "87e77c6e-5cce-4948-8ee9-fed51e7a3ec3"
      },
      "execution_count": 15,
      "outputs": [
        {
          "output_type": "execute_result",
          "data": {
            "text/plain": [
              "array([[<matplotlib.axes._subplots.AxesSubplot object at 0x7f22e7d29f90>,\n",
              "        <matplotlib.axes._subplots.AxesSubplot object at 0x7f22e7ce3650>],\n",
              "       [<matplotlib.axes._subplots.AxesSubplot object at 0x7f22e7c99c50>,\n",
              "        <matplotlib.axes._subplots.AxesSubplot object at 0x7f22e7c5b290>]],\n",
              "      dtype=object)"
            ]
          },
          "metadata": {},
          "execution_count": 15
        },
        {
          "output_type": "display_data",
          "data": {
            "image/png": "[encoded data removed]",
            "text/plain": [
              "<Figure size 1296x1296 with 4 Axes>"
            ]
          },
          "metadata": {
            "needs_background": "light"
          }
        }
      ]
    },
    {
      "cell_type": "markdown",
      "source": [
        "##### En este apartdo observo que el histograma delprecio cuenta con demasiadops valores negativos lo cual no me permite tener un conocimiento exacto de los datos, por lo cual debo tratar este problema, sin embargo, esto no es lo idoneo ya que estoy cambiando la naturaleza de los datos. \n",
        "\n",
        "##### Aun cuando no es lo desead manipular los datos, los modelos cuentan con los supuestos **BLUE** que me obligan a seguir manipulando la data. esto sera resuelto mas adelante con algoritmos mas complejos. "
      ],
      "metadata": {
        "id": "qLQAwNyOpt75"
      }
    },
    {
      "cell_type": "code",
      "source": [
        "price_filter = mortage_df['price'] < 0 \n",
        "mortage_df = mortage_df.loc[~price_filter,:] #para plicar el filltro a toda la base ponemos el signo ~ antes del nombre del filtro la coma y le pedimo que se \n",
        "#aplique para todas las filas\n",
        "mortage_df # con esta linea de codigo me desago de todoas aquellos precios negativos lo cuales afectan a mi data, sin embargo como lo habiamos mencionado esto hay que manejarlo con mucho \n",
        "#cuidado debido a que si perdemos mucha informacion el modelo puede no tener el ajuste deseado "
      ],
      "metadata": {
        "colab": {
          "base_uri": "https://localhost:8080/",
          "height": 423
        },
        "id": "LyvAO0uEpsjH",
        "outputId": "7e9a994d-e014-4a0a-dd35-41545bf1b960"
      },
      "execution_count": 16,
      "outputs": [
        {
          "output_type": "execute_result",
          "data": {
            "text/html": [
              "\n",
              "  <div id=\"df-842c9015-b7b0-4472-9073-92d77204c717\">\n",
              "    <div class=\"colab-df-container\">\n",
              "      <div>\n",
              "<style scoped>\n",
              "    .dataframe tbody tr th:only-of-type {\n",
              "        vertical-align: middle;\n",
              "    }\n",
              "\n",
              "    .dataframe tbody tr th {\n",
              "        vertical-align: top;\n",
              "    }\n",
              "\n",
              "    .dataframe thead th {\n",
              "        text-align: right;\n",
              "    }\n",
              "</style>\n",
              "<table border=\"1\" class=\"dataframe\">\n",
              "  <thead>\n",
              "    <tr style=\"text-align: right;\">\n",
              "      <th></th>\n",
              "      <th>rm</th>\n",
              "      <th>lstat</th>\n",
              "      <th>ptratio</th>\n",
              "      <th>price</th>\n",
              "    </tr>\n",
              "  </thead>\n",
              "  <tbody>\n",
              "    <tr>\n",
              "      <th>0</th>\n",
              "      <td>6.575</td>\n",
              "      <td>4.98</td>\n",
              "      <td>15.3</td>\n",
              "      <td>24.0</td>\n",
              "    </tr>\n",
              "    <tr>\n",
              "      <th>1</th>\n",
              "      <td>6.421</td>\n",
              "      <td>9.14</td>\n",
              "      <td>17.8</td>\n",
              "      <td>21.6</td>\n",
              "    </tr>\n",
              "    <tr>\n",
              "      <th>2</th>\n",
              "      <td>7.185</td>\n",
              "      <td>4.03</td>\n",
              "      <td>17.8</td>\n",
              "      <td>34.7</td>\n",
              "    </tr>\n",
              "    <tr>\n",
              "      <th>3</th>\n",
              "      <td>6.998</td>\n",
              "      <td>2.94</td>\n",
              "      <td>18.7</td>\n",
              "      <td>33.4</td>\n",
              "    </tr>\n",
              "    <tr>\n",
              "      <th>4</th>\n",
              "      <td>7.147</td>\n",
              "      <td>5.33</td>\n",
              "      <td>18.7</td>\n",
              "      <td>36.2</td>\n",
              "    </tr>\n",
              "    <tr>\n",
              "      <th>...</th>\n",
              "      <td>...</td>\n",
              "      <td>...</td>\n",
              "      <td>...</td>\n",
              "      <td>...</td>\n",
              "    </tr>\n",
              "    <tr>\n",
              "      <th>501</th>\n",
              "      <td>6.593</td>\n",
              "      <td>9.67</td>\n",
              "      <td>21.0</td>\n",
              "      <td>22.4</td>\n",
              "    </tr>\n",
              "    <tr>\n",
              "      <th>502</th>\n",
              "      <td>6.120</td>\n",
              "      <td>9.08</td>\n",
              "      <td>21.0</td>\n",
              "      <td>20.6</td>\n",
              "    </tr>\n",
              "    <tr>\n",
              "      <th>503</th>\n",
              "      <td>6.976</td>\n",
              "      <td>5.64</td>\n",
              "      <td>21.0</td>\n",
              "      <td>23.9</td>\n",
              "    </tr>\n",
              "    <tr>\n",
              "      <th>504</th>\n",
              "      <td>6.794</td>\n",
              "      <td>6.48</td>\n",
              "      <td>21.0</td>\n",
              "      <td>22.0</td>\n",
              "    </tr>\n",
              "    <tr>\n",
              "      <th>505</th>\n",
              "      <td>6.030</td>\n",
              "      <td>7.88</td>\n",
              "      <td>21.0</td>\n",
              "      <td>11.9</td>\n",
              "    </tr>\n",
              "  </tbody>\n",
              "</table>\n",
              "<p>404 rows × 4 columns</p>\n",
              "</div>\n",
              "      <button class=\"colab-df-convert\" onclick=\"convertToInteractive('df-842c9015-b7b0-4472-9073-92d77204c717')\"\n",
              "              title=\"Convert this dataframe to an interactive table.\"\n",
              "              style=\"display:none;\">\n",
              "        \n",
              "  <svg xmlns=\"http://www.w3.org/2000/svg\" height=\"24px\"viewBox=\"0 0 24 24\"\n",
              "       width=\"24px\">\n",
              "    <path d=\"M0 0h24v24H0V0z\" fill=\"none\"/>\n",
              "    <path d=\"M18.56 5.44l.94 2.06.94-2.06 2.06-.94-2.06-.94-.94-2.06-.94 2.06-2.06.94zm-11 1L8.5 8.5l.94-2.06 2.06-.94-2.06-.94L8.5 2.5l-.94 2.06-2.06.94zm10 10l.94 2.06.94-2.06 2.06-.94-2.06-.94-.94-2.06-.94 2.06-2.06.94z\"/><path d=\"M17.41 7.96l-1.37-1.37c-.4-.4-.92-.59-1.43-.59-.52 0-1.04.2-1.43.59L10.3 9.45l-7.72 7.72c-.78.78-.78 2.05 0 2.83L4 21.41c.39.39.9.59 1.41.59.51 0 1.02-.2 1.41-.59l7.78-7.78 2.81-2.81c.8-.78.8-2.07 0-2.86zM5.41 20L4 18.59l7.72-7.72 1.47 1.35L5.41 20z\"/>\n",
              "  </svg>\n",
              "      </button>\n",
              "      \n",
              "  <style>\n",
              "    .colab-df-container {\n",
              "      display:flex;\n",
              "      flex-wrap:wrap;\n",
              "      gap: 12px;\n",
              "    }\n",
              "\n",
              "    .colab-df-convert {\n",
              "      background-color: #E8F0FE;\n",
              "      border: none;\n",
              "      border-radius: 50%;\n",
              "      cursor: pointer;\n",
              "      display: none;\n",
              "      fill: #1967D2;\n",
              "      height: 32px;\n",
              "      padding: 0 0 0 0;\n",
              "      width: 32px;\n",
              "    }\n",
              "\n",
              "    .colab-df-convert:hover {\n",
              "      background-color: #E2EBFA;\n",
              "      box-shadow: 0px 1px 2px rgba(60, 64, 67, 0.3), 0px 1px 3px 1px rgba(60, 64, 67, 0.15);\n",
              "      fill: #174EA6;\n",
              "    }\n",
              "\n",
              "    [theme=dark] .colab-df-convert {\n",
              "      background-color: #3B4455;\n",
              "      fill: #D2E3FC;\n",
              "    }\n",
              "\n",
              "    [theme=dark] .colab-df-convert:hover {\n",
              "      background-color: #434B5C;\n",
              "      box-shadow: 0px 1px 3px 1px rgba(0, 0, 0, 0.15);\n",
              "      filter: drop-shadow(0px 1px 2px rgba(0, 0, 0, 0.3));\n",
              "      fill: #FFFFFF;\n",
              "    }\n",
              "  </style>\n",
              "\n",
              "      <script>\n",
              "        const buttonEl =\n",
              "          document.querySelector('#df-842c9015-b7b0-4472-9073-92d77204c717 button.colab-df-convert');\n",
              "        buttonEl.style.display =\n",
              "          google.colab.kernel.accessAllowed ? 'block' : 'none';\n",
              "\n",
              "        async function convertToInteractive(key) {\n",
              "          const element = document.querySelector('#df-842c9015-b7b0-4472-9073-92d77204c717');\n",
              "          const dataTable =\n",
              "            await google.colab.kernel.invokeFunction('convertToInteractive',\n",
              "                                                     [key], {});\n",
              "          if (!dataTable) return;\n",
              "\n",
              "          const docLinkHtml = 'Like what you see? Visit the ' +\n",
              "            '<a target=\"_blank\" href=https://colab.research.google.com/notebooks/data_table.ipynb>data table notebook</a>'\n",
              "            + ' to learn more about interactive tables.';\n",
              "          element.innerHTML = '';\n",
              "          dataTable['output_type'] = 'display_data';\n",
              "          await google.colab.output.renderOutput(dataTable, element);\n",
              "          const docLink = document.createElement('div');\n",
              "          docLink.innerHTML = docLinkHtml;\n",
              "          element.appendChild(docLink);\n",
              "        }\n",
              "      </script>\n",
              "    </div>\n",
              "  </div>\n",
              "  "
            ],
            "text/plain": [
              "        rm  lstat  ptratio  price\n",
              "0    6.575   4.98     15.3   24.0\n",
              "1    6.421   9.14     17.8   21.6\n",
              "2    7.185   4.03     17.8   34.7\n",
              "3    6.998   2.94     18.7   33.4\n",
              "4    7.147   5.33     18.7   36.2\n",
              "..     ...    ...      ...    ...\n",
              "501  6.593   9.67     21.0   22.4\n",
              "502  6.120   9.08     21.0   20.6\n",
              "503  6.976   5.64     21.0   23.9\n",
              "504  6.794   6.48     21.0   22.0\n",
              "505  6.030   7.88     21.0   11.9\n",
              "\n",
              "[404 rows x 4 columns]"
            ]
          },
          "metadata": {},
          "execution_count": 16
        }
      ]
    },
    {
      "cell_type": "code",
      "source": [
        "mortage_df.info() #con esto hemos perdido alrededor de 101 datos que representaria un 20 porciento encontrandonos dentro del margen aceptado "
      ],
      "metadata": {
        "colab": {
          "base_uri": "https://localhost:8080/"
        },
        "id": "Ys9LIMYPrgJh",
        "outputId": "fc7ace5e-bd67-4b5e-ed44-9a7bb4d631df"
      },
      "execution_count": 17,
      "outputs": [
        {
          "output_type": "stream",
          "name": "stdout",
          "text": [
            "<class 'pandas.core.frame.DataFrame'>\n",
            "Int64Index: 404 entries, 0 to 505\n",
            "Data columns (total 4 columns):\n",
            " #   Column   Non-Null Count  Dtype  \n",
            "---  ------   --------------  -----  \n",
            " 0   rm       404 non-null    float64\n",
            " 1   lstat    404 non-null    float64\n",
            " 2   ptratio  404 non-null    float64\n",
            " 3   price    404 non-null    float64\n",
            "dtypes: float64(4)\n",
            "memory usage: 15.8 KB\n"
          ]
        }
      ]
    },
    {
      "cell_type": "code",
      "source": [
        "mortage_df.loc[:,:].hist(bins=25, figsize=(18,18), xlabelsize='10', ylabelsize='10', xrot= 0 )\n",
        "\n",
        "#repito el histograma para revisar que el proceso anterior haya corregido el problema "
      ],
      "metadata": {
        "colab": {
          "base_uri": "https://localhost:8080/",
          "height": 1000
        },
        "id": "sxK4RnvYr0f1",
        "outputId": "f84681c9-08c3-4d60-e244-6c35bb2ab0bb"
      },
      "execution_count": 18,
      "outputs": [
        {
          "output_type": "execute_result",
          "data": {
            "text/plain": [
              "array([[<matplotlib.axes._subplots.AxesSubplot object at 0x7f22e7a14c50>,\n",
              "        <matplotlib.axes._subplots.AxesSubplot object at 0x7f22e79e04d0>],\n",
              "       [<matplotlib.axes._subplots.AxesSubplot object at 0x7f22e7a0fa50>,\n",
              "        <matplotlib.axes._subplots.AxesSubplot object at 0x7f22e79bcb90>]],\n",
              "      dtype=object)"
            ]
          },
          "metadata": {},
          "execution_count": 18
        },
        {
          "output_type": "display_data",
          "data": {
            "image/png": "[encoded data removed]",
            "text/plain": [
              "<Figure size 1296x1296 with 4 Axes>"
            ]
          },
          "metadata": {
            "needs_background": "light"
          }
        }
      ]
    },
    {
      "cell_type": "markdown",
      "source": [
        "##### Observamos que el problema parace haberse corregido, recordemos que aldenir el numero de datos o columnas dentro del grafico unicamente tomamos un muestreo, lo recomendable siembre sera graficar los datos completos donde de igual manera hubieramos encontrado este movimiento atipico delos valores negativos del precio"
      ],
      "metadata": {
        "id": "ju0tJ54UsLyP"
      }
    },
    {
      "cell_type": "code",
      "source": [
        "mortage_corr1 = round(mortage_df.corr(),2)\n",
        "mortage_corr1"
      ],
      "metadata": {
        "colab": {
          "base_uri": "https://localhost:8080/",
          "height": 174
        },
        "id": "SS30lsWGsLl_",
        "outputId": "264af279-0ebb-4f69-f6a7-394c05709900"
      },
      "execution_count": 19,
      "outputs": [
        {
          "output_type": "execute_result",
          "data": {
            "text/html": [
              "\n",
              "  <div id=\"df-3f949824-aeed-494f-b8f2-6fa4a1a12c68\">\n",
              "    <div class=\"colab-df-container\">\n",
              "      <div>\n",
              "<style scoped>\n",
              "    .dataframe tbody tr th:only-of-type {\n",
              "        vertical-align: middle;\n",
              "    }\n",
              "\n",
              "    .dataframe tbody tr th {\n",
              "        vertical-align: top;\n",
              "    }\n",
              "\n",
              "    .dataframe thead th {\n",
              "        text-align: right;\n",
              "    }\n",
              "</style>\n",
              "<table border=\"1\" class=\"dataframe\">\n",
              "  <thead>\n",
              "    <tr style=\"text-align: right;\">\n",
              "      <th></th>\n",
              "      <th>rm</th>\n",
              "      <th>lstat</th>\n",
              "      <th>ptratio</th>\n",
              "      <th>price</th>\n",
              "    </tr>\n",
              "  </thead>\n",
              "  <tbody>\n",
              "    <tr>\n",
              "      <th>rm</th>\n",
              "      <td>1.00</td>\n",
              "      <td>-0.65</td>\n",
              "      <td>-0.35</td>\n",
              "      <td>0.80</td>\n",
              "    </tr>\n",
              "    <tr>\n",
              "      <th>lstat</th>\n",
              "      <td>-0.65</td>\n",
              "      <td>1.00</td>\n",
              "      <td>0.38</td>\n",
              "      <td>-0.75</td>\n",
              "    </tr>\n",
              "    <tr>\n",
              "      <th>ptratio</th>\n",
              "      <td>-0.35</td>\n",
              "      <td>0.38</td>\n",
              "      <td>1.00</td>\n",
              "      <td>-0.55</td>\n",
              "    </tr>\n",
              "    <tr>\n",
              "      <th>price</th>\n",
              "      <td>0.80</td>\n",
              "      <td>-0.75</td>\n",
              "      <td>-0.55</td>\n",
              "      <td>1.00</td>\n",
              "    </tr>\n",
              "  </tbody>\n",
              "</table>\n",
              "</div>\n",
              "      <button class=\"colab-df-convert\" onclick=\"convertToInteractive('df-3f949824-aeed-494f-b8f2-6fa4a1a12c68')\"\n",
              "              title=\"Convert this dataframe to an interactive table.\"\n",
              "              style=\"display:none;\">\n",
              "        \n",
              "  <svg xmlns=\"http://www.w3.org/2000/svg\" height=\"24px\"viewBox=\"0 0 24 24\"\n",
              "       width=\"24px\">\n",
              "    <path d=\"M0 0h24v24H0V0z\" fill=\"none\"/>\n",
              "    <path d=\"M18.56 5.44l.94 2.06.94-2.06 2.06-.94-2.06-.94-.94-2.06-.94 2.06-2.06.94zm-11 1L8.5 8.5l.94-2.06 2.06-.94-2.06-.94L8.5 2.5l-.94 2.06-2.06.94zm10 10l.94 2.06.94-2.06 2.06-.94-2.06-.94-.94-2.06-.94 2.06-2.06.94z\"/><path d=\"M17.41 7.96l-1.37-1.37c-.4-.4-.92-.59-1.43-.59-.52 0-1.04.2-1.43.59L10.3 9.45l-7.72 7.72c-.78.78-.78 2.05 0 2.83L4 21.41c.39.39.9.59 1.41.59.51 0 1.02-.2 1.41-.59l7.78-7.78 2.81-2.81c.8-.78.8-2.07 0-2.86zM5.41 20L4 18.59l7.72-7.72 1.47 1.35L5.41 20z\"/>\n",
              "  </svg>\n",
              "      </button>\n",
              "      \n",
              "  <style>\n",
              "    .colab-df-container {\n",
              "      display:flex;\n",
              "      flex-wrap:wrap;\n",
              "      gap: 12px;\n",
              "    }\n",
              "\n",
              "    .colab-df-convert {\n",
              "      background-color: #E8F0FE;\n",
              "      border: none;\n",
              "      border-radius: 50%;\n",
              "      cursor: pointer;\n",
              "      display: none;\n",
              "      fill: #1967D2;\n",
              "      height: 32px;\n",
              "      padding: 0 0 0 0;\n",
              "      width: 32px;\n",
              "    }\n",
              "\n",
              "    .colab-df-convert:hover {\n",
              "      background-color: #E2EBFA;\n",
              "      box-shadow: 0px 1px 2px rgba(60, 64, 67, 0.3), 0px 1px 3px 1px rgba(60, 64, 67, 0.15);\n",
              "      fill: #174EA6;\n",
              "    }\n",
              "\n",
              "    [theme=dark] .colab-df-convert {\n",
              "      background-color: #3B4455;\n",
              "      fill: #D2E3FC;\n",
              "    }\n",
              "\n",
              "    [theme=dark] .colab-df-convert:hover {\n",
              "      background-color: #434B5C;\n",
              "      box-shadow: 0px 1px 3px 1px rgba(0, 0, 0, 0.15);\n",
              "      filter: drop-shadow(0px 1px 2px rgba(0, 0, 0, 0.3));\n",
              "      fill: #FFFFFF;\n",
              "    }\n",
              "  </style>\n",
              "\n",
              "      <script>\n",
              "        const buttonEl =\n",
              "          document.querySelector('#df-3f949824-aeed-494f-b8f2-6fa4a1a12c68 button.colab-df-convert');\n",
              "        buttonEl.style.display =\n",
              "          google.colab.kernel.accessAllowed ? 'block' : 'none';\n",
              "\n",
              "        async function convertToInteractive(key) {\n",
              "          const element = document.querySelector('#df-3f949824-aeed-494f-b8f2-6fa4a1a12c68');\n",
              "          const dataTable =\n",
              "            await google.colab.kernel.invokeFunction('convertToInteractive',\n",
              "                                                     [key], {});\n",
              "          if (!dataTable) return;\n",
              "\n",
              "          const docLinkHtml = 'Like what you see? Visit the ' +\n",
              "            '<a target=\"_blank\" href=https://colab.research.google.com/notebooks/data_table.ipynb>data table notebook</a>'\n",
              "            + ' to learn more about interactive tables.';\n",
              "          element.innerHTML = '';\n",
              "          dataTable['output_type'] = 'display_data';\n",
              "          await google.colab.output.renderOutput(dataTable, element);\n",
              "          const docLink = document.createElement('div');\n",
              "          docLink.innerHTML = docLinkHtml;\n",
              "          element.appendChild(docLink);\n",
              "        }\n",
              "      </script>\n",
              "    </div>\n",
              "  </div>\n",
              "  "
            ],
            "text/plain": [
              "           rm  lstat  ptratio  price\n",
              "rm       1.00  -0.65    -0.35   0.80\n",
              "lstat   -0.65   1.00     0.38  -0.75\n",
              "ptratio -0.35   0.38     1.00  -0.55\n",
              "price    0.80  -0.75    -0.55   1.00"
            ]
          },
          "metadata": {},
          "execution_count": 19
        }
      ]
    },
    {
      "cell_type": "markdown",
      "source": [
        "#### Una vez corregido y eliminados los valores negativos en el precio podemos observar que la matriz de correlacion notiene un cambio sustancuial por lo cual procedemos con los siguientes pasos "
      ],
      "metadata": {
        "id": "TYAelDtst1sz"
      }
    },
    {
      "cell_type": "markdown",
      "source": [
        "### Ordenamiento de datos para la realizacion de la regresion lineal"
      ],
      "metadata": {
        "id": "FyMM7RAQuhF3"
      }
    },
    {
      "cell_type": "code",
      "source": [
        "X = mortage_df.loc[:,['rm','lstat','ptratio']].values #defino el nombre de mi matriz de caracteristicas con la letra mayuscula por notacion matematica ya que esta es una matriz y\n",
        "#no solo un vector el cual normalmente se escribe en minuscula  \n",
        "X # esto se realiza realizar el cambio de dataframe a un array de tipo numpy"
      ],
      "metadata": {
        "colab": {
          "base_uri": "https://localhost:8080/"
        },
        "id": "IBaBznWdt01-",
        "outputId": "dce655b1-9a2a-41bb-ad0d-2a5c3b3ba0a0"
      },
      "execution_count": 20,
      "outputs": [
        {
          "output_type": "execute_result",
          "data": {
            "text/plain": [
              "array([[ 6.575,  4.98 , 15.3  ],\n",
              "       [ 6.421,  9.14 , 17.8  ],\n",
              "       [ 7.185,  4.03 , 17.8  ],\n",
              "       ...,\n",
              "       [ 6.976,  5.64 , 21.   ],\n",
              "       [ 6.794,  6.48 , 21.   ],\n",
              "       [ 6.03 ,  7.88 , 21.   ]])"
            ]
          },
          "metadata": {},
          "execution_count": 20
        }
      ]
    },
    {
      "cell_type": "code",
      "source": [
        "X.shape #observo que mantega la bidimensionalidad una ves transformada mi data "
      ],
      "metadata": {
        "colab": {
          "base_uri": "https://localhost:8080/"
        },
        "id": "lyUq3aLxxDHk",
        "outputId": "7aaaf5e1-83ad-4c63-9d02-cbbeabbf1631"
      },
      "execution_count": 21,
      "outputs": [
        {
          "output_type": "execute_result",
          "data": {
            "text/plain": [
              "(404, 3)"
            ]
          },
          "metadata": {},
          "execution_count": 21
        }
      ]
    },
    {
      "cell_type": "code",
      "source": [
        "y = mortage_df.loc[:,'price'].values #defino mi vector con letra minuscula\n",
        "y # hay que tener cuidado cuando solo conta de una columna no debe ponerse corchetes ya que esto genera una fila de mas "
      ],
      "metadata": {
        "colab": {
          "base_uri": "https://localhost:8080/"
        },
        "id": "SQ3cTJSExW7O",
        "outputId": "29b59035-f157-4f58-f27e-efcf7f9392db"
      },
      "execution_count": 22,
      "outputs": [
        {
          "output_type": "execute_result",
          "data": {
            "text/plain": [
              "array([24. , 21.6, 34.7, 33.4, 36.2, 28.7, 22.9, 27.1, 16.5, 18.9, 15. ,\n",
              "       18.9, 21.7, 20.4, 18.2, 19.9, 23.1, 17.5, 20.2, 18.2, 13.6, 19.6,\n",
              "       15.2, 14.5, 15.6, 13.9, 16.6, 14.8, 18.4, 21. , 12.7, 14.5, 13.2,\n",
              "       13.1, 13.5, 18.9, 20. , 21. , 24.7, 30.8, 34.9, 26.6, 25.3, 24.7,\n",
              "       21.2, 19.3, 20. , 16.6, 14.4, 19.4, 19.7, 20.5, 25. , 23.4, 18.9,\n",
              "       35.4, 24.7, 31.6, 23.3, 19.6, 18.7, 16. , 22.2, 25. , 33. , 23.5,\n",
              "       19.4, 22. , 17.4, 20.9, 24.2, 21.7, 22.8, 23.4, 24.1, 21.4, 20. ,\n",
              "       20.8, 21.2, 20.3, 28. , 23.9, 24.8, 22.9, 23.9, 26.6, 22.5, 22.2,\n",
              "       23.6, 28.7, 22.6, 22. , 22.9, 25. , 20.6, 28.4, 21.4, 38.7, 43.8,\n",
              "       33.2, 27.5, 26.5, 18.6, 19.3, 20.1, 19.5, 19.5, 20.4, 19.8, 19.4,\n",
              "       21.7, 22.8, 18.8, 18.7, 18.5, 18.3, 21.2, 19.2, 20.4, 19.3, 22. ,\n",
              "       20.3, 20.5, 17.3, 18.8, 21.4, 15.7, 16.2, 18. , 14.3, 19.2, 19.6,\n",
              "       23. , 18.4, 15.6, 18.1, 17.4, 17.1, 13.3, 17.8, 14. , 14.4, 13.4,\n",
              "       15.6, 11.8, 13.8, 15.6, 14.6, 17.8, 15.4, 21.5, 19.6, 15.3, 19.4,\n",
              "       17. , 15.6, 13.1, 41.3, 24.3, 23.3, 27. , 50. , 50. , 50. , 22.7,\n",
              "       25. , 50. , 23.8, 23.8, 22.3, 17.4, 19.1, 23.1, 23.6, 22.6, 29.4,\n",
              "       23.2, 24.6, 29.9, 37.2, 39.8, 36.2, 37.9, 32.5, 26.4, 29.6, 50. ,\n",
              "       32. , 29.8, 34.9, 37. , 30.5, 36.4, 31.1, 29.1, 50. , 33.3, 30.3,\n",
              "       34.6, 34.9, 32.9, 24.1, 42.3, 48.5, 50. , 22.6, 24.4, 22.5, 24.4,\n",
              "       20. , 21.7, 19.3, 22.4, 28.1, 23.7, 25. , 23.3, 28.7, 21.5, 23. ,\n",
              "       26.7, 21.7, 27.5, 30.1, 44.8, 50. , 37.6, 31.6, 46.7, 31.5, 24.3,\n",
              "       31.7, 41.7, 48.3, 29. , 24. , 25.1, 31.5, 23.7, 23.3, 22. , 20.1,\n",
              "       22.2, 23.7, 17.6, 18.5, 24.3, 20.5, 24.5, 26.2, 24.4, 24.8, 29.6,\n",
              "       42.8, 21.9, 20.9, 44. , 50. , 36. , 30.1, 33.8, 43.1, 48.8, 31. ,\n",
              "       36.5, 22.8, 30.7, 50. , 43.5, 20.7, 21.1, 25.2, 24.4, 35.2, 32.4,\n",
              "       32. , 33.2, 33.1, 29.1, 35.1, 45.4, 35.4, 46. , 50. , 32.2, 22. ,\n",
              "       20.1, 23.2, 22.3, 24.8, 28.5, 37.3, 27.9, 23.9, 21.7, 28.6, 27.1,\n",
              "       20.3, 22.5, 29. ,  7.2,  8.3,  8.5,  5. , 11.9, 27.9, 17.2, 27.5,\n",
              "       15. , 17.2, 17.9, 16.3,  7. ,  7.2,  7.5, 10.4,  8.8,  8.4, 16.7,\n",
              "       14.2, 20.8, 13.4, 11.7,  8.3, 10.2, 10.9, 11. ,  9.5, 14.5, 14.1,\n",
              "       16.1, 14.3, 11.7, 13.4,  9.6,  8.7,  8.4, 12.8, 10.5, 17.1, 18.4,\n",
              "       15.4, 10.8, 11.8, 14.9, 12.6, 14.1, 13. , 13.4, 15.2, 16.1, 17.8,\n",
              "       14.9, 14.1, 12.7, 13.5, 14.9, 20. , 16.4, 17.7, 19.5, 20.2, 21.4,\n",
              "       19.9, 19. , 19.1, 19.1, 20.1, 19.9, 19.6, 23.2, 29.8, 13.8, 13.3,\n",
              "       16.7, 12. , 14.6, 21.4, 23. , 23.7, 25. , 21.8, 20.6, 21.2, 19.1,\n",
              "       20.6, 15.2,  7. ,  8.1, 13.6, 20.1, 21.8, 24.5, 23.1, 19.7, 18.3,\n",
              "       21.2, 17.5, 16.8, 22.4, 20.6, 23.9, 22. , 11.9])"
            ]
          },
          "metadata": {},
          "execution_count": 22
        }
      ]
    },
    {
      "cell_type": "code",
      "source": [
        "y.shape #observo que mantega la bidimensionalidad una ves transformada mi data, no tiene otra dimensio ya que python maneja un idexado cero y esto no se refleja en la data "
      ],
      "metadata": {
        "colab": {
          "base_uri": "https://localhost:8080/"
        },
        "id": "F7H8a9hrxx2C",
        "outputId": "4066c1f3-199f-4c8e-975f-d27a6da85d35"
      },
      "execution_count": 23,
      "outputs": [
        {
          "output_type": "execute_result",
          "data": {
            "text/plain": [
              "(404,)"
            ]
          },
          "metadata": {},
          "execution_count": 23
        }
      ]
    },
    {
      "cell_type": "code",
      "source": [
        "lreg = LinearRegression(fit_intercept=True)\n",
        "lreg #creo una instancia inicial la cual ire llenando acontinuacion por esto el print inferior aparece vacio"
      ],
      "metadata": {
        "colab": {
          "base_uri": "https://localhost:8080/"
        },
        "id": "SrhIllLFyLMA",
        "outputId": "0e5e1216-78ba-4065-9f0f-e2e3a04b9dd2"
      },
      "execution_count": 24,
      "outputs": [
        {
          "output_type": "execute_result",
          "data": {
            "text/plain": [
              "LinearRegression()"
            ]
          },
          "metadata": {},
          "execution_count": 24
        }
      ]
    },
    {
      "cell_type": "code",
      "source": [
        "lreg.fit(X,y) #ingreso los datos que aprendera mi modelos y que se iran llenando en mi instancia inicial, siempre va primero mi matriz de caracteristicas y despues\n",
        "#el vector objetivo"
      ],
      "metadata": {
        "colab": {
          "base_uri": "https://localhost:8080/"
        },
        "id": "I95qgM2z32VN",
        "outputId": "3bbfd474-dd83-4405-8497-a3403049fbd5"
      },
      "execution_count": 25,
      "outputs": [
        {
          "output_type": "execute_result",
          "data": {
            "text/plain": [
              "LinearRegression()"
            ]
          },
          "metadata": {},
          "execution_count": 25
        }
      ]
    },
    {
      "cell_type": "code",
      "source": [
        "lreg.predict(X[0]) # si corro de esta manera el comando sale como error debido a que no es bidemensional la salida por lo cual debo redimensionarlos observando el error "
      ],
      "metadata": {
        "colab": {
          "base_uri": "https://localhost:8080/",
          "height": 362
        },
        "id": "8NGaCs8u8khW",
        "outputId": "cab1db7e-7a62-4d7f-a641-5d3fb74defa0"
      },
      "execution_count": null,
      "outputs": [
        {
          "output_type": "error",
          "ename": "ValueError",
          "evalue": "ignored",
          "traceback": [
            "\u001b[0;31m---------------------------------------------------------------------------\u001b[0m",
            "\u001b[0;31mValueError\u001b[0m                                Traceback (most recent call last)",
            "\u001b[0;32m<ipython-input-25-be0c553f489e>\u001b[0m in \u001b[0;36m<module>\u001b[0;34m()\u001b[0m\n\u001b[0;32m----> 1\u001b[0;31m \u001b[0mlreg\u001b[0m\u001b[0;34m.\u001b[0m\u001b[0mpredict\u001b[0m\u001b[0;34m(\u001b[0m\u001b[0mX\u001b[0m\u001b[0;34m[\u001b[0m\u001b[0;36m0\u001b[0m\u001b[0;34m]\u001b[0m\u001b[0;34m)\u001b[0m \u001b[0;31m# si corro de esta manera el comando sale como error debido a que no es bidemensional la salida por lo cual debo redimensionarlos observando el error\u001b[0m\u001b[0;34m\u001b[0m\u001b[0;34m\u001b[0m\u001b[0m\n\u001b[0m",
            "\u001b[0;32m/usr/local/lib/python3.7/dist-packages/sklearn/linear_model/_base.py\u001b[0m in \u001b[0;36mpredict\u001b[0;34m(self, X)\u001b[0m\n\u001b[1;32m    360\u001b[0m             \u001b[0mReturns\u001b[0m \u001b[0mpredicted\u001b[0m \u001b[0mvalues\u001b[0m\u001b[0;34m.\u001b[0m\u001b[0;34m\u001b[0m\u001b[0;34m\u001b[0m\u001b[0m\n\u001b[1;32m    361\u001b[0m         \"\"\"\n\u001b[0;32m--> 362\u001b[0;31m         \u001b[0;32mreturn\u001b[0m \u001b[0mself\u001b[0m\u001b[0;34m.\u001b[0m\u001b[0m_decision_function\u001b[0m\u001b[0;34m(\u001b[0m\u001b[0mX\u001b[0m\u001b[0;34m)\u001b[0m\u001b[0;34m\u001b[0m\u001b[0;34m\u001b[0m\u001b[0m\n\u001b[0m\u001b[1;32m    363\u001b[0m \u001b[0;34m\u001b[0m\u001b[0m\n\u001b[1;32m    364\u001b[0m     \u001b[0m_preprocess_data\u001b[0m \u001b[0;34m=\u001b[0m \u001b[0mstaticmethod\u001b[0m\u001b[0;34m(\u001b[0m\u001b[0m_preprocess_data\u001b[0m\u001b[0;34m)\u001b[0m\u001b[0;34m\u001b[0m\u001b[0;34m\u001b[0m\u001b[0m\n",
            "\u001b[0;32m/usr/local/lib/python3.7/dist-packages/sklearn/linear_model/_base.py\u001b[0m in \u001b[0;36m_decision_function\u001b[0;34m(self, X)\u001b[0m\n\u001b[1;32m    343\u001b[0m         \u001b[0mcheck_is_fitted\u001b[0m\u001b[0;34m(\u001b[0m\u001b[0mself\u001b[0m\u001b[0;34m)\u001b[0m\u001b[0;34m\u001b[0m\u001b[0;34m\u001b[0m\u001b[0m\n\u001b[1;32m    344\u001b[0m \u001b[0;34m\u001b[0m\u001b[0m\n\u001b[0;32m--> 345\u001b[0;31m         \u001b[0mX\u001b[0m \u001b[0;34m=\u001b[0m \u001b[0mself\u001b[0m\u001b[0;34m.\u001b[0m\u001b[0m_validate_data\u001b[0m\u001b[0;34m(\u001b[0m\u001b[0mX\u001b[0m\u001b[0;34m,\u001b[0m \u001b[0maccept_sparse\u001b[0m\u001b[0;34m=\u001b[0m\u001b[0;34m[\u001b[0m\u001b[0;34m\"csr\"\u001b[0m\u001b[0;34m,\u001b[0m \u001b[0;34m\"csc\"\u001b[0m\u001b[0;34m,\u001b[0m \u001b[0;34m\"coo\"\u001b[0m\u001b[0;34m]\u001b[0m\u001b[0;34m,\u001b[0m \u001b[0mreset\u001b[0m\u001b[0;34m=\u001b[0m\u001b[0;32mFalse\u001b[0m\u001b[0;34m)\u001b[0m\u001b[0;34m\u001b[0m\u001b[0;34m\u001b[0m\u001b[0m\n\u001b[0m\u001b[1;32m    346\u001b[0m         \u001b[0;32mreturn\u001b[0m \u001b[0msafe_sparse_dot\u001b[0m\u001b[0;34m(\u001b[0m\u001b[0mX\u001b[0m\u001b[0;34m,\u001b[0m \u001b[0mself\u001b[0m\u001b[0;34m.\u001b[0m\u001b[0mcoef_\u001b[0m\u001b[0;34m.\u001b[0m\u001b[0mT\u001b[0m\u001b[0;34m,\u001b[0m \u001b[0mdense_output\u001b[0m\u001b[0;34m=\u001b[0m\u001b[0;32mTrue\u001b[0m\u001b[0;34m)\u001b[0m \u001b[0;34m+\u001b[0m \u001b[0mself\u001b[0m\u001b[0;34m.\u001b[0m\u001b[0mintercept_\u001b[0m\u001b[0;34m\u001b[0m\u001b[0;34m\u001b[0m\u001b[0m\n\u001b[1;32m    347\u001b[0m \u001b[0;34m\u001b[0m\u001b[0m\n",
            "\u001b[0;32m/usr/local/lib/python3.7/dist-packages/sklearn/base.py\u001b[0m in \u001b[0;36m_validate_data\u001b[0;34m(self, X, y, reset, validate_separately, **check_params)\u001b[0m\n\u001b[1;32m    564\u001b[0m             \u001b[0;32mraise\u001b[0m \u001b[0mValueError\u001b[0m\u001b[0;34m(\u001b[0m\u001b[0;34m\"Validation should be done on X, y or both.\"\u001b[0m\u001b[0;34m)\u001b[0m\u001b[0;34m\u001b[0m\u001b[0;34m\u001b[0m\u001b[0m\n\u001b[1;32m    565\u001b[0m         \u001b[0;32melif\u001b[0m \u001b[0;32mnot\u001b[0m \u001b[0mno_val_X\u001b[0m \u001b[0;32mand\u001b[0m \u001b[0mno_val_y\u001b[0m\u001b[0;34m:\u001b[0m\u001b[0;34m\u001b[0m\u001b[0;34m\u001b[0m\u001b[0m\n\u001b[0;32m--> 566\u001b[0;31m             \u001b[0mX\u001b[0m \u001b[0;34m=\u001b[0m \u001b[0mcheck_array\u001b[0m\u001b[0;34m(\u001b[0m\u001b[0mX\u001b[0m\u001b[0;34m,\u001b[0m \u001b[0;34m**\u001b[0m\u001b[0mcheck_params\u001b[0m\u001b[0;34m)\u001b[0m\u001b[0;34m\u001b[0m\u001b[0;34m\u001b[0m\u001b[0m\n\u001b[0m\u001b[1;32m    567\u001b[0m             \u001b[0mout\u001b[0m \u001b[0;34m=\u001b[0m \u001b[0mX\u001b[0m\u001b[0;34m\u001b[0m\u001b[0;34m\u001b[0m\u001b[0m\n\u001b[1;32m    568\u001b[0m         \u001b[0;32melif\u001b[0m \u001b[0mno_val_X\u001b[0m \u001b[0;32mand\u001b[0m \u001b[0;32mnot\u001b[0m \u001b[0mno_val_y\u001b[0m\u001b[0;34m:\u001b[0m\u001b[0;34m\u001b[0m\u001b[0;34m\u001b[0m\u001b[0m\n",
            "\u001b[0;32m/usr/local/lib/python3.7/dist-packages/sklearn/utils/validation.py\u001b[0m in \u001b[0;36mcheck_array\u001b[0;34m(array, accept_sparse, accept_large_sparse, dtype, order, copy, force_all_finite, ensure_2d, allow_nd, ensure_min_samples, ensure_min_features, estimator)\u001b[0m\n\u001b[1;32m    771\u001b[0m                     \u001b[0;34m\"Reshape your data either using array.reshape(-1, 1) if \"\u001b[0m\u001b[0;34m\u001b[0m\u001b[0;34m\u001b[0m\u001b[0m\n\u001b[1;32m    772\u001b[0m                     \u001b[0;34m\"your data has a single feature or array.reshape(1, -1) \"\u001b[0m\u001b[0;34m\u001b[0m\u001b[0;34m\u001b[0m\u001b[0m\n\u001b[0;32m--> 773\u001b[0;31m                     \u001b[0;34m\"if it contains a single sample.\"\u001b[0m\u001b[0;34m.\u001b[0m\u001b[0mformat\u001b[0m\u001b[0;34m(\u001b[0m\u001b[0marray\u001b[0m\u001b[0;34m)\u001b[0m\u001b[0;34m\u001b[0m\u001b[0;34m\u001b[0m\u001b[0m\n\u001b[0m\u001b[1;32m    774\u001b[0m                 )\n\u001b[1;32m    775\u001b[0m \u001b[0;34m\u001b[0m\u001b[0m\n",
            "\u001b[0;31mValueError\u001b[0m: Expected 2D array, got 1D array instead:\narray=[ 6.575  4.98  15.3  ].\nReshape your data either using array.reshape(-1, 1) if your data has a single feature or array.reshape(1, -1) if it contains a single sample."
          ]
        }
      ]
    },
    {
      "cell_type": "code",
      "source": [
        "lreg.predict(X[0].reshape(-1,3)) # con el comando reshape retomo la bidimensionalidad de la base que va de menos -1 a 3 por lospor el idexado 0\n",
        "#que lleva python de esta manera incluyo el 0 y el dos el reshape de mi array "
      ],
      "metadata": {
        "colab": {
          "base_uri": "https://localhost:8080/"
        },
        "id": "qZqCAO3F91xb",
        "outputId": "e762e461-019d-4bc4-fa6f-7bcd8531629d"
      },
      "execution_count": 26,
      "outputs": [
        {
          "output_type": "execute_result",
          "data": {
            "text/plain": [
              "array([30.93692265])"
            ]
          },
          "metadata": {},
          "execution_count": 26
        }
      ]
    },
    {
      "cell_type": "code",
      "source": [
        "lreg.predict(X[0:10]) #realizo la prediccion de  10 valores "
      ],
      "metadata": {
        "colab": {
          "base_uri": "https://localhost:8080/"
        },
        "id": "vcE7v79X-o3K",
        "outputId": "bf700637-412f-4d86-dcfd-71557cd43c97"
      },
      "execution_count": 33,
      "outputs": [
        {
          "output_type": "execute_result",
          "data": {
            "text/plain": [
              "array([30.93692265, 25.54732909, 32.87840913, 31.22126902, 31.14158522,\n",
              "       26.45245446, 23.99307176, 22.0562208 , 13.67300117, 21.85868698])"
            ]
          },
          "metadata": {},
          "execution_count": 33
        }
      ]
    },
    {
      "cell_type": "markdown",
      "source": [
        "### Ecuacion del modelo "
      ],
      "metadata": {
        "id": "4y9YErg9_bdF"
      }
    },
    {
      "cell_type": "code",
      "source": [
        "coef = np.around(lreg.coef_,2)\n",
        "coef #obtengo los coeficientes de mi regresion "
      ],
      "metadata": {
        "colab": {
          "base_uri": "https://localhost:8080/"
        },
        "id": "NxV-zjQC4Oq0",
        "outputId": "95022dd8-e9e2-45a1-8c61-a4c8f801b9fe"
      },
      "execution_count": 28,
      "outputs": [
        {
          "output_type": "execute_result",
          "data": {
            "text/plain": [
              "array([ 6.61, -0.45, -1.01])"
            ]
          },
          "metadata": {},
          "execution_count": 28
        }
      ]
    },
    {
      "cell_type": "code",
      "source": [
        "intercept = np.around(lreg.intercept_,2)\n",
        "intercept #obtengo el intercepto de mi regresion "
      ],
      "metadata": {
        "colab": {
          "base_uri": "https://localhost:8080/"
        },
        "id": "UMfk9_nc_SYn",
        "outputId": "9b9ca368-caa8-4a31-8845-31f7dfe52a28"
      },
      "execution_count": 29,
      "outputs": [
        {
          "output_type": "execute_result",
          "data": {
            "text/plain": [
              "5.07"
            ]
          },
          "metadata": {},
          "execution_count": 29
        }
      ]
    },
    {
      "cell_type": "code",
      "source": [
        "m1 = lreg.coef_[0] #de fino las variables que lleva mi ecuacion del modelo lineal\n",
        "m2 = lreg.coef_[1] #de fino las variables que lleva mi ecuacion del modelo lineal\n",
        "m3 = lreg.coef_[2] #de fino las variables que lleva mi ecuacion del modelo lineal\n",
        "b = lreg.intercept_\n",
        "print(\"formula: y = {:.2f}*RM + {:.2f}*LSTAT + {:.2f}*'PTRATIO + {:.2f}\".format(m1,m2,m3,b) ) #genero una cadena la cual muestre de manera clara mi forula de la ecuacion"
      ],
      "metadata": {
        "colab": {
          "base_uri": "https://localhost:8080/"
        },
        "id": "WuPHx5AD_s-F",
        "outputId": "5a448b89-92c7-4fd5-9004-b789e3d0276a"
      },
      "execution_count": 34,
      "outputs": [
        {
          "output_type": "stream",
          "name": "stdout",
          "text": [
            "formula: y = 6.61*RM + -0.45*LSTAT + -1.01*'PTRATIO + 5.07\n"
          ]
        }
      ]
    },
    {
      "cell_type": "markdown",
      "source": [
        "### Ajuste del Modelo "
      ],
      "metadata": {
        "id": "QTfreLqL3yb6"
      }
    },
    {
      "cell_type": "code",
      "source": [
        "r_2 = round(lreg.score(X,y),2)\n",
        "print( 'El valor r cuadrdrado es de:', r_2)"
      ],
      "metadata": {
        "colab": {
          "base_uri": "https://localhost:8080/"
        },
        "id": "HVmLWIN23yN_",
        "outputId": "cae62f05-81cc-40b0-b612-9c05e5a8bc80"
      },
      "execution_count": 32,
      "outputs": [
        {
          "output_type": "stream",
          "name": "stdout",
          "text": [
            "El valor r cuadrdrado es de: 0.78\n"
          ]
        }
      ]
    },
    {
      "cell_type": "code",
      "source": [
        "yp = lreg.predict(X[0:404]) #realizo la prediccion de  los valore para etotal dela array para encontrar la varianza del modelo \n",
        "yp.shape"
      ],
      "metadata": {
        "colab": {
          "base_uri": "https://localhost:8080/"
        },
        "id": "2outpEga6_4r",
        "outputId": "01242b3a-7aea-49ae-f828-9525c0b44698"
      },
      "execution_count": 36,
      "outputs": [
        {
          "output_type": "execute_result",
          "data": {
            "text/plain": [
              "(404,)"
            ]
          },
          "metadata": {},
          "execution_count": 36
        }
      ]
    },
    {
      "cell_type": "code",
      "source": [
        "v = y - yp #obtengo las diferencias entre mi vector objetivo y mi vector predecido para usar en las formulas de los futuros indicadores de ajuste\n",
        "v"
      ],
      "metadata": {
        "colab": {
          "base_uri": "https://localhost:8080/"
        },
        "id": "dPNgD7Lb9A8y",
        "outputId": "03f9f7f9-509d-470f-e1fa-90eabbc89617"
      },
      "execution_count": 39,
      "outputs": [
        {
          "output_type": "execute_result",
          "data": {
            "text/plain": [
              "array([-6.93692265e+00, -3.94732909e+00,  1.82159087e+00,  2.17873098e+00,\n",
              "        5.05841478e+00,  2.24754554e+00, -1.09307176e+00,  5.04377920e+00,\n",
              "        2.82699883e+00, -2.95868698e+00, -7.83277509e+00, -4.69883126e+00,\n",
              "       -1.75540981e-02,  8.04006717e-01, -1.47690756e+00,  1.15827658e+00,\n",
              "        2.84781627e+00,  4.89816122e-01,  5.39375605e+00,  1.41847781e+00,\n",
              "        2.19817995e+00,  2.38078239e+00, -1.01046404e+00,  9.82739732e-01,\n",
              "       -2.47116783e-01,  2.96203801e-01,  8.22986930e-01, -1.42390723e+00,\n",
              "       -2.78399898e+00, -1.73348206e+00,  1.05652532e+00, -3.77908341e+00,\n",
              "        2.26646359e+00, -3.58370452e-01, -1.68414460e+00, -1.76934794e+00,\n",
              "        7.10267929e-01,  4.74061169e-01,  4.01294244e+00,  2.45677807e+00,\n",
              "        2.67618305e+00, -3.07168272e+00,  3.59874516e-02, -1.15314395e-01,\n",
              "       -1.73560214e+00, -7.81611087e-01,  9.86577890e-01, -1.95481241e+00,\n",
              "        5.37193873e+00,  2.51735766e+00, -1.90358296e+00, -3.90074776e+00,\n",
              "       -3.86979959e+00, -6.72558682e-01,  2.72311229e+00,  2.54658741e+00,\n",
              "       -2.60138186e+00, -1.59144966e+00,  4.74828406e-01, -7.31327610e-01,\n",
              "        1.35061716e+00, -2.26268478e+00, -2.74023195e+00, -7.29658890e-01,\n",
              "        3.25450031e+00, -4.88457660e+00, -3.17486129e+00,  6.88212269e-01,\n",
              "        1.90833961e-01, -1.50549099e-01, -9.90082535e-01,  9.34587423e-01,\n",
              "       -5.96621678e-01, -2.86901147e-01, -6.14208018e-01, -2.43746195e+00,\n",
              "       -2.44065711e+00, -1.47894586e+00, -7.64861399e-01, -7.40963027e-01,\n",
              "       -7.92961741e-02, -2.60470575e+00,  1.69244081e-01, -4.85683357e-01,\n",
              "       -5.17019059e-01, -7.88365916e-01,  2.00091651e+00, -9.70264279e-01,\n",
              "       -7.44582868e+00, -2.73293252e+00, -3.06795548e+00, -3.86046463e+00,\n",
              "       -2.82034252e+00, -6.15224217e-02, -2.76066198e+00,  5.94831950e-01,\n",
              "       -1.25887369e+00,  2.55920712e-01,  6.71768320e+00, -4.22859844e-02,\n",
              "        3.17425682e+00,  1.03707878e+00, -3.05655557e+00,  6.68584555e-01,\n",
              "        7.75409958e-01,  4.11084250e+00,  5.18616665e+00,  2.12444173e+00,\n",
              "       -1.58199254e+00,  1.10049744e+00,  2.48882931e+00, -4.23737527e+00,\n",
              "       -2.35975218e-01, -1.12775026e+00, -5.35882213e+00, -1.03576290e+00,\n",
              "       -1.43420914e+00, -3.18449388e+00,  1.26082348e+00,  3.09021150e-01,\n",
              "        3.73707804e+00,  1.10616033e+00,  3.22188584e+00,  4.05032658e+00,\n",
              "        1.90827836e+00,  2.56590555e+00,  4.88222133e+00,  2.47886547e+00,\n",
              "       -1.40493474e+00,  1.46184620e+00, -1.62705958e+00, -5.05483591e-01,\n",
              "        2.08213806e+00,  2.86285654e+00,  1.50902100e+00,  2.98255400e-02,\n",
              "        1.90259211e+00, -2.81363735e+00,  3.34867832e-01,  1.61546447e+00,\n",
              "        2.03880832e-01,  1.28121936e+01, -6.54409002e-01,  9.37362482e-01,\n",
              "        2.15375983e+00, -4.62637391e+00, -4.47555456e+00,  4.90859625e+00,\n",
              "        5.84950933e+00, -2.33109327e+00, -2.97969308e+00, -4.95945214e-01,\n",
              "       -2.72007484e+00, -1.59464239e+00, -7.07136994e+00, -8.66807513e+00,\n",
              "       -4.84809527e+00,  7.15107214e+00, -3.22787994e+00, -6.73684785e+00,\n",
              "       -2.15946383e+00,  1.09648079e+01,  8.97914590e+00,  5.81301664e+00,\n",
              "       -1.10344788e+00, -1.25288653e+00,  8.93246583e+00,  6.72733007e-02,\n",
              "       -3.31988678e+00, -5.27083621e+00, -5.29882034e+00, -4.70159845e+00,\n",
              "        4.43403434e+00, -3.16689162e+00, -2.15173572e-01,  1.19633472e-01,\n",
              "       -4.70628471e-01, -2.72452855e+00, -7.48648211e-01,  6.12773667e+00,\n",
              "        4.65852353e+00,  1.26230653e+01,  5.57213807e+00,  4.47124933e+00,\n",
              "        8.41397904e+00,  7.61266377e+00,  1.30358047e+01,  3.50906245e-01,\n",
              "       -1.29911709e+00,  1.02850750e-02,  3.52882837e+00, -1.75163320e+00,\n",
              "        4.33396024e-01, -1.00088972e+00, -1.99415428e+00,  8.66226552e+00,\n",
              "       -5.46574983e+00, -5.25606586e+00, -2.94765603e+00,  2.84149215e+00,\n",
              "       -2.65860380e-01, -3.61716395e+00,  3.07953076e+00,  7.98419806e+00,\n",
              "        7.87245776e+00,  2.13482578e+00,  1.10207749e+00,  5.95385403e+00,\n",
              "        4.47975579e+00,  8.59955587e+00,  3.63097132e+00,  7.89936667e+00,\n",
              "        4.79031283e+00,  3.76928578e+00,  1.47290586e+01,  1.98600350e+00,\n",
              "        1.81656119e+00,  5.26593106e-01,  1.56542977e+00, -3.03307347e+00,\n",
              "       -2.50166151e+00,  2.94107112e+00, -1.12735922e+00,  2.16052667e+00,\n",
              "        4.41762705e+00,  6.79995724e+00, -1.73765751e+00, -4.97071839e-01,\n",
              "        1.00559965e+01,  2.28555672e+00,  2.37910850e+00, -2.53882790e+00,\n",
              "        1.03658892e-01,  7.95861805e+00,  5.46727502e-01,  1.04138597e+00,\n",
              "       -2.06078360e+00, -2.61341295e+00, -4.69134033e+00, -5.46798851e+00,\n",
              "       -6.90551639e+00, -3.04604071e+00, -3.21159990e+00, -4.63074334e+00,\n",
              "        3.35823245e-01,  3.81288416e+00,  2.14066827e+00, -1.99859244e+00,\n",
              "        3.51402734e-01, -1.15304094e+00, -1.71925415e+00, -2.02473383e+00,\n",
              "       -6.84416109e-01,  3.90792652e+00, -4.13186645e+00, -2.40279169e+00,\n",
              "        7.01946111e+00,  2.72769213e+00, -1.01374368e+00, -4.06269325e+00,\n",
              "       -1.55157604e+00,  4.61311310e+00,  3.90384885e+00, -4.43189780e+00,\n",
              "        4.64471568e-01, -1.30059664e+00, -1.08373521e+00,  6.45385334e+00,\n",
              "        3.51642595e+00,  1.28207999e+00,  1.81569784e+00,  5.18714356e-01,\n",
              "       -1.74430467e+00,  9.16578214e-01,  1.92179468e+00,  6.41659229e-01,\n",
              "        4.78191055e-01,  2.45280451e+00,  2.07870504e+00,  2.13480398e+00,\n",
              "        5.28153595e+00,  1.28705297e+00,  6.70479526e+00,  7.62407716e+00,\n",
              "       -8.50985668e-01, -6.68139083e+00, -2.09202313e+00, -3.04453464e+00,\n",
              "       -4.44064765e+00, -2.74297219e+00, -1.13789161e+00,  5.86625251e+00,\n",
              "        4.00687725e-01, -1.76435218e+00, -2.37264465e+00, -1.73854820e+00,\n",
              "       -1.88607830e+00,  1.00602549e-01, -7.42339853e+00, -5.62962293e+00,\n",
              "       -1.04322231e+01, -3.00252386e+00, -6.14510065e-01, -7.08104490e+00,\n",
              "        1.01988555e+01,  1.14790845e+01,  7.07984419e+00,  6.26029879e+00,\n",
              "       -3.30681549e+00, -2.10804511e+00,  1.78739252e+01,  6.41886471e+00,\n",
              "        8.85821338e+00, -7.14309145e+00, -1.05979635e+01,  2.45716177e+00,\n",
              "       -6.14530241e+00, -1.13351910e+01, -3.74427721e+00, -3.26231045e+00,\n",
              "        4.99255332e+00, -1.32097605e+00, -2.19456644e+00, -4.56148724e+00,\n",
              "       -6.14891246e+00, -8.38469632e+00, -5.10519129e+00, -6.70108872e+00,\n",
              "       -4.35980019e+00, -7.05413915e+00, -5.76955532e+00, -5.77478765e+00,\n",
              "       -7.33467158e+00, -4.80913160e+00, -9.82450041e+00, -4.93664235e+00,\n",
              "       -4.27260610e-01,  1.04479757e+00, -2.86177431e+00, -1.30550682e+00,\n",
              "       -7.45223133e-02, -3.82668058e+00, -2.05110346e+00, -4.96820743e+00,\n",
              "       -3.84664190e+00, -6.15304378e+00, -3.46323404e+00, -5.57186584e+00,\n",
              "       -8.20136773e+00, -5.65034610e+00, -2.58737222e+00, -8.37312071e+00,\n",
              "       -5.99641018e+00, -5.71217331e+00, -3.08857251e+00, -2.94661239e+00,\n",
              "       -4.27736937e+00,  1.59588939e+00, -5.33849525e+00, -2.67768168e+00,\n",
              "       -7.81593574e-01, -3.02717018e+00,  1.48957820e+00,  3.37171212e+00,\n",
              "        2.54115440e+00,  4.16242677e+00,  3.24992851e+00,  4.15677805e+00,\n",
              "        1.63571992e+00, -5.98711062e-01,  2.28957608e+00,  4.09446914e+00,\n",
              "        1.25503471e+00, -1.45020756e+00, -2.59583685e+00,  3.28608241e+00,\n",
              "       -3.00780511e+00,  1.30825948e+00,  1.76593648e+00, -2.23137520e+00,\n",
              "       -3.31386192e+00,  3.59828216e+00,  2.97877368e+00, -5.68394125e-01,\n",
              "        6.02408963e-01,  1.91148670e+00,  2.34011362e+00, -2.96115557e+00,\n",
              "        2.80711527e+00, -2.75451419e+00,  1.64173173e+00,  3.66404095e+00,\n",
              "        5.61968225e+00,  7.70030078e+00,  7.73018397e+00,  5.20112256e-01,\n",
              "        1.40590510e+00,  1.65409150e+00, -2.41855915e+00, -8.27296868e-01,\n",
              "        2.38405259e-01, -3.65687457e+00, -3.97863370e+00, -8.40114002e+00])"
            ]
          },
          "metadata": {},
          "execution_count": 39
        }
      ]
    },
    {
      "cell_type": "code",
      "source": [
        "mse = np.round(np.mean(var**2),2) # obtengo el cuadrado del error mediante la formula entregada y mi variable creada \n",
        "mse"
      ],
      "metadata": {
        "colab": {
          "base_uri": "https://localhost:8080/"
        },
        "id": "PK9YZLJpLgGK",
        "outputId": "1a876182-337a-4823-ae71-15603665c89f"
      },
      "execution_count": 40,
      "outputs": [
        {
          "output_type": "execute_result",
          "data": {
            "text/plain": [
              "17.92"
            ]
          },
          "metadata": {},
          "execution_count": 40
        }
      ]
    },
    {
      "cell_type": "code",
      "source": [
        "mae = np.round(np.mean(abs(var)),2) #obtengo el error absoluto medio que lo tomo como el promedio debido al 1 sobre n y el avalor absoluto de las diferencias\n",
        "mae"
      ],
      "metadata": {
        "colab": {
          "base_uri": "https://localhost:8080/"
        },
        "id": "O5nR6tV0L6JJ",
        "outputId": "618050e8-abbb-4500-edb5-72305b0ad637"
      },
      "execution_count": 42,
      "outputs": [
        {
          "output_type": "execute_result",
          "data": {
            "text/plain": [
              "3.23"
            ]
          },
          "metadata": {},
          "execution_count": 42
        }
      ]
    },
    {
      "cell_type": "code",
      "source": [
        "rms = np.round(np.sqrt(mse),2) #la raiz de lo errores al cuadrado \n",
        "rms"
      ],
      "metadata": {
        "colab": {
          "base_uri": "https://localhost:8080/"
        },
        "id": "I17xhjR0L7mh",
        "outputId": "470611f6-c9f3-4d44-ccc3-6ef51fb70535"
      },
      "execution_count": 41,
      "outputs": [
        {
          "output_type": "execute_result",
          "data": {
            "text/plain": [
              "4.23"
            ]
          },
          "metadata": {},
          "execution_count": 41
        }
      ]
    }
  ]
}