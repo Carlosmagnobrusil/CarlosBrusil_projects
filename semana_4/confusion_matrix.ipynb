{
  "nbformat": 4,
  "nbformat_minor": 0,
  "metadata": {
    "colab": {
      "name": "confusion_matrix.ipynb",
      "provenance": [],
      "collapsed_sections": [],
      "authorship_tag": "ABX9TyOzgwR71OWBm/26QWZiHqwt",
      "include_colab_link": true
    },
    "kernelspec": {
      "name": "python3",
      "display_name": "Python 3"
    },
    "language_info": {
      "name": "python"
    }
  },
  "cells": [
    {
      "cell_type": "markdown",
      "metadata": {
        "id": "view-in-github",
        "colab_type": "text"
      },
      "source": [
        "<a href=\"https://colab.research.google.com/github/Carlosmagnobrusil/CarlosBrusil_projects/blob/main/semana_4/confusion_matrix.ipynb\" target=\"_parent\"><img src=\"https://colab.research.google.com/assets/colab-badge.svg\" alt=\"Open In Colab\"/></a>"
      ]
    },
    {
      "cell_type": "markdown",
      "source": [
        "#**Matriz de confusión**\n",
        "## *Creado por: Carlos Brusil*\n",
        "\n",
        "\n",
        "\n",
        "*   Fecha de Creación: 28 de enero de 2022 \n",
        "*   Fechad de actualización: 28 de enero de 2022\n",
        "*   Descripción: Realizar el ejercico de crecion la matriz de confusion "
      ],
      "metadata": {
        "id": "7GvaJiKTwlVD"
      }
    },
    {
      "cell_type": "code",
      "source": [
        "import pandas as pd #importo la libreria panda permite manipular y molderar los datos \n",
        "import numpy as np #importo la libreria numpy manipular y molderar los datos \n",
        "import matplotlib.pyplot as plt #importo libreria matplotlib que es una libreria que me permite realizar graficas en 2 dimensiones de de mis datos\n",
        "import seaborn as sns #Esta libreria nos permite modificar la vizualizacion de los datos atraves de los coleres y mejorar presetancion de los mismo "
      ],
      "metadata": {
        "id": "ZiJXM5eBwuKh"
      },
      "execution_count": null,
      "outputs": []
    },
    {
      "cell_type": "code",
      "source": [
        "c_m_a = [[87,16],[17,59]] #primero comiienzo definiendo mi conjunto de datos como un array para la lectuira del grafico en este hay que tener claro que este debe ser \n",
        "#en orden de filas para su futura vizualizacion"
      ],
      "metadata": {
        "id": "7eck6SqCxtlT"
      },
      "execution_count": null,
      "outputs": []
    },
    {
      "cell_type": "code",
      "source": [
        "cma_df = pd.DataFrame(c_m_a, range(2), range(2)) #transformo el array creado como un dataframe \n",
        "cma_df"
      ],
      "metadata": {
        "colab": {
          "base_uri": "https://localhost:8080/",
          "height": 112
        },
        "id": "m4wOMILNyF_n",
        "outputId": "6ab5e807-f60e-4bc1-ec38-aa6b3e736af3"
      },
      "execution_count": null,
      "outputs": [
        {
          "output_type": "execute_result",
          "data": {
            "text/html": [
              "\n",
              "  <div id=\"df-74da7627-a8be-4d27-ac3a-87056feac499\">\n",
              "    <div class=\"colab-df-container\">\n",
              "      <div>\n",
              "<style scoped>\n",
              "    .dataframe tbody tr th:only-of-type {\n",
              "        vertical-align: middle;\n",
              "    }\n",
              "\n",
              "    .dataframe tbody tr th {\n",
              "        vertical-align: top;\n",
              "    }\n",
              "\n",
              "    .dataframe thead th {\n",
              "        text-align: right;\n",
              "    }\n",
              "</style>\n",
              "<table border=\"1\" class=\"dataframe\">\n",
              "  <thead>\n",
              "    <tr style=\"text-align: right;\">\n",
              "      <th></th>\n",
              "      <th>0</th>\n",
              "      <th>1</th>\n",
              "    </tr>\n",
              "  </thead>\n",
              "  <tbody>\n",
              "    <tr>\n",
              "      <th>0</th>\n",
              "      <td>87</td>\n",
              "      <td>16</td>\n",
              "    </tr>\n",
              "    <tr>\n",
              "      <th>1</th>\n",
              "      <td>17</td>\n",
              "      <td>59</td>\n",
              "    </tr>\n",
              "  </tbody>\n",
              "</table>\n",
              "</div>\n",
              "      <button class=\"colab-df-convert\" onclick=\"convertToInteractive('df-74da7627-a8be-4d27-ac3a-87056feac499')\"\n",
              "              title=\"Convert this dataframe to an interactive table.\"\n",
              "              style=\"display:none;\">\n",
              "        \n",
              "  <svg xmlns=\"http://www.w3.org/2000/svg\" height=\"24px\"viewBox=\"0 0 24 24\"\n",
              "       width=\"24px\">\n",
              "    <path d=\"M0 0h24v24H0V0z\" fill=\"none\"/>\n",
              "    <path d=\"M18.56 5.44l.94 2.06.94-2.06 2.06-.94-2.06-.94-.94-2.06-.94 2.06-2.06.94zm-11 1L8.5 8.5l.94-2.06 2.06-.94-2.06-.94L8.5 2.5l-.94 2.06-2.06.94zm10 10l.94 2.06.94-2.06 2.06-.94-2.06-.94-.94-2.06-.94 2.06-2.06.94z\"/><path d=\"M17.41 7.96l-1.37-1.37c-.4-.4-.92-.59-1.43-.59-.52 0-1.04.2-1.43.59L10.3 9.45l-7.72 7.72c-.78.78-.78 2.05 0 2.83L4 21.41c.39.39.9.59 1.41.59.51 0 1.02-.2 1.41-.59l7.78-7.78 2.81-2.81c.8-.78.8-2.07 0-2.86zM5.41 20L4 18.59l7.72-7.72 1.47 1.35L5.41 20z\"/>\n",
              "  </svg>\n",
              "      </button>\n",
              "      \n",
              "  <style>\n",
              "    .colab-df-container {\n",
              "      display:flex;\n",
              "      flex-wrap:wrap;\n",
              "      gap: 12px;\n",
              "    }\n",
              "\n",
              "    .colab-df-convert {\n",
              "      background-color: #E8F0FE;\n",
              "      border: none;\n",
              "      border-radius: 50%;\n",
              "      cursor: pointer;\n",
              "      display: none;\n",
              "      fill: #1967D2;\n",
              "      height: 32px;\n",
              "      padding: 0 0 0 0;\n",
              "      width: 32px;\n",
              "    }\n",
              "\n",
              "    .colab-df-convert:hover {\n",
              "      background-color: #E2EBFA;\n",
              "      box-shadow: 0px 1px 2px rgba(60, 64, 67, 0.3), 0px 1px 3px 1px rgba(60, 64, 67, 0.15);\n",
              "      fill: #174EA6;\n",
              "    }\n",
              "\n",
              "    [theme=dark] .colab-df-convert {\n",
              "      background-color: #3B4455;\n",
              "      fill: #D2E3FC;\n",
              "    }\n",
              "\n",
              "    [theme=dark] .colab-df-convert:hover {\n",
              "      background-color: #434B5C;\n",
              "      box-shadow: 0px 1px 3px 1px rgba(0, 0, 0, 0.15);\n",
              "      filter: drop-shadow(0px 1px 2px rgba(0, 0, 0, 0.3));\n",
              "      fill: #FFFFFF;\n",
              "    }\n",
              "  </style>\n",
              "\n",
              "      <script>\n",
              "        const buttonEl =\n",
              "          document.querySelector('#df-74da7627-a8be-4d27-ac3a-87056feac499 button.colab-df-convert');\n",
              "        buttonEl.style.display =\n",
              "          google.colab.kernel.accessAllowed ? 'block' : 'none';\n",
              "\n",
              "        async function convertToInteractive(key) {\n",
              "          const element = document.querySelector('#df-74da7627-a8be-4d27-ac3a-87056feac499');\n",
              "          const dataTable =\n",
              "            await google.colab.kernel.invokeFunction('convertToInteractive',\n",
              "                                                     [key], {});\n",
              "          if (!dataTable) return;\n",
              "\n",
              "          const docLinkHtml = 'Like what you see? Visit the ' +\n",
              "            '<a target=\"_blank\" href=https://colab.research.google.com/notebooks/data_table.ipynb>data table notebook</a>'\n",
              "            + ' to learn more about interactive tables.';\n",
              "          element.innerHTML = '';\n",
              "          dataTable['output_type'] = 'display_data';\n",
              "          await google.colab.output.renderOutput(dataTable, element);\n",
              "          const docLink = document.createElement('div');\n",
              "          docLink.innerHTML = docLinkHtml;\n",
              "          element.appendChild(docLink);\n",
              "        }\n",
              "      </script>\n",
              "    </div>\n",
              "  </div>\n",
              "  "
            ],
            "text/plain": [
              "    0   1\n",
              "0  87  16\n",
              "1  17  59"
            ]
          },
          "metadata": {},
          "execution_count": 12
        }
      ]
    },
    {
      "cell_type": "code",
      "source": [
        "sns.set() #empiezo a relizar los ajustes de estilo que deseo observar en mis graficos \n",
        "sns.set_style('whitegrid') #escojo el stilo de fonfo y cuadricula de mis futuros graficos \n",
        "sns.set_style('ticks') #Le digo que todos mis graficos cuenten con el idicador de linea para los datos de los ejes"
      ],
      "metadata": {
        "id": "f92de7brz8MI"
      },
      "execution_count": null,
      "outputs": []
    },
    {
      "cell_type": "code",
      "source": [
        "sns.heatmap(cma_df, xticklabels= '',annot = True, cmap = 'Blues') #para cambiar el color del mapa d color en este caso para los mapas de calor se debe usar el argumento 'cmap' y para observar los collores disponibles \n",
        "# ingresamos al siguiente link: https://likegeeks.com/seaborn-heatmap-tutorial/#:~:text=You%20can%20change%20the%20color,cmap%20attribute%20of%20the%20heatmap.\n",
        "#ademas usamos el argumento 'annot' con el 'True' para que aparezca texto dentro del grafico "
      ],
      "metadata": {
        "id": "OqQm5Dfa5uQj",
        "colab": {
          "base_uri": "https://localhost:8080/",
          "height": 266
        },
        "outputId": "9f49b704-5595-438a-fb42-d57e0e8e5796"
      },
      "execution_count": 28,
      "outputs": [
        {
          "output_type": "execute_result",
          "data": {
            "text/plain": [
              "<matplotlib.axes._subplots.AxesSubplot at 0x7f4a9d0c5d10>"
            ]
          },
          "metadata": {},
          "execution_count": 28
        },
        {
          "output_type": "display_data",
          "data": {
            "image/png": "[encoded data removed]",
            "text/plain": [
              "<Figure size 432x288 with 2 Axes>"
            ]
          },
          "metadata": {}
        }
      ]
    },
    {
      "cell_type": "code",
      "source": [
        "cm = sns.heatmap(cma_df, xticklabels= '',annot = True, cmap = 'Blues') #para cambiar el color del mapa d color en este caso para los mapas de calor se debe usar el argumento 'cmap' y para observar los collores disponibles \n",
        "# ingresamos al siguiente link: https://likegeeks.com/seaborn-heatmap-tutorial/#:~:text=You%20can%20change%20the%20color,cmap%20attribute%20of%20the%20heatmap.\n",
        "#ademas usamos el argumento 'annot' con el 'True' para que aparezca texto dentro del grafico\n",
        "cm.set(xlabel='Actual Label', ylabel='Prediction Label') #agrego el titulo de los ejes "
      ],
      "metadata": {
        "colab": {
          "base_uri": "https://localhost:8080/",
          "height": 282
        },
        "id": "4p_hGaT_zrjX",
        "outputId": "995c9ac8-136a-4d9c-8310-975fe596222b"
      },
      "execution_count": 31,
      "outputs": [
        {
          "output_type": "execute_result",
          "data": {
            "text/plain": [
              "[Text(30.5, 0.5, 'Prediction Label'), Text(0.5, 32.0, 'Actual Label')]"
            ]
          },
          "metadata": {},
          "execution_count": 31
        },
        {
          "output_type": "display_data",
          "data": {
            "image/png": "[encoded data removed]",
            "text/plain": [
              "<Figure size 432x288 with 2 Axes>"
            ]
          },
          "metadata": {}
        }
      ]
    },
    {
      "cell_type": "code",
      "source": [
        "precision =round(((87+59)/(87+59+16+17)),2) # calculo la precision de la matriz a traves de de la eciacion de los aciertos para el total de las observaciones \n",
        "precision "
      ],
      "metadata": {
        "colab": {
          "base_uri": "https://localhost:8080/"
        },
        "id": "vpweWJAZ8VDX",
        "outputId": "607122df-995e-4ff2-b44d-e9d73c2d473b"
      },
      "execution_count": 32,
      "outputs": [
        {
          "output_type": "execute_result",
          "data": {
            "text/plain": [
              "0.82"
            ]
          },
          "metadata": {},
          "execution_count": 32
        }
      ]
    },
    {
      "cell_type": "code",
      "source": [
        "cm = sns.heatmap(cma_df, xticklabels= '',annot = True, cmap = 'Blues') #para cambiar el color del mapa d color en este caso para los mapas de calor se debe usar el argumento 'cmap' y para observar los collores disponibles \n",
        "# ingresamos al siguiente link: https://likegeeks.com/seaborn-heatmap-tutorial/#:~:text=You%20can%20change%20the%20color,cmap%20attribute%20of%20the%20heatmap.\n",
        "#ademas usamos el argumento 'annot' con el 'True' para que aparezca texto dentro del grafico\n",
        "cm.set(xlabel='Actual Label', ylabel='Prediction Label') #agrego el titulo de los ejes \n",
        "cm.set_title(('Acurracy Score :',precision))"
      ],
      "metadata": {
        "colab": {
          "base_uri": "https://localhost:8080/",
          "height": 298
        },
        "id": "Psn9cKqi9h2M",
        "outputId": "713845fe-34e4-4012-bbac-301d89f9de89"
      },
      "execution_count": 39,
      "outputs": [
        {
          "output_type": "execute_result",
          "data": {
            "text/plain": [
              "Text(0.5, 1.0, \"('Acurracy Score :', 0.82)\")"
            ]
          },
          "metadata": {},
          "execution_count": 39
        },
        {
          "output_type": "display_data",
          "data": {
            "image/png": "[encoded data removed]",
            "text/plain": [
              "<Figure size 432x288 with 2 Axes>"
            ]
          },
          "metadata": {}
        }
      ]
    }
  ]
}