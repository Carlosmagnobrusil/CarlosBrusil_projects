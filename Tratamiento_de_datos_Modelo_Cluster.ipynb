{
  "cells": [
    {
      "cell_type": "markdown",
      "metadata": {
        "id": "view-in-github",
        "colab_type": "text"
      },
      "source": [
        "<a href=\"https://colab.research.google.com/github/Carlosmagnobrusil/CarlosBrusil_projects/blob/main/Tratamiento_de_datos_Modelo_Cluster.ipynb\" target=\"_parent\"><img src=\"https://colab.research.google.com/assets/colab-badge.svg\" alt=\"Open In Colab\"/></a>"
      ]
    },
    {
      "cell_type": "markdown",
      "metadata": {
        "id": "mJDq3q_Pyx1c"
      },
      "source": [
        "#**Clustering coorporativo para manejo de relaciones**\n",
        "## *Creado por: Carlos Brusil*\n",
        "\n",
        "\n",
        "\n",
        "*   Fecha de Creación: 5 de diciembre del 2023\n",
        "*   Fechad de actualización: 5 deenero del 2024\n",
        "*   Descripción: El presente Script tiene como objetivo crear un modelo de clusterización para poder tener una clara gestion de las relaciones.\n"
      ]
    },
    {
      "cell_type": "markdown",
      "metadata": {
        "id": "tJvW73KKMZZY"
      },
      "source": [
        "### Conexion con la el Datawarehouse"
      ]
    },
    {
      "cell_type": "code",
      "execution_count": null,
      "metadata": {
        "colab": {
          "base_uri": "https://localhost:8080/"
        },
        "id": "iWsc2TfBxtDr",
        "outputId": "d7614388-1f7a-433f-85c5-a06da4afc852"
      },
      "outputs": [
        {
          "output_type": "stream",
          "name": "stdout",
          "text": [
            "Mounted at /content/drive\n"
          ]
        }
      ],
      "source": [
        "from google.colab import drive\n",
        "drive.mount('/content/drive') # uno my Drive al nuevo cuaderno"
      ]
    },
    {
      "cell_type": "markdown",
      "metadata": {
        "id": "VFopyKsdMmvZ"
      },
      "source": [
        "### Seleccion e instalacion de bibliotecas y librerias necesarias para el trabajo"
      ]
    },
    {
      "cell_type": "code",
      "execution_count": null,
      "metadata": {
        "colab": {
          "base_uri": "https://localhost:8080/"
        },
        "id": "_HJXpFKa04bS",
        "outputId": "37855de0-39a0-4785-f459-822c55c6d45c"
      },
      "outputs": [
        {
          "output_type": "stream",
          "name": "stdout",
          "text": [
            "Requirement already satisfied: pandas in /usr/local/lib/python3.10/dist-packages (1.5.3)\n",
            "Collecting fuzzywuzzy\n",
            "  Downloading fuzzywuzzy-0.18.0-py2.py3-none-any.whl (18 kB)\n",
            "Requirement already satisfied: python-dateutil>=2.8.1 in /usr/local/lib/python3.10/dist-packages (from pandas) (2.8.2)\n",
            "Requirement already satisfied: pytz>=2020.1 in /usr/local/lib/python3.10/dist-packages (from pandas) (2023.3.post1)\n",
            "Requirement already satisfied: numpy>=1.21.0 in /usr/local/lib/python3.10/dist-packages (from pandas) (1.23.5)\n",
            "Requirement already satisfied: six>=1.5 in /usr/local/lib/python3.10/dist-packages (from python-dateutil>=2.8.1->pandas) (1.16.0)\n",
            "Installing collected packages: fuzzywuzzy\n",
            "Successfully installed fuzzywuzzy-0.18.0\n"
          ]
        }
      ],
      "source": [
        "pip install pandas fuzzywuzzy"
      ]
    },
    {
      "cell_type": "code",
      "execution_count": null,
      "metadata": {
        "colab": {
          "base_uri": "https://localhost:8080/"
        },
        "id": "pf7LUGePwTFm",
        "outputId": "5b3692ee-a9ad-498d-f291-a00ae007aa34"
      },
      "outputs": [
        {
          "output_type": "stream",
          "name": "stdout",
          "text": [
            "Collecting rapidfuzz\n",
            "  Downloading rapidfuzz-3.6.1-cp310-cp310-manylinux_2_17_x86_64.manylinux2014_x86_64.whl (3.4 MB)\n",
            "\u001b[2K     \u001b[90m━━━━━━━━━━━━━━━━━━━━━━━━━━━━━━━━━━━━━━━━\u001b[0m \u001b[32m3.4/3.4 MB\u001b[0m \u001b[31m12.6 MB/s\u001b[0m eta \u001b[36m0:00:00\u001b[0m\n",
            "\u001b[?25hInstalling collected packages: rapidfuzz\n",
            "Successfully installed rapidfuzz-3.6.1\n"
          ]
        }
      ],
      "source": [
        "pip install rapidfuzz"
      ]
    },
    {
      "cell_type": "code",
      "execution_count": null,
      "metadata": {
        "id": "d4Igo1tn0CS_",
        "colab": {
          "base_uri": "https://localhost:8080/"
        },
        "outputId": "15691c1f-8ecc-4a6f-c43c-98a2a95636f0"
      },
      "outputs": [
        {
          "output_type": "stream",
          "name": "stderr",
          "text": [
            "/usr/local/lib/python3.10/dist-packages/fuzzywuzzy/fuzz.py:11: UserWarning: Using slow pure-python SequenceMatcher. Install python-Levenshtein to remove this warning\n",
            "  warnings.warn('Using slow pure-python SequenceMatcher. Install python-Levenshtein to remove this warning')\n"
          ]
        }
      ],
      "source": [
        "import pandas as pd #importo la libreria panda permite manipular y molderar los datos\n",
        "import numpy as np #importo la libreria numpy manipular y molderar los datos\n",
        "import matplotlib.pyplot as plt #importo libreria matplotlib que es una libreria que me permite realizar graficas en 2 dimensiones de de mis datos\n",
        "import seaborn as sns #Esta libreria nos permite modificar la vizualizacion de los datos atraves de los coleres y mejorar presetancion de los mismo\n",
        "from fuzzywuzzy import process #Esta es uuna libreria de procesamiento de cadenas y texto\n",
        "from rapidfuzz import process #Esta es uuna libreria de procesamiento de cadenas y texto\n",
        "from fuzzywuzzy import fuzz\n",
        "import unicodedata"
      ]
    },
    {
      "cell_type": "markdown",
      "metadata": {
        "id": "2IuL1esOM481"
      },
      "source": [
        "### Conexion para subir las bases de datos seleccionadas."
      ]
    },
    {
      "cell_type": "code",
      "execution_count": null,
      "metadata": {
        "id": "agdc2P240Dg9"
      },
      "outputs": [],
      "source": [
        "df1 = pd.read_excel('/content/drive/MyDrive/Msc. Bussines Inteligence & Data Analysis/Proyecto de Titulacion/Bases/1. Simplicity_registrohistorico.xlsx')\n",
        "df2 = pd.read_excel('/content/drive/MyDrive/Msc. Bussines Inteligence & Data Analysis/Proyecto de Titulacion/Bases/3._ Supercom_ranking_2022.xlsx')\n",
        "df3 = pd.read_excel(\"/content/drive/MyDrive/Msc. Bussines Inteligence & Data Analysis/Proyecto de Titulacion/Bases/2. Supercom_directorio_companias.xlsx\")"
      ]
    },
    {
      "cell_type": "markdown",
      "metadata": {
        "id": "hQ1t04CeNHNd"
      },
      "source": [
        "### Tratamiento y exploracion de las bases"
      ]
    },
    {
      "cell_type": "code",
      "execution_count": null,
      "metadata": {
        "id": "3dq8f4BxMBCr"
      },
      "outputs": [],
      "source": [
        "df1.columns= df1.columns.str.lower()#primero defino a todos los nombres de las columnas en letra minuscula\n",
        "df2.columns= df2.columns.str.lower()#primero defino a todos los nombres de las columnas en letra minuscula\n",
        "df3.columns= df3.columns.str.lower()#primero defino a todos los nombres de las columnas en letra minuscula"
      ]
    },
    {
      "cell_type": "code",
      "execution_count": null,
      "metadata": {
        "id": "EB4se__LOTAF"
      },
      "outputs": [],
      "source": [
        "# Cambio los espacios y caracteres especiales de los nombres de las columnas de todos los dataframes\n",
        "\n",
        "df1.columns = df1.columns.str.replace(' ', '_')\n",
        "df2.columns = df2.columns.str.replace(' ', '_')\n",
        "df3.columns = df3.columns.str.replace(' ', '_')"
      ]
    },
    {
      "cell_type": "code",
      "execution_count": null,
      "metadata": {
        "colab": {
          "base_uri": "https://localhost:8080/"
        },
        "id": "jKT1Wt28BVXI",
        "outputId": "db134618-e5d9-4886-e4ac-f0aca825babc"
      },
      "outputs": [
        {
          "output_type": "stream",
          "name": "stdout",
          "text": [
            "<class 'pandas.core.frame.DataFrame'>\n",
            "RangeIndex: 7222 entries, 0 to 7221\n",
            "Data columns (total 10 columns):\n",
            " #   Column                    Non-Null Count  Dtype  \n",
            "---  ------                    --------------  -----  \n",
            " 0   unnamed:_0                7222 non-null   int64  \n",
            " 1   organization_name         7222 non-null   object \n",
            " 2   primary_contact           7044 non-null   object \n",
            " 3   contact:_employer(count)  7222 non-null   int64  \n",
            " 4   email                     7187 non-null   object \n",
            " 5   phone                     7168 non-null   object \n",
            " 6   address                   2670 non-null   object \n",
            " 7   account_manager           0 non-null      float64\n",
            " 8   flags                     0 non-null      float64\n",
            " 9   created                   7222 non-null   object \n",
            "dtypes: float64(2), int64(2), object(6)\n",
            "memory usage: 564.3+ KB\n"
          ]
        }
      ],
      "source": [
        "df1.info()"
      ]
    },
    {
      "cell_type": "code",
      "execution_count": null,
      "metadata": {
        "colab": {
          "base_uri": "https://localhost:8080/"
        },
        "id": "fCxW2Se8BdHB",
        "outputId": "8a36ac32-ddb2-4aba-8fe9-363ef44356ce"
      },
      "outputs": [
        {
          "output_type": "stream",
          "name": "stdout",
          "text": [
            "<class 'pandas.core.frame.DataFrame'>\n",
            "RangeIndex: 103340 entries, 0 to 103339\n",
            "Data columns (total 22 columns):\n",
            " #   Column                            Non-Null Count   Dtype  \n",
            "---  ------                            --------------   -----  \n",
            " 0   posición                          103340 non-null  int64  \n",
            " 1   año                               103340 non-null  int64  \n",
            " 2   pocisión_                         103340 non-null  int64  \n",
            " 3   año.1                             103340 non-null  int64  \n",
            " 4   expediente                        103340 non-null  int64  \n",
            " 5   nombre                            103340 non-null  object \n",
            " 6   tipo_compañía                     103340 non-null  object \n",
            " 7   actividad_económica               103340 non-null  object \n",
            " 8   región_                           103340 non-null  object \n",
            " 9   provincia                         103340 non-null  object \n",
            " 10  ciudad                            103340 non-null  object \n",
            " 11  tamaño                            103337 non-null  object \n",
            " 12  sector                            103340 non-null  object \n",
            " 13  cant._empleados                   103340 non-null  int64  \n",
            " 14  activio_2022                      103340 non-null  float64\n",
            " 15  patrimonio_2022                   103340 non-null  float64\n",
            " 16  ingreso_por_ventas_2022           103340 non-null  float64\n",
            " 17  utilidad_antes_del_impuesto_2022  103340 non-null  float64\n",
            " 18  utilidad_del_ejercicio_2022       103340 non-null  float64\n",
            " 19  utilidad_neta_2022                103340 non-null  float64\n",
            " 20  ir_causado_2022                   103340 non-null  float64\n",
            " 21  ingreso_total_2022                103340 non-null  float64\n",
            "dtypes: float64(8), int64(6), object(8)\n",
            "memory usage: 17.3+ MB\n"
          ]
        }
      ],
      "source": [
        "df2.info()"
      ]
    },
    {
      "cell_type": "code",
      "execution_count": null,
      "metadata": {
        "colab": {
          "base_uri": "https://localhost:8080/"
        },
        "id": "7uVn5uJgakKJ",
        "outputId": "3a989893-ee19-496b-d019-97754f9e4695"
      },
      "outputs": [
        {
          "output_type": "stream",
          "name": "stdout",
          "text": [
            "<class 'pandas.core.frame.DataFrame'>\n",
            "RangeIndex: 198023 entries, 0 to 198022\n",
            "Data columns (total 23 columns):\n",
            " #   Column              Non-Null Count   Dtype  \n",
            "---  ------              --------------   -----  \n",
            " 0   no._fila            198023 non-null  int64  \n",
            " 1   expediente          198023 non-null  int64  \n",
            " 2   ruc                 191525 non-null  object \n",
            " 3   nombre              198023 non-null  object \n",
            " 4   situación_legal     198023 non-null  object \n",
            " 5   fecha_constitucion  198023 non-null  object \n",
            " 6   tipo                198023 non-null  object \n",
            " 7   país                198023 non-null  object \n",
            " 8   región              198023 non-null  object \n",
            " 9   provincia           198023 non-null  object \n",
            " 10  cantón              198023 non-null  object \n",
            " 11  ciudad              198023 non-null  object \n",
            " 12  calle               197225 non-null  object \n",
            " 13  número              192740 non-null  object \n",
            " 14  intersección        190043 non-null  object \n",
            " 15  barrio              90546 non-null   object \n",
            " 16  teléfono            191620 non-null  object \n",
            " 17  representante       195227 non-null  object \n",
            " 18  cargo               195227 non-null  object \n",
            " 19  capital_suscrito    197580 non-null  object \n",
            " 20  ciiu_nivel_1        197738 non-null  object \n",
            " 21  ciiu_nivel_6        197738 non-null  object \n",
            " 22  último_balance      148985 non-null  float64\n",
            "dtypes: float64(1), int64(2), object(20)\n",
            "memory usage: 34.7+ MB\n"
          ]
        }
      ],
      "source": [
        "df3.info()"
      ]
    },
    {
      "cell_type": "code",
      "execution_count": null,
      "metadata": {
        "colab": {
          "base_uri": "https://localhost:8080/"
        },
        "id": "UtkKz4GcJGJf",
        "outputId": "2d209e1c-7260-4c84-8e44-f60b168356dd"
      },
      "outputs": [
        {
          "output_type": "execute_result",
          "data": {
            "text/plain": [
              "unnamed:_0                    0.00\n",
              "organization_name             0.00\n",
              "primary_contact               2.46\n",
              "contact:_employer(count)      0.00\n",
              "email                         0.48\n",
              "phone                         0.75\n",
              "address                      63.03\n",
              "account_manager             100.00\n",
              "flags                       100.00\n",
              "created                       0.00\n",
              "dtype: float64"
            ]
          },
          "metadata": {},
          "execution_count": 11
        }
      ],
      "source": [
        "# en el siguiente codigo creare un codigo que me permita calcular el ratio de valores perdidos para cada columna.\n",
        "mv = df1.isnull().sum() # creo una variable que realice la suma de cada missing values de las columnas del data frame\n",
        "td = len(df1) #creo una variable que cuente la longitud de los datos totales de mi data frame\n",
        "mvrt = round(((mv/td)*100),2) #creo el ratio que itera cada columna del data frame y lo divide para el total de observaciones\n",
        "#se multiplica porcien para obtener un valor en porcentaje y se lo redonde a 2 decimales\n",
        "mvrt #este ratio muestra cual es el porcentaje de datos perdidos"
      ]
    },
    {
      "cell_type": "markdown",
      "metadata": {
        "id": "GQ1moV4eN6Hd"
      },
      "source": [
        "Una vez que sse ha realizado el porcentaje de valores erdidos se procede a eliminar las columnas con mas de 15 porciento de perdida y aquellas columnas con menos del 5% se procede a eliminar los datos."
      ]
    },
    {
      "cell_type": "code",
      "execution_count": null,
      "metadata": {
        "id": "ArRqgDAzOTta"
      },
      "outputs": [],
      "source": [
        "df1 = df1.drop(columns=['account_manager', 'flags','address']) #Elimino las columnas."
      ]
    },
    {
      "cell_type": "code",
      "execution_count": null,
      "metadata": {
        "colab": {
          "base_uri": "https://localhost:8080/"
        },
        "id": "qz8gFTGFQpKm",
        "outputId": "6a44ced6-102a-4052-c46f-cabd666cc32b"
      },
      "outputs": [
        {
          "output_type": "stream",
          "name": "stdout",
          "text": [
            "<class 'pandas.core.frame.DataFrame'>\n",
            "RangeIndex: 7222 entries, 0 to 7221\n",
            "Data columns (total 7 columns):\n",
            " #   Column                    Non-Null Count  Dtype \n",
            "---  ------                    --------------  ----- \n",
            " 0   unnamed:_0                7222 non-null   int64 \n",
            " 1   organization_name         7222 non-null   object\n",
            " 2   primary_contact           7044 non-null   object\n",
            " 3   contact:_employer(count)  7222 non-null   int64 \n",
            " 4   email                     7187 non-null   object\n",
            " 5   phone                     7168 non-null   object\n",
            " 6   created                   7222 non-null   object\n",
            "dtypes: int64(2), object(5)\n",
            "memory usage: 395.1+ KB\n"
          ]
        }
      ],
      "source": [
        "df1.info()"
      ]
    },
    {
      "cell_type": "code",
      "execution_count": null,
      "metadata": {
        "id": "l2tudSnRSc01"
      },
      "outputs": [],
      "source": [
        "df1 = df1.dropna()"
      ]
    },
    {
      "cell_type": "code",
      "execution_count": null,
      "metadata": {
        "colab": {
          "base_uri": "https://localhost:8080/"
        },
        "id": "aGtSjxLWS3_C",
        "outputId": "fa2adf91-4d7a-4e14-f205-2d423e00ec8d"
      },
      "outputs": [
        {
          "output_type": "stream",
          "name": "stdout",
          "text": [
            "<class 'pandas.core.frame.DataFrame'>\n",
            "Int64Index: 7018 entries, 0 to 7221\n",
            "Data columns (total 7 columns):\n",
            " #   Column                    Non-Null Count  Dtype \n",
            "---  ------                    --------------  ----- \n",
            " 0   unnamed:_0                7018 non-null   int64 \n",
            " 1   organization_name         7018 non-null   object\n",
            " 2   primary_contact           7018 non-null   object\n",
            " 3   contact:_employer(count)  7018 non-null   int64 \n",
            " 4   email                     7018 non-null   object\n",
            " 5   phone                     7018 non-null   object\n",
            " 6   created                   7018 non-null   object\n",
            "dtypes: int64(2), object(5)\n",
            "memory usage: 438.6+ KB\n"
          ]
        }
      ],
      "source": [
        "df1.info()"
      ]
    },
    {
      "cell_type": "code",
      "execution_count": null,
      "metadata": {
        "colab": {
          "base_uri": "https://localhost:8080/"
        },
        "id": "xe0ucZBATX3a",
        "outputId": "094729dc-4e33-43d0-d9f6-3a88a469ed88"
      },
      "outputs": [
        {
          "output_type": "stream",
          "name": "stdout",
          "text": [
            "<class 'pandas.core.frame.DataFrame'>\n",
            "Int64Index: 7018 entries, 0 to 7221\n",
            "Data columns (total 7 columns):\n",
            " #   Column                    Non-Null Count  Dtype         \n",
            "---  ------                    --------------  -----         \n",
            " 0   unnamed:_0                7018 non-null   int64         \n",
            " 1   organization_name         7018 non-null   object        \n",
            " 2   primary_contact           7018 non-null   object        \n",
            " 3   contact:_employer(count)  7018 non-null   int64         \n",
            " 4   email                     7018 non-null   object        \n",
            " 5   phone                     7018 non-null   object        \n",
            " 6   created                   7018 non-null   datetime64[ns]\n",
            "dtypes: datetime64[ns](1), int64(2), object(4)\n",
            "memory usage: 438.6+ KB\n"
          ]
        }
      ],
      "source": [
        "# Cambio el tipo de dato de la columna created al formato fecha\n",
        "\n",
        "df1['created'] = pd.to_datetime(df1['created'])\n",
        "df1.info()\n"
      ]
    },
    {
      "cell_type": "code",
      "execution_count": null,
      "metadata": {
        "colab": {
          "base_uri": "https://localhost:8080/"
        },
        "id": "Z2HK43IBLXcQ",
        "outputId": "51532fbe-55cf-4b14-d87d-315d3cd1146a"
      },
      "outputs": [
        {
          "output_type": "execute_result",
          "data": {
            "text/plain": [
              "posición                            0.0\n",
              "año                                 0.0\n",
              "pocisión_                           0.0\n",
              "año.1                               0.0\n",
              "expediente                          0.0\n",
              "nombre                              0.0\n",
              "tipo_compañía                       0.0\n",
              "actividad_económica                 0.0\n",
              "región_                             0.0\n",
              "provincia                           0.0\n",
              "ciudad                              0.0\n",
              "tamaño                              0.0\n",
              "sector                              0.0\n",
              "cant._empleados                     0.0\n",
              "activio_2022                        0.0\n",
              "patrimonio_2022                     0.0\n",
              "ingreso_por_ventas_2022             0.0\n",
              "utilidad_antes_del_impuesto_2022    0.0\n",
              "utilidad_del_ejercicio_2022         0.0\n",
              "utilidad_neta_2022                  0.0\n",
              "ir_causado_2022                     0.0\n",
              "ingreso_total_2022                  0.0\n",
              "dtype: float64"
            ]
          },
          "metadata": {},
          "execution_count": 17
        }
      ],
      "source": [
        "# en el siguiente codigo creare un codigo que me permita calcular el ratio de valores perdidos para cada columna.\n",
        "mv = df2.isnull().sum() # creo una variable que realice la suma de cada missing values de las columnas del data frame\n",
        "td = len(df2) #creo una variable que cuente la longitud de los datos totales de mi data frame\n",
        "mvrt = round(((mv/td)*100),2) #creo el ratio que itera cada columna del data frame y lo divide para el total de observaciones\n",
        "#se multiplica porcien para obtener un valor en porcentaje y se lo redonde a 2 decimales\n",
        "mvrt #este ratio muestra cual es el porcentaje de datos perdidos"
      ]
    },
    {
      "cell_type": "markdown",
      "metadata": {
        "id": "b-KheG1IUDMf"
      },
      "source": [
        "No se necesita realizar ningun cambio"
      ]
    },
    {
      "cell_type": "code",
      "execution_count": null,
      "metadata": {
        "colab": {
          "base_uri": "https://localhost:8080/"
        },
        "id": "w50CRMh9LeMk",
        "outputId": "827246eb-bfed-48a8-df1a-c929bde9ce9c"
      },
      "outputs": [
        {
          "output_type": "execute_result",
          "data": {
            "text/plain": [
              "no._fila               0.00\n",
              "expediente             0.00\n",
              "ruc                    3.28\n",
              "nombre                 0.00\n",
              "situación_legal        0.00\n",
              "fecha_constitucion     0.00\n",
              "tipo                   0.00\n",
              "país                   0.00\n",
              "región                 0.00\n",
              "provincia              0.00\n",
              "cantón                 0.00\n",
              "ciudad                 0.00\n",
              "calle                  0.40\n",
              "número                 2.67\n",
              "intersección           4.03\n",
              "barrio                54.28\n",
              "teléfono               3.23\n",
              "representante          1.41\n",
              "cargo                  1.41\n",
              "capital_suscrito       0.22\n",
              "ciiu_nivel_1           0.14\n",
              "ciiu_nivel_6           0.14\n",
              "último_balance        24.76\n",
              "dtype: float64"
            ]
          },
          "metadata": {},
          "execution_count": 18
        }
      ],
      "source": [
        "# en el siguiente codigo creare un codigo que me permita calcular el ratio de valores perdidos para cada columna.\n",
        "mv = df3.isnull().sum() # creo una variable que realice la suma de cada missing values de las columnas del data frame\n",
        "td = len(df3) #creo una variable que cuente la longitud de los datos totales de mi data frame\n",
        "mvrt = round(((mv/td)*100),2) #creo el ratio que itera cada columna del data frame y lo divide para el total de observaciones\n",
        "#se multiplica porcien para obtener un valor en porcentaje y se lo redonde a 2 decimales\n",
        "mvrt #este ratio muestra cual es el porcentaje de datos perdidos"
      ]
    },
    {
      "cell_type": "code",
      "execution_count": null,
      "metadata": {
        "id": "31T_sl4JUM8l"
      },
      "outputs": [],
      "source": [
        "df3 = df3.drop(columns = ['barrio','último_balance'])"
      ]
    },
    {
      "cell_type": "code",
      "execution_count": null,
      "metadata": {
        "colab": {
          "base_uri": "https://localhost:8080/"
        },
        "id": "ocYqWzlIUwJi",
        "outputId": "1664c2b0-60f4-4b9e-a6e4-c92086e7fdcb"
      },
      "outputs": [
        {
          "output_type": "stream",
          "name": "stdout",
          "text": [
            "<class 'pandas.core.frame.DataFrame'>\n",
            "Int64Index: 176298 entries, 0 to 198015\n",
            "Data columns (total 21 columns):\n",
            " #   Column              Non-Null Count   Dtype \n",
            "---  ------              --------------   ----- \n",
            " 0   no._fila            176298 non-null  int64 \n",
            " 1   expediente          176298 non-null  int64 \n",
            " 2   ruc                 176298 non-null  object\n",
            " 3   nombre              176298 non-null  object\n",
            " 4   situación_legal     176298 non-null  object\n",
            " 5   fecha_constitucion  176298 non-null  object\n",
            " 6   tipo                176298 non-null  object\n",
            " 7   país                176298 non-null  object\n",
            " 8   región              176298 non-null  object\n",
            " 9   provincia           176298 non-null  object\n",
            " 10  cantón              176298 non-null  object\n",
            " 11  ciudad              176298 non-null  object\n",
            " 12  calle               176298 non-null  object\n",
            " 13  número              176298 non-null  object\n",
            " 14  intersección        176298 non-null  object\n",
            " 15  teléfono            176298 non-null  object\n",
            " 16  representante       176298 non-null  object\n",
            " 17  cargo               176298 non-null  object\n",
            " 18  capital_suscrito    176298 non-null  object\n",
            " 19  ciiu_nivel_1        176298 non-null  object\n",
            " 20  ciiu_nivel_6        176298 non-null  object\n",
            "dtypes: int64(2), object(19)\n",
            "memory usage: 29.6+ MB\n"
          ]
        }
      ],
      "source": [
        "df3 = df3.dropna()\n",
        "df3.info()"
      ]
    },
    {
      "cell_type": "markdown",
      "metadata": {
        "id": "kXAD7XT5nMB_"
      },
      "source": [
        "### Preparacion de las bases para el modelo de cluster"
      ]
    },
    {
      "cell_type": "code",
      "execution_count": null,
      "metadata": {
        "id": "hJHMNdtbhPfM"
      },
      "outputs": [],
      "source": [
        "def remove_accents(input_str):\n",
        "    nfkd_form = unicodedata.normalize('NFKD', input_str)\n",
        "    only_ascii = u\"\".join([c for c in nfkd_form if not unicodedata.combining(c)])\n",
        "    return only_ascii\n",
        "\n",
        "# Clean and standardize the names\n",
        "def clean_names(input_str):\n",
        "    # Remove accents\n",
        "    cleaned = remove_accents(input_str)\n",
        "    # Convert to lowercase\n",
        "    cleaned = cleaned.lower()\n",
        "    # Strip leading/trailing whitespace\n",
        "    cleaned = cleaned.strip()\n",
        "    return cleaned\n",
        "\n",
        "# Apply the function to the columns in your dataframes\n",
        "df1['organization_name'] = df1['organization_name'].apply(clean_names)\n",
        "df2['nombre'] = df2['nombre'].apply(clean_names)\n",
        "df3['nombre'] = df3['nombre'].apply(clean_names)"
      ]
    },
    {
      "cell_type": "code",
      "execution_count": null,
      "metadata": {
        "id": "4Bd8EIEkh0DN"
      },
      "outputs": [],
      "source": [
        "# Function to find best matches from df2 in df1\n",
        "def get_best_match(name, candidate_names, limit=1):\n",
        "    best_matches = process.extract(name, candidate_names, limit=limit)\n",
        "    return best_matches\n",
        "\n",
        "# Apply the matching function to each name in df1\n",
        "df1['matches'] = df1['organization_name'].apply(lambda x: get_best_match(x, df2['nombre']))"
      ]
    },
    {
      "cell_type": "code",
      "source": [
        "print(\"Primeros elementos de 'matches':\", df1['matches'].head())"
      ],
      "metadata": {
        "colab": {
          "base_uri": "https://localhost:8080/"
        },
        "id": "1r8h3mDTZ-ON",
        "outputId": "52d80e80-8c95-4d6d-d8c3-063ec3be41c5"
      },
      "execution_count": null,
      "outputs": [
        {
          "output_type": "stream",
          "name": "stdout",
          "text": [
            "Primeros elementos de 'matches': 0                   [(equinoxair s.a.s., 100.0, 1158)]\n",
            "1           [(confiamed s.a., 96.2962962962963, 1260)]\n",
            "2    [(corporacion ars-magna cia.ltda., 93.54838709...\n",
            "3    [(operadora y procesadora de productos marinos...\n",
            "4    [(cptdc china petroleum technology & developme...\n",
            "Name: matches, dtype: object\n"
          ]
        }
      ]
    },
    {
      "cell_type": "code",
      "source": [
        "# Simplificamos la función dado que sabemos que 'matches' contiene listas con una tupla\n",
        "def verificar_tupla(match):\n",
        "    if match and isinstance(match, list) and len(match[0]) == 3:\n",
        "        return match[0]  # Si hay una tupla, devuelve esa tupla\n",
        "    else:\n",
        "        return ('No Match', 0, -1)  # Devuelve una tupla predeterminada para casos no válidos o sin coincidencia\n",
        "\n",
        "# Aplicar la función de verificación\n",
        "df1['matches'] = df1['matches'].apply(verificar_tupla)\n",
        "\n",
        "# Paso 3: Dividir las tuplas en columnas independientes\n",
        "df1['matched_name'] = df1['matches'].apply(lambda x: x[0])\n",
        "df1['similarity_score'] = df1['matches'].apply(lambda x: x[1])\n",
        "df1['match_index'] = df1['matches'].apply(lambda x: x[2])\n",
        "\n",
        "# Verificar los resultados\n",
        "print(\"Nuevas columnas después de dividir 'matches':\")\n",
        "print(df1[['matched_name', 'similarity_score', 'match_index']].head())"
      ],
      "metadata": {
        "colab": {
          "base_uri": "https://localhost:8080/"
        },
        "id": "-vOmmjCTkRkr",
        "outputId": "6cc4f7ad-6232-4877-a6ba-dcdbcb7a2a7e"
      },
      "execution_count": null,
      "outputs": [
        {
          "output_type": "stream",
          "name": "stdout",
          "text": [
            "Nuevas columnas después de dividir 'matches':\n",
            "                                        matched_name  similarity_score  \\\n",
            "0                                  equinoxair s.a.s.        100.000000   \n",
            "1                                     confiamed s.a.         96.296296   \n",
            "2                    corporacion ars-magna cia.ltda.         93.548387   \n",
            "3  operadora y procesadora de productos marinos o...         85.500000   \n",
            "4  cptdc china petroleum technology & development...         85.500000   \n",
            "\n",
            "   match_index  \n",
            "0         1158  \n",
            "1         1260  \n",
            "2        51098  \n",
            "3           23  \n",
            "4          393  \n"
          ]
        }
      ]
    },
    {
      "cell_type": "code",
      "source": [
        "df1"
      ],
      "metadata": {
        "colab": {
          "base_uri": "https://localhost:8080/",
          "height": 895
        },
        "id": "Jnxx5HCEZ-r9",
        "outputId": "98e9ddd6-e2ad-47bb-b4f8-c5a7d55139d6"
      },
      "execution_count": null,
      "outputs": [
        {
          "output_type": "execute_result",
          "data": {
            "text/plain": [
              "      unnamed:_0                   organization_name         primary_contact  \\\n",
              "0              0                   equinoxair s.a.s.            SONIA ASANZA   \n",
              "1              1                       confiamed s.a         Danny Rodriguez   \n",
              "2              2     corporacion ars-magna. cia ltda            Jorge A Ruiz   \n",
              "3              3                           ecocra sa      Diego Camilo Miño    \n",
              "4              4                    ifran technology        Francisco Muñoz    \n",
              "...          ...                                 ...                     ...   \n",
              "7217        7217    zurita torres cristobal bladimir  Bladimir Zurita Torres   \n",
              "7218        7218    zurita yanez construcciones s.a.          Gianina Revelo   \n",
              "7219        7219                zuturismo cia. ltda.           Laura Sánchez   \n",
              "7220        7220  zvgroup industrial supplies s.a.s.           Javier Ortega   \n",
              "7221        7221              zwippe tecnologies co.         Manuel Mantilla   \n",
              "\n",
              "      contact:_employer(count)                             email  \\\n",
              "0                            1           equinoxairsas@gmail.com   \n",
              "1                            1          drodriguez@confiamed.com   \n",
              "2                            1                pami.mkt@gmail.com   \n",
              "3                            1                dmino@ecocrasa.com   \n",
              "4                            1              fran_zisco@yahoo.com   \n",
              "...                        ...                               ...   \n",
              "7217                         1         bladimirzurita1@gmail.com   \n",
              "7218                         1       grevelo@zyconstrucciones.ec   \n",
              "7219                         1           info@haciendazuleta.com   \n",
              "7220                         1  talentohumano@zvgroupecuador.com   \n",
              "7221                         1              mmantilla@zwippe.com   \n",
              "\n",
              "                phone             created  \\\n",
              "0             3810950 2021-10-21 10:01:18   \n",
              "1     3932300 ext. 51 2018-07-10 10:27:00   \n",
              "2          0964067945 2021-05-04 13:41:40   \n",
              "3          0998255757 2019-09-30 09:18:01   \n",
              "4             2377721 2017-08-04 10:32:22   \n",
              "...               ...                 ...   \n",
              "7217        984511082 2017-05-18 13:18:41   \n",
              "7218        983835199 2017-05-18 13:19:40   \n",
              "7219      062 662 182 2017-05-18 13:20:14   \n",
              "7220      02 388 0472 2023-01-18 13:18:50   \n",
              "7221       0992281457 2019-11-06 12:11:20   \n",
              "\n",
              "                                                matches  \\\n",
              "0                      (equinoxair s.a.s., 100.0, 1158)   \n",
              "1              (confiamed s.a., 96.2962962962963, 1260)   \n",
              "2     (corporacion ars-magna cia.ltda., 93.548387096...   \n",
              "3     (operadora y procesadora de productos marinos ...   \n",
              "4     (cptdc china petroleum technology & developmen...   \n",
              "...                                                 ...   \n",
              "7217  (torres & torres agentes de aduanas (ttadad) c...   \n",
              "7218  (gv construcciones s.a., 88.04878048780488, 15...   \n",
              "7219  (zuleta y turismo zuturismo cia. ltda., 90.0, ...   \n",
              "7220  (zvgroup industrial supplies s.a.s., 100.0, 18...   \n",
              "7221  (southern enterprises & investments co. cia. l...   \n",
              "\n",
              "                                           matched_name  similarity_score  \\\n",
              "0                                     equinoxair s.a.s.        100.000000   \n",
              "1                                        confiamed s.a.         96.296296   \n",
              "2                       corporacion ars-magna cia.ltda.         93.548387   \n",
              "3     operadora y procesadora de productos marinos o...         85.500000   \n",
              "4     cptdc china petroleum technology & development...         85.500000   \n",
              "...                                                 ...               ...   \n",
              "7217   torres & torres agentes de aduanas (ttadad) c.a.         85.500000   \n",
              "7218                             gv construcciones s.a.         88.048780   \n",
              "7219              zuleta y turismo zuturismo cia. ltda.         90.000000   \n",
              "7220                 zvgroup industrial supplies s.a.s.        100.000000   \n",
              "7221  southern enterprises & investments co. cia. ltda.         85.500000   \n",
              "\n",
              "      match_index  \n",
              "0            1158  \n",
              "1            1260  \n",
              "2           51098  \n",
              "3              23  \n",
              "4             393  \n",
              "...           ...  \n",
              "7217         1950  \n",
              "7218        15431  \n",
              "7219         8556  \n",
              "7220        18642  \n",
              "7221          199  \n",
              "\n",
              "[7018 rows x 11 columns]"
            ],
            "text/html": [
              "\n",
              "  <div id=\"df-5598a8ba-a945-4cf8-bab7-6dda92534e21\" class=\"colab-df-container\">\n",
              "    <div>\n",
              "<style scoped>\n",
              "    .dataframe tbody tr th:only-of-type {\n",
              "        vertical-align: middle;\n",
              "    }\n",
              "\n",
              "    .dataframe tbody tr th {\n",
              "        vertical-align: top;\n",
              "    }\n",
              "\n",
              "    .dataframe thead th {\n",
              "        text-align: right;\n",
              "    }\n",
              "</style>\n",
              "<table border=\"1\" class=\"dataframe\">\n",
              "  <thead>\n",
              "    <tr style=\"text-align: right;\">\n",
              "      <th></th>\n",
              "      <th>unnamed:_0</th>\n",
              "      <th>organization_name</th>\n",
              "      <th>primary_contact</th>\n",
              "      <th>contact:_employer(count)</th>\n",
              "      <th>email</th>\n",
              "      <th>phone</th>\n",
              "      <th>created</th>\n",
              "      <th>matches</th>\n",
              "      <th>matched_name</th>\n",
              "      <th>similarity_score</th>\n",
              "      <th>match_index</th>\n",
              "    </tr>\n",
              "  </thead>\n",
              "  <tbody>\n",
              "    <tr>\n",
              "      <th>0</th>\n",
              "      <td>0</td>\n",
              "      <td>equinoxair s.a.s.</td>\n",
              "      <td>SONIA ASANZA</td>\n",
              "      <td>1</td>\n",
              "      <td>equinoxairsas@gmail.com</td>\n",
              "      <td>3810950</td>\n",
              "      <td>2021-10-21 10:01:18</td>\n",
              "      <td>(equinoxair s.a.s., 100.0, 1158)</td>\n",
              "      <td>equinoxair s.a.s.</td>\n",
              "      <td>100.000000</td>\n",
              "      <td>1158</td>\n",
              "    </tr>\n",
              "    <tr>\n",
              "      <th>1</th>\n",
              "      <td>1</td>\n",
              "      <td>confiamed s.a</td>\n",
              "      <td>Danny Rodriguez</td>\n",
              "      <td>1</td>\n",
              "      <td>drodriguez@confiamed.com</td>\n",
              "      <td>3932300 ext. 51</td>\n",
              "      <td>2018-07-10 10:27:00</td>\n",
              "      <td>(confiamed s.a., 96.2962962962963, 1260)</td>\n",
              "      <td>confiamed s.a.</td>\n",
              "      <td>96.296296</td>\n",
              "      <td>1260</td>\n",
              "    </tr>\n",
              "    <tr>\n",
              "      <th>2</th>\n",
              "      <td>2</td>\n",
              "      <td>corporacion ars-magna. cia ltda</td>\n",
              "      <td>Jorge A Ruiz</td>\n",
              "      <td>1</td>\n",
              "      <td>pami.mkt@gmail.com</td>\n",
              "      <td>0964067945</td>\n",
              "      <td>2021-05-04 13:41:40</td>\n",
              "      <td>(corporacion ars-magna cia.ltda., 93.548387096...</td>\n",
              "      <td>corporacion ars-magna cia.ltda.</td>\n",
              "      <td>93.548387</td>\n",
              "      <td>51098</td>\n",
              "    </tr>\n",
              "    <tr>\n",
              "      <th>3</th>\n",
              "      <td>3</td>\n",
              "      <td>ecocra sa</td>\n",
              "      <td>Diego Camilo Miño</td>\n",
              "      <td>1</td>\n",
              "      <td>dmino@ecocrasa.com</td>\n",
              "      <td>0998255757</td>\n",
              "      <td>2019-09-30 09:18:01</td>\n",
              "      <td>(operadora y procesadora de productos marinos ...</td>\n",
              "      <td>operadora y procesadora de productos marinos o...</td>\n",
              "      <td>85.500000</td>\n",
              "      <td>23</td>\n",
              "    </tr>\n",
              "    <tr>\n",
              "      <th>4</th>\n",
              "      <td>4</td>\n",
              "      <td>ifran technology</td>\n",
              "      <td>Francisco Muñoz</td>\n",
              "      <td>1</td>\n",
              "      <td>fran_zisco@yahoo.com</td>\n",
              "      <td>2377721</td>\n",
              "      <td>2017-08-04 10:32:22</td>\n",
              "      <td>(cptdc china petroleum technology &amp; developmen...</td>\n",
              "      <td>cptdc china petroleum technology &amp; development...</td>\n",
              "      <td>85.500000</td>\n",
              "      <td>393</td>\n",
              "    </tr>\n",
              "    <tr>\n",
              "      <th>...</th>\n",
              "      <td>...</td>\n",
              "      <td>...</td>\n",
              "      <td>...</td>\n",
              "      <td>...</td>\n",
              "      <td>...</td>\n",
              "      <td>...</td>\n",
              "      <td>...</td>\n",
              "      <td>...</td>\n",
              "      <td>...</td>\n",
              "      <td>...</td>\n",
              "      <td>...</td>\n",
              "    </tr>\n",
              "    <tr>\n",
              "      <th>7217</th>\n",
              "      <td>7217</td>\n",
              "      <td>zurita torres cristobal bladimir</td>\n",
              "      <td>Bladimir Zurita Torres</td>\n",
              "      <td>1</td>\n",
              "      <td>bladimirzurita1@gmail.com</td>\n",
              "      <td>984511082</td>\n",
              "      <td>2017-05-18 13:18:41</td>\n",
              "      <td>(torres &amp; torres agentes de aduanas (ttadad) c...</td>\n",
              "      <td>torres &amp; torres agentes de aduanas (ttadad) c.a.</td>\n",
              "      <td>85.500000</td>\n",
              "      <td>1950</td>\n",
              "    </tr>\n",
              "    <tr>\n",
              "      <th>7218</th>\n",
              "      <td>7218</td>\n",
              "      <td>zurita yanez construcciones s.a.</td>\n",
              "      <td>Gianina Revelo</td>\n",
              "      <td>1</td>\n",
              "      <td>grevelo@zyconstrucciones.ec</td>\n",
              "      <td>983835199</td>\n",
              "      <td>2017-05-18 13:19:40</td>\n",
              "      <td>(gv construcciones s.a., 88.04878048780488, 15...</td>\n",
              "      <td>gv construcciones s.a.</td>\n",
              "      <td>88.048780</td>\n",
              "      <td>15431</td>\n",
              "    </tr>\n",
              "    <tr>\n",
              "      <th>7219</th>\n",
              "      <td>7219</td>\n",
              "      <td>zuturismo cia. ltda.</td>\n",
              "      <td>Laura Sánchez</td>\n",
              "      <td>1</td>\n",
              "      <td>info@haciendazuleta.com</td>\n",
              "      <td>062 662 182</td>\n",
              "      <td>2017-05-18 13:20:14</td>\n",
              "      <td>(zuleta y turismo zuturismo cia. ltda., 90.0, ...</td>\n",
              "      <td>zuleta y turismo zuturismo cia. ltda.</td>\n",
              "      <td>90.000000</td>\n",
              "      <td>8556</td>\n",
              "    </tr>\n",
              "    <tr>\n",
              "      <th>7220</th>\n",
              "      <td>7220</td>\n",
              "      <td>zvgroup industrial supplies s.a.s.</td>\n",
              "      <td>Javier Ortega</td>\n",
              "      <td>1</td>\n",
              "      <td>talentohumano@zvgroupecuador.com</td>\n",
              "      <td>02 388 0472</td>\n",
              "      <td>2023-01-18 13:18:50</td>\n",
              "      <td>(zvgroup industrial supplies s.a.s., 100.0, 18...</td>\n",
              "      <td>zvgroup industrial supplies s.a.s.</td>\n",
              "      <td>100.000000</td>\n",
              "      <td>18642</td>\n",
              "    </tr>\n",
              "    <tr>\n",
              "      <th>7221</th>\n",
              "      <td>7221</td>\n",
              "      <td>zwippe tecnologies co.</td>\n",
              "      <td>Manuel Mantilla</td>\n",
              "      <td>1</td>\n",
              "      <td>mmantilla@zwippe.com</td>\n",
              "      <td>0992281457</td>\n",
              "      <td>2019-11-06 12:11:20</td>\n",
              "      <td>(southern enterprises &amp; investments co. cia. l...</td>\n",
              "      <td>southern enterprises &amp; investments co. cia. ltda.</td>\n",
              "      <td>85.500000</td>\n",
              "      <td>199</td>\n",
              "    </tr>\n",
              "  </tbody>\n",
              "</table>\n",
              "<p>7018 rows × 11 columns</p>\n",
              "</div>\n",
              "    <div class=\"colab-df-buttons\">\n",
              "\n",
              "  <div class=\"colab-df-container\">\n",
              "    <button class=\"colab-df-convert\" onclick=\"convertToInteractive('df-5598a8ba-a945-4cf8-bab7-6dda92534e21')\"\n",
              "            title=\"Convert this dataframe to an interactive table.\"\n",
              "            style=\"display:none;\">\n",
              "\n",
              "  <svg xmlns=\"http://www.w3.org/2000/svg\" height=\"24px\" viewBox=\"0 -960 960 960\">\n",
              "    <path d=\"M120-120v-720h720v720H120Zm60-500h600v-160H180v160Zm220 220h160v-160H400v160Zm0 220h160v-160H400v160ZM180-400h160v-160H180v160Zm440 0h160v-160H620v160ZM180-180h160v-160H180v160Zm440 0h160v-160H620v160Z\"/>\n",
              "  </svg>\n",
              "    </button>\n",
              "\n",
              "  <style>\n",
              "    .colab-df-container {\n",
              "      display:flex;\n",
              "      gap: 12px;\n",
              "    }\n",
              "\n",
              "    .colab-df-convert {\n",
              "      background-color: #E8F0FE;\n",
              "      border: none;\n",
              "      border-radius: 50%;\n",
              "      cursor: pointer;\n",
              "      display: none;\n",
              "      fill: #1967D2;\n",
              "      height: 32px;\n",
              "      padding: 0 0 0 0;\n",
              "      width: 32px;\n",
              "    }\n",
              "\n",
              "    .colab-df-convert:hover {\n",
              "      background-color: #E2EBFA;\n",
              "      box-shadow: 0px 1px 2px rgba(60, 64, 67, 0.3), 0px 1px 3px 1px rgba(60, 64, 67, 0.15);\n",
              "      fill: #174EA6;\n",
              "    }\n",
              "\n",
              "    .colab-df-buttons div {\n",
              "      margin-bottom: 4px;\n",
              "    }\n",
              "\n",
              "    [theme=dark] .colab-df-convert {\n",
              "      background-color: #3B4455;\n",
              "      fill: #D2E3FC;\n",
              "    }\n",
              "\n",
              "    [theme=dark] .colab-df-convert:hover {\n",
              "      background-color: #434B5C;\n",
              "      box-shadow: 0px 1px 3px 1px rgba(0, 0, 0, 0.15);\n",
              "      filter: drop-shadow(0px 1px 2px rgba(0, 0, 0, 0.3));\n",
              "      fill: #FFFFFF;\n",
              "    }\n",
              "  </style>\n",
              "\n",
              "    <script>\n",
              "      const buttonEl =\n",
              "        document.querySelector('#df-5598a8ba-a945-4cf8-bab7-6dda92534e21 button.colab-df-convert');\n",
              "      buttonEl.style.display =\n",
              "        google.colab.kernel.accessAllowed ? 'block' : 'none';\n",
              "\n",
              "      async function convertToInteractive(key) {\n",
              "        const element = document.querySelector('#df-5598a8ba-a945-4cf8-bab7-6dda92534e21');\n",
              "        const dataTable =\n",
              "          await google.colab.kernel.invokeFunction('convertToInteractive',\n",
              "                                                    [key], {});\n",
              "        if (!dataTable) return;\n",
              "\n",
              "        const docLinkHtml = 'Like what you see? Visit the ' +\n",
              "          '<a target=\"_blank\" href=https://colab.research.google.com/notebooks/data_table.ipynb>data table notebook</a>'\n",
              "          + ' to learn more about interactive tables.';\n",
              "        element.innerHTML = '';\n",
              "        dataTable['output_type'] = 'display_data';\n",
              "        await google.colab.output.renderOutput(dataTable, element);\n",
              "        const docLink = document.createElement('div');\n",
              "        docLink.innerHTML = docLinkHtml;\n",
              "        element.appendChild(docLink);\n",
              "      }\n",
              "    </script>\n",
              "  </div>\n",
              "\n",
              "\n",
              "<div id=\"df-4299fcf4-d01a-40f3-9315-f75d51dd03fb\">\n",
              "  <button class=\"colab-df-quickchart\" onclick=\"quickchart('df-4299fcf4-d01a-40f3-9315-f75d51dd03fb')\"\n",
              "            title=\"Suggest charts\"\n",
              "            style=\"display:none;\">\n",
              "\n",
              "<svg xmlns=\"http://www.w3.org/2000/svg\" height=\"24px\"viewBox=\"0 0 24 24\"\n",
              "     width=\"24px\">\n",
              "    <g>\n",
              "        <path d=\"M19 3H5c-1.1 0-2 .9-2 2v14c0 1.1.9 2 2 2h14c1.1 0 2-.9 2-2V5c0-1.1-.9-2-2-2zM9 17H7v-7h2v7zm4 0h-2V7h2v10zm4 0h-2v-4h2v4z\"/>\n",
              "    </g>\n",
              "</svg>\n",
              "  </button>\n",
              "\n",
              "<style>\n",
              "  .colab-df-quickchart {\n",
              "      --bg-color: #E8F0FE;\n",
              "      --fill-color: #1967D2;\n",
              "      --hover-bg-color: #E2EBFA;\n",
              "      --hover-fill-color: #174EA6;\n",
              "      --disabled-fill-color: #AAA;\n",
              "      --disabled-bg-color: #DDD;\n",
              "  }\n",
              "\n",
              "  [theme=dark] .colab-df-quickchart {\n",
              "      --bg-color: #3B4455;\n",
              "      --fill-color: #D2E3FC;\n",
              "      --hover-bg-color: #434B5C;\n",
              "      --hover-fill-color: #FFFFFF;\n",
              "      --disabled-bg-color: #3B4455;\n",
              "      --disabled-fill-color: #666;\n",
              "  }\n",
              "\n",
              "  .colab-df-quickchart {\n",
              "    background-color: var(--bg-color);\n",
              "    border: none;\n",
              "    border-radius: 50%;\n",
              "    cursor: pointer;\n",
              "    display: none;\n",
              "    fill: var(--fill-color);\n",
              "    height: 32px;\n",
              "    padding: 0;\n",
              "    width: 32px;\n",
              "  }\n",
              "\n",
              "  .colab-df-quickchart:hover {\n",
              "    background-color: var(--hover-bg-color);\n",
              "    box-shadow: 0 1px 2px rgba(60, 64, 67, 0.3), 0 1px 3px 1px rgba(60, 64, 67, 0.15);\n",
              "    fill: var(--button-hover-fill-color);\n",
              "  }\n",
              "\n",
              "  .colab-df-quickchart-complete:disabled,\n",
              "  .colab-df-quickchart-complete:disabled:hover {\n",
              "    background-color: var(--disabled-bg-color);\n",
              "    fill: var(--disabled-fill-color);\n",
              "    box-shadow: none;\n",
              "  }\n",
              "\n",
              "  .colab-df-spinner {\n",
              "    border: 2px solid var(--fill-color);\n",
              "    border-color: transparent;\n",
              "    border-bottom-color: var(--fill-color);\n",
              "    animation:\n",
              "      spin 1s steps(1) infinite;\n",
              "  }\n",
              "\n",
              "  @keyframes spin {\n",
              "    0% {\n",
              "      border-color: transparent;\n",
              "      border-bottom-color: var(--fill-color);\n",
              "      border-left-color: var(--fill-color);\n",
              "    }\n",
              "    20% {\n",
              "      border-color: transparent;\n",
              "      border-left-color: var(--fill-color);\n",
              "      border-top-color: var(--fill-color);\n",
              "    }\n",
              "    30% {\n",
              "      border-color: transparent;\n",
              "      border-left-color: var(--fill-color);\n",
              "      border-top-color: var(--fill-color);\n",
              "      border-right-color: var(--fill-color);\n",
              "    }\n",
              "    40% {\n",
              "      border-color: transparent;\n",
              "      border-right-color: var(--fill-color);\n",
              "      border-top-color: var(--fill-color);\n",
              "    }\n",
              "    60% {\n",
              "      border-color: transparent;\n",
              "      border-right-color: var(--fill-color);\n",
              "    }\n",
              "    80% {\n",
              "      border-color: transparent;\n",
              "      border-right-color: var(--fill-color);\n",
              "      border-bottom-color: var(--fill-color);\n",
              "    }\n",
              "    90% {\n",
              "      border-color: transparent;\n",
              "      border-bottom-color: var(--fill-color);\n",
              "    }\n",
              "  }\n",
              "</style>\n",
              "\n",
              "  <script>\n",
              "    async function quickchart(key) {\n",
              "      const quickchartButtonEl =\n",
              "        document.querySelector('#' + key + ' button');\n",
              "      quickchartButtonEl.disabled = true;  // To prevent multiple clicks.\n",
              "      quickchartButtonEl.classList.add('colab-df-spinner');\n",
              "      try {\n",
              "        const charts = await google.colab.kernel.invokeFunction(\n",
              "            'suggestCharts', [key], {});\n",
              "      } catch (error) {\n",
              "        console.error('Error during call to suggestCharts:', error);\n",
              "      }\n",
              "      quickchartButtonEl.classList.remove('colab-df-spinner');\n",
              "      quickchartButtonEl.classList.add('colab-df-quickchart-complete');\n",
              "    }\n",
              "    (() => {\n",
              "      let quickchartButtonEl =\n",
              "        document.querySelector('#df-4299fcf4-d01a-40f3-9315-f75d51dd03fb button');\n",
              "      quickchartButtonEl.style.display =\n",
              "        google.colab.kernel.accessAllowed ? 'block' : 'none';\n",
              "    })();\n",
              "  </script>\n",
              "</div>\n",
              "\n",
              "  <div id=\"id_24383994-94f5-4849-913f-c28124c02235\">\n",
              "    <style>\n",
              "      .colab-df-generate {\n",
              "        background-color: #E8F0FE;\n",
              "        border: none;\n",
              "        border-radius: 50%;\n",
              "        cursor: pointer;\n",
              "        display: none;\n",
              "        fill: #1967D2;\n",
              "        height: 32px;\n",
              "        padding: 0 0 0 0;\n",
              "        width: 32px;\n",
              "      }\n",
              "\n",
              "      .colab-df-generate:hover {\n",
              "        background-color: #E2EBFA;\n",
              "        box-shadow: 0px 1px 2px rgba(60, 64, 67, 0.3), 0px 1px 3px 1px rgba(60, 64, 67, 0.15);\n",
              "        fill: #174EA6;\n",
              "      }\n",
              "\n",
              "      [theme=dark] .colab-df-generate {\n",
              "        background-color: #3B4455;\n",
              "        fill: #D2E3FC;\n",
              "      }\n",
              "\n",
              "      [theme=dark] .colab-df-generate:hover {\n",
              "        background-color: #434B5C;\n",
              "        box-shadow: 0px 1px 3px 1px rgba(0, 0, 0, 0.15);\n",
              "        filter: drop-shadow(0px 1px 2px rgba(0, 0, 0, 0.3));\n",
              "        fill: #FFFFFF;\n",
              "      }\n",
              "    </style>\n",
              "    <button class=\"colab-df-generate\" onclick=\"generateWithVariable('df1')\"\n",
              "            title=\"Generate code using this dataframe.\"\n",
              "            style=\"display:none;\">\n",
              "\n",
              "  <svg xmlns=\"http://www.w3.org/2000/svg\" height=\"24px\"viewBox=\"0 0 24 24\"\n",
              "       width=\"24px\">\n",
              "    <path d=\"M7,19H8.4L18.45,9,17,7.55,7,17.6ZM5,21V16.75L18.45,3.32a2,2,0,0,1,2.83,0l1.4,1.43a1.91,1.91,0,0,1,.58,1.4,1.91,1.91,0,0,1-.58,1.4L9.25,21ZM18.45,9,17,7.55Zm-12,3A5.31,5.31,0,0,0,4.9,8.1,5.31,5.31,0,0,0,1,6.5,5.31,5.31,0,0,0,4.9,4.9,5.31,5.31,0,0,0,6.5,1,5.31,5.31,0,0,0,8.1,4.9,5.31,5.31,0,0,0,12,6.5,5.46,5.46,0,0,0,6.5,12Z\"/>\n",
              "  </svg>\n",
              "    </button>\n",
              "    <script>\n",
              "      (() => {\n",
              "      const buttonEl =\n",
              "        document.querySelector('#id_24383994-94f5-4849-913f-c28124c02235 button.colab-df-generate');\n",
              "      buttonEl.style.display =\n",
              "        google.colab.kernel.accessAllowed ? 'block' : 'none';\n",
              "\n",
              "      buttonEl.onclick = () => {\n",
              "        google.colab.notebook.generateWithVariable('df1');\n",
              "      }\n",
              "      })();\n",
              "    </script>\n",
              "  </div>\n",
              "\n",
              "    </div>\n",
              "  </div>\n"
            ]
          },
          "metadata": {},
          "execution_count": 25
        }
      ]
    },
    {
      "cell_type": "code",
      "source": [
        "vf_df = df1[df1['similarity_score'] > 90]"
      ],
      "metadata": {
        "id": "kT0M7f97aEvE"
      },
      "execution_count": null,
      "outputs": []
    },
    {
      "cell_type": "code",
      "source": [
        "vf1_df = pd.merge(vf_df, df3, left_on='matched_name', right_on='nombre', how='inner')"
      ],
      "metadata": {
        "id": "POtsLXXllqdj"
      },
      "execution_count": null,
      "outputs": []
    },
    {
      "cell_type": "code",
      "source": [
        "vf1_df.info()"
      ],
      "metadata": {
        "colab": {
          "base_uri": "https://localhost:8080/"
        },
        "id": "cZso84LAmOIa",
        "outputId": "bac48f84-107a-4f47-8475-7a65f12863b1"
      },
      "execution_count": null,
      "outputs": [
        {
          "output_type": "stream",
          "name": "stdout",
          "text": [
            "<class 'pandas.core.frame.DataFrame'>\n",
            "Int64Index: 1904 entries, 0 to 1903\n",
            "Data columns (total 32 columns):\n",
            " #   Column                    Non-Null Count  Dtype         \n",
            "---  ------                    --------------  -----         \n",
            " 0   unnamed:_0                1904 non-null   int64         \n",
            " 1   organization_name         1904 non-null   object        \n",
            " 2   primary_contact           1904 non-null   object        \n",
            " 3   contact:_employer(count)  1904 non-null   int64         \n",
            " 4   email                     1904 non-null   object        \n",
            " 5   phone                     1904 non-null   object        \n",
            " 6   created                   1904 non-null   datetime64[ns]\n",
            " 7   matches                   1904 non-null   object        \n",
            " 8   matched_name              1904 non-null   object        \n",
            " 9   similarity_score          1904 non-null   float64       \n",
            " 10  match_index               1904 non-null   int64         \n",
            " 11  no._fila                  1904 non-null   int64         \n",
            " 12  expediente                1904 non-null   int64         \n",
            " 13  ruc                       1904 non-null   object        \n",
            " 14  nombre                    1904 non-null   object        \n",
            " 15  situación_legal           1904 non-null   object        \n",
            " 16  fecha_constitucion        1904 non-null   object        \n",
            " 17  tipo                      1904 non-null   object        \n",
            " 18  país                      1904 non-null   object        \n",
            " 19  región                    1904 non-null   object        \n",
            " 20  provincia                 1904 non-null   object        \n",
            " 21  cantón                    1904 non-null   object        \n",
            " 22  ciudad                    1904 non-null   object        \n",
            " 23  calle                     1904 non-null   object        \n",
            " 24  número                    1904 non-null   object        \n",
            " 25  intersección              1904 non-null   object        \n",
            " 26  teléfono                  1904 non-null   object        \n",
            " 27  representante             1904 non-null   object        \n",
            " 28  cargo                     1904 non-null   object        \n",
            " 29  capital_suscrito          1904 non-null   object        \n",
            " 30  ciiu_nivel_1              1904 non-null   object        \n",
            " 31  ciiu_nivel_6              1904 non-null   object        \n",
            "dtypes: datetime64[ns](1), float64(1), int64(5), object(25)\n",
            "memory usage: 490.9+ KB\n"
          ]
        }
      ]
    },
    {
      "cell_type": "code",
      "source": [
        "vf1_df = pd.merge(vf1_df, df2, left_on='matched_name', right_on='nombre', how='inner')"
      ],
      "metadata": {
        "id": "PRJH2gxqmQx6"
      },
      "execution_count": null,
      "outputs": []
    },
    {
      "cell_type": "code",
      "source": [
        "vf1_df.info()"
      ],
      "metadata": {
        "colab": {
          "base_uri": "https://localhost:8080/"
        },
        "id": "5HZ3TaCFnr8v",
        "outputId": "f50af871-9d8e-4f27-c0b3-87a38cd37477"
      },
      "execution_count": null,
      "outputs": [
        {
          "output_type": "stream",
          "name": "stdout",
          "text": [
            "<class 'pandas.core.frame.DataFrame'>\n",
            "Int64Index: 1907 entries, 0 to 1906\n",
            "Data columns (total 54 columns):\n",
            " #   Column                            Non-Null Count  Dtype         \n",
            "---  ------                            --------------  -----         \n",
            " 0   unnamed:_0                        1907 non-null   int64         \n",
            " 1   organization_name                 1907 non-null   object        \n",
            " 2   primary_contact                   1907 non-null   object        \n",
            " 3   contact:_employer(count)          1907 non-null   int64         \n",
            " 4   email                             1907 non-null   object        \n",
            " 5   phone                             1907 non-null   object        \n",
            " 6   created                           1907 non-null   datetime64[ns]\n",
            " 7   matches                           1907 non-null   object        \n",
            " 8   matched_name                      1907 non-null   object        \n",
            " 9   similarity_score                  1907 non-null   float64       \n",
            " 10  match_index                       1907 non-null   int64         \n",
            " 11  no._fila                          1907 non-null   int64         \n",
            " 12  expediente_x                      1907 non-null   int64         \n",
            " 13  ruc                               1907 non-null   object        \n",
            " 14  nombre_x                          1907 non-null   object        \n",
            " 15  situación_legal                   1907 non-null   object        \n",
            " 16  fecha_constitucion                1907 non-null   object        \n",
            " 17  tipo                              1907 non-null   object        \n",
            " 18  país                              1907 non-null   object        \n",
            " 19  región                            1907 non-null   object        \n",
            " 20  provincia_x                       1907 non-null   object        \n",
            " 21  cantón                            1907 non-null   object        \n",
            " 22  ciudad_x                          1907 non-null   object        \n",
            " 23  calle                             1907 non-null   object        \n",
            " 24  número                            1907 non-null   object        \n",
            " 25  intersección                      1907 non-null   object        \n",
            " 26  teléfono                          1907 non-null   object        \n",
            " 27  representante                     1907 non-null   object        \n",
            " 28  cargo                             1907 non-null   object        \n",
            " 29  capital_suscrito                  1907 non-null   object        \n",
            " 30  ciiu_nivel_1                      1907 non-null   object        \n",
            " 31  ciiu_nivel_6                      1907 non-null   object        \n",
            " 32  posición                          1907 non-null   int64         \n",
            " 33  año                               1907 non-null   int64         \n",
            " 34  pocisión_                         1907 non-null   int64         \n",
            " 35  año.1                             1907 non-null   int64         \n",
            " 36  expediente_y                      1907 non-null   int64         \n",
            " 37  nombre_y                          1907 non-null   object        \n",
            " 38  tipo_compañía                     1907 non-null   object        \n",
            " 39  actividad_económica               1907 non-null   object        \n",
            " 40  región_                           1907 non-null   object        \n",
            " 41  provincia_y                       1907 non-null   object        \n",
            " 42  ciudad_y                          1907 non-null   object        \n",
            " 43  tamaño                            1907 non-null   object        \n",
            " 44  sector                            1907 non-null   object        \n",
            " 45  cant._empleados                   1907 non-null   int64         \n",
            " 46  activio_2022                      1907 non-null   float64       \n",
            " 47  patrimonio_2022                   1907 non-null   float64       \n",
            " 48  ingreso_por_ventas_2022           1907 non-null   float64       \n",
            " 49  utilidad_antes_del_impuesto_2022  1907 non-null   float64       \n",
            " 50  utilidad_del_ejercicio_2022       1907 non-null   float64       \n",
            " 51  utilidad_neta_2022                1907 non-null   float64       \n",
            " 52  ir_causado_2022                   1907 non-null   float64       \n",
            " 53  ingreso_total_2022                1907 non-null   float64       \n",
            "dtypes: datetime64[ns](1), float64(9), int64(11), object(33)\n",
            "memory usage: 819.4+ KB\n"
          ]
        }
      ]
    },
    {
      "cell_type": "code",
      "source": [
        "!pip install openpyxl"
      ],
      "metadata": {
        "colab": {
          "base_uri": "https://localhost:8080/"
        },
        "id": "wUxt4U9AqZt7",
        "outputId": "8937517b-7117-47c6-e6fd-487971be2b23"
      },
      "execution_count": null,
      "outputs": [
        {
          "output_type": "stream",
          "name": "stdout",
          "text": [
            "Requirement already satisfied: openpyxl in /usr/local/lib/python3.10/dist-packages (3.1.2)\n",
            "Requirement already satisfied: et-xmlfile in /usr/local/lib/python3.10/dist-packages (from openpyxl) (1.1.0)\n"
          ]
        }
      ]
    },
    {
      "cell_type": "code",
      "source": [
        "file_path = '/content/drive/MyDrive/Msc. Bussines Inteligence & Data Analysis/Proyecto de Titulacion/Bases/Base_final.xlsx'  # Specify your path and file name\n",
        "vf1_df.to_excel(file_path, index=False, engine='openpyxl')"
      ],
      "metadata": {
        "id": "uL8lq0joqfYp"
      },
      "execution_count": null,
      "outputs": []
    },
    {
      "cell_type": "markdown",
      "source": [
        "### Analisis Exploratorio"
      ],
      "metadata": {
        "id": "G6zgmV574N5s"
      }
    },
    {
      "cell_type": "code",
      "source": [
        "# Resumen estadístico para columnas numéricas\n",
        "print(vf1_df.describe())"
      ],
      "metadata": {
        "colab": {
          "base_uri": "https://localhost:8080/"
        },
        "id": "mkDqfeuwP8MG",
        "outputId": "eaef3d72-c5ac-4d29-eb01-4bdde8c7dece"
      },
      "execution_count": null,
      "outputs": [
        {
          "output_type": "stream",
          "name": "stdout",
          "text": [
            "        unnamed:_0  contact:_employer(count)  similarity_score    match_index  \\\n",
            "count  1907.000000               1907.000000       1907.000000    1907.000000   \n",
            "mean   3647.575249                  1.263765         97.849686   21460.442056   \n",
            "std    2086.396207                  0.738083          2.708585   23163.532657   \n",
            "min       0.000000                  0.000000         90.090090       0.000000   \n",
            "25%    1838.500000                  1.000000         95.238095    3364.500000   \n",
            "50%    3685.000000                  1.000000        100.000000   12958.000000   \n",
            "75%    5480.500000                  1.000000        100.000000   32543.000000   \n",
            "max    7216.000000                 13.000000        100.000000  103018.000000   \n",
            "\n",
            "            no._fila   expediente_x       posición     año     pocisión_  \\\n",
            "count    1907.000000    1907.000000    1907.000000  1907.0   1907.000000   \n",
            "mean    51898.146303  157393.491348   21447.171474  2022.0  20460.136864   \n",
            "std     43022.256264  175791.796809   23137.982063     0.0  22365.301553   \n",
            "min         2.000000       2.000000       1.000000  2022.0      0.000000   \n",
            "25%     15897.000000   52880.000000    3361.500000  2022.0   3058.500000   \n",
            "50%     52586.000000  138047.000000   12949.000000  2022.0  12188.000000   \n",
            "75%     68994.000000  161593.000000   32511.000000  2022.0  31317.500000   \n",
            "max    193235.000000  749002.000000  102917.000000  2022.0  97502.000000   \n",
            "\n",
            "             año.1   expediente_y  cant._empleados  activio_2022  \\\n",
            "count  1907.000000    1907.000000      1907.000000  1.907000e+03   \n",
            "mean   1996.625066  157393.491348       118.962244  1.864630e+07   \n",
            "std     220.665219  175791.796809       478.764377  1.002951e+08   \n",
            "min       0.000000       2.000000         1.000000  0.000000e+00   \n",
            "25%    2021.000000   52880.000000         4.000000  1.615532e+05   \n",
            "50%    2021.000000  138047.000000        12.000000  9.140962e+05   \n",
            "75%    2021.000000  161593.000000        66.000000  6.305968e+06   \n",
            "max    2021.000000  749002.000000     10966.000000  2.480404e+09   \n",
            "\n",
            "       patrimonio_2022  ingreso_por_ventas_2022  \\\n",
            "count     1.907000e+03             1.907000e+03   \n",
            "mean      8.878467e+06             1.884721e+07   \n",
            "std       6.498645e+07             9.217483e+07   \n",
            "min      -1.669188e+07             0.000000e+00   \n",
            "25%       2.563707e+04             1.215834e+05   \n",
            "50%       2.304874e+05             9.531219e+05   \n",
            "75%       2.257696e+06             6.199640e+06   \n",
            "max       1.680022e+09             2.355580e+09   \n",
            "\n",
            "       utilidad_antes_del_impuesto_2022  utilidad_del_ejercicio_2022  \\\n",
            "count                      1.907000e+03                 1.907000e+03   \n",
            "mean                       2.931269e+11                 3.694745e+11   \n",
            "std                        1.985432e+13                 2.305027e+13   \n",
            "min                       -2.660634e+14                -2.660634e+14   \n",
            "25%                        0.000000e+00                 0.000000e+00   \n",
            "50%                        5.781250e+03                 1.317329e+04   \n",
            "75%                        1.517257e+05                 2.238803e+05   \n",
            "max                        8.250504e+14                 9.706475e+14   \n",
            "\n",
            "       utilidad_neta_2022  ir_causado_2022  ingreso_total_2022  \n",
            "count        1.907000e+03     1.907000e+03        1.907000e+03  \n",
            "mean         1.325889e+06     4.204523e+06        1.907873e+07  \n",
            "std          1.272196e+07     1.628593e+08        9.258802e+07  \n",
            "min         -1.785723e+07     0.000000e+00        0.000000e+00  \n",
            "25%          0.000000e+00     0.000000e+00        1.305579e+05  \n",
            "50%          1.351434e+04     5.267880e+03        9.920100e+05  \n",
            "75%          1.734028e+05     7.780764e+04        6.342242e+06  \n",
            "max          3.558431e+08     7.110218e+09        2.355580e+09  \n"
          ]
        }
      ]
    },
    {
      "cell_type": "code",
      "source": [
        "# Resumen para columnas categóricas\n",
        "print(vf1_df.describe(include=['O']))"
      ],
      "metadata": {
        "colab": {
          "base_uri": "https://localhost:8080/"
        },
        "id": "1YHfpE8eQb0Z",
        "outputId": "ac449202-62d5-477c-f828-328c961610bf"
      },
      "execution_count": null,
      "outputs": [
        {
          "output_type": "stream",
          "name": "stdout",
          "text": [
            "                    organization_name primary_contact  \\\n",
            "count                            1907            1907   \n",
            "unique                           1883            1868   \n",
            "top     puente & asociados cia. ltda.    Supervisores   \n",
            "freq                                4              10   \n",
            "\n",
            "                                 email phone  \\\n",
            "count                             1907  1907   \n",
            "unique                            1901  1855   \n",
            "top     secretaria@puenteasociados.com     1   \n",
            "freq                                 4    29   \n",
            "\n",
            "                                              matches  \\\n",
            "count                                            1907   \n",
            "unique                                           1879   \n",
            "top     (puente & asociados cia. ltda., 100.0, 21540)   \n",
            "freq                                                4   \n",
            "\n",
            "                         matched_name            ruc  \\\n",
            "count                            1907           1907   \n",
            "unique                           1843           1844   \n",
            "top     puente & asociados cia. ltda.  1790683516001   \n",
            "freq                                4              3   \n",
            "\n",
            "                             nombre_x situación_legal fecha_constitucion  ...  \\\n",
            "count                            1907            1907               1907  ...   \n",
            "unique                           1843               1               1672  ...   \n",
            "top     puente & asociados cia. ltda.          ACTIVA         28/02/2002  ...   \n",
            "freq                                4            1907                  4  ...   \n",
            "\n",
            "       ciiu_nivel_1 ciiu_nivel_6                       nombre_y tipo_compañía  \\\n",
            "count          1907         1907                           1907          1907   \n",
            "unique           18          451                           1843             4   \n",
            "top               G     F4100.10  puente & asociados cia. ltda.       ANÓNIMA   \n",
            "freq            497           55                              4          1060   \n",
            "\n",
            "                                      actividad_económica región_  \\\n",
            "count                                                1907    1907   \n",
            "unique                                                451       4   \n",
            "top     F4100.10 - CONSTRUCCIÓN DE TODO TIPO DE EDIFIC...  SIERRA   \n",
            "freq                                                   55    1685   \n",
            "\n",
            "                                              provincia_y  \\\n",
            "count                                                1907   \n",
            "unique                                                 19   \n",
            "top     PICHINCHA                                     ...   \n",
            "freq                                                 1624   \n",
            "\n",
            "                                                 ciudad_y   tamaño      sector  \n",
            "count                                                1907     1907        1907  \n",
            "unique                                                 63        4           2  \n",
            "top     QUITO                                         ...  PEQUEÑA  SOCIETARIO  \n",
            "freq                                                 1561      544        1816  \n",
            "\n",
            "[4 rows x 33 columns]\n"
          ]
        }
      ]
    },
    {
      "cell_type": "code",
      "source": [
        "numeric_cols = ['contact:_employer(count)', 'cant._empleados', 'activio_2022', 'patrimonio_2022',\n",
        "                'ingreso_por_ventas_2022', 'utilidad_antes_del_impuesto_2022', 'utilidad_del_ejercicio_2022',\n",
        "                'utilidad_neta_2022', 'ir_causado_2022', 'ingreso_total_2022']\n",
        "\n",
        "for col in numeric_cols:\n",
        "    plt.figure(figsize=(10, 4))\n",
        "    sns.boxplot(x=vf1_df[col])\n",
        "    plt.title(f'Boxplot de {col}')\n",
        "    plt.show()"
      ],
      "metadata": {
        "colab": {
          "base_uri": "https://localhost:8080/",
          "height": 1000
        },
        "id": "r122c9WKQlfu",
        "outputId": "370ee444-e6a8-41ba-91a3-32c7b60f3541"
      },
      "execution_count": null,
      "outputs": [
        {
          "output_type": "display_data",
          "data": {
            "text/plain": [
              "<Figure size 1000x400 with 1 Axes>"
            ],
            "image/png": "[encoded data removed]"
          },
          "metadata": {}
        },
        {
          "output_type": "display_data",
          "data": {
            "text/plain": [
              "<Figure size 1000x400 with 1 Axes>"
            ],
            "image/png": "[encoded data removed]"
          },
          "metadata": {}
        },
        {
          "output_type": "display_data",
          "data": {
            "text/plain": [
              "<Figure size 1000x400 with 1 Axes>"
            ],
            "image/png": "[encoded data removed]"
          },
          "metadata": {}
        },
        {
          "output_type": "display_data",
          "data": {
            "text/plain": [
              "<Figure size 1000x400 with 1 Axes>"
            ],
            "image/png": "[encoded data removed]"
          },
          "metadata": {}
        },
        {
          "output_type": "display_data",
          "data": {
            "text/plain": [
              "<Figure size 1000x400 with 1 Axes>"
            ],
            "image/png": "[encoded data removed]"
          },
          "metadata": {}
        },
        {
          "output_type": "display_data",
          "data": {
            "text/plain": [
              "<Figure size 1000x400 with 1 Axes>"
            ],
            "image/png": "[encoded data removed]"
          },
          "metadata": {}
        },
        {
          "output_type": "display_data",
          "data": {
            "text/plain": [
              "<Figure size 1000x400 with 1 Axes>"
            ],
            "image/png": "[encoded data removed]"
          },
          "metadata": {}
        },
        {
          "output_type": "display_data",
          "data": {
            "text/plain": [
              "<Figure size 1000x400 with 1 Axes>"
            ],
            "image/png": "[encoded data removed]"
          },
          "metadata": {}
        },
        {
          "output_type": "display_data",
          "data": {
            "text/plain": [
              "<Figure size 1000x400 with 1 Axes>"
            ],
            "image/png": "[encoded data removed]"
          },
          "metadata": {}
        },
        {
          "output_type": "display_data",
          "data": {
            "text/plain": [
              "<Figure size 1000x400 with 1 Axes>"
            ],
            "image/png": "[encoded data removed]"
          },
          "metadata": {}
        }
      ]
    },
    {
      "cell_type": "code",
      "source": [
        "# Añadir una constante pequeña para evitar valores no positivos\n",
        "constante = 1 - vf1_df['activio_2022'].min()\n",
        "vf1_df['adjusted_activio_2022'] = vf1_df['activio_2022'] + constante\n",
        "\n",
        "# Aplicar transformación logarítmica\n",
        "vf1_df['log_adjusted_activio_2022'] = np.log(vf1_df['adjusted_activio_2022'])\n",
        "\n",
        "# Visualizar el resultado\n",
        "plt.figure(figsize=(12, 6))\n",
        "plt.subplot(1, 2, 1)\n",
        "sns.histplot(vf1_df['activio_2022'], kde=True)\n",
        "plt.title('Histograma Original de activio_2022')\n",
        "\n",
        "plt.subplot(1, 2, 2)\n",
        "sns.histplot(vf1_df['log_adjusted_activio_2022'], kde=True, color='orange')\n",
        "plt.title('Histograma de Log de adjusted_activio_2022')\n",
        "plt.show()"
      ],
      "metadata": {
        "id": "A1LX5TQhPNgp",
        "colab": {
          "base_uri": "https://localhost:8080/",
          "height": 564
        },
        "outputId": "8758679c-42ce-4b1c-9640-9c97f9c34394"
      },
      "execution_count": null,
      "outputs": [
        {
          "output_type": "display_data",
          "data": {
            "text/plain": [
              "<Figure size 1200x600 with 2 Axes>"
            ],
            "image/png": "[encoded data removed]"
          },
          "metadata": {}
        }
      ]
    },
    {
      "cell_type": "code",
      "source": [
        "# Añadir una constante pequeña para evitar valores no positivos\n",
        "constante = 1 - vf1_df['cant._empleados'].min()\n",
        "vf1_df['adjusted_cant._empleados'] = vf1_df['cant._empleados'] + constante\n",
        "\n",
        "# Aplicar transformación logarítmica\n",
        "vf1_df['log_adjusted_cant._empleados'] = np.log(vf1_df['adjusted_cant._empleados'])\n",
        "\n",
        "# Visualizar el resultado\n",
        "plt.figure(figsize=(12, 6))\n",
        "plt.subplot(1, 2, 1)\n",
        "sns.histplot(vf1_df['cant._empleados'], kde=True)\n",
        "plt.title('Histograma Original de Cantidad de Empleados')\n",
        "\n",
        "plt.subplot(1, 2, 2)\n",
        "sns.histplot(vf1_df['log_adjusted_cant._empleados'], kde=True, color='orange')\n",
        "plt.title('Histograma de Log de log_adjusted_cant._empleados')\n",
        "plt.show()"
      ],
      "metadata": {
        "colab": {
          "base_uri": "https://localhost:8080/",
          "height": 564
        },
        "id": "8xqU8dm9n5yz",
        "outputId": "70b51431-0d70-474a-85ed-c7b5f5577b59"
      },
      "execution_count": null,
      "outputs": [
        {
          "output_type": "display_data",
          "data": {
            "text/plain": [
              "<Figure size 1200x600 with 2 Axes>"
            ],
            "image/png": "[encoded data removed]"
          },
          "metadata": {}
        }
      ]
    },
    {
      "cell_type": "code",
      "source": [],
      "metadata": {
        "id": "QVMMFDxlqULE"
      },
      "execution_count": null,
      "outputs": []
    }
  ],
  "metadata": {
    "colab": {
      "collapsed_sections": [
        "tJvW73KKMZZY"
      ],
      "provenance": [],
      "authorship_tag": "ABX9TyMKb9FiNtGuzf7VzhFUTe7Y",
      "include_colab_link": true
    },
    "kernelspec": {
      "display_name": "Python 3",
      "name": "python3"
    },
    "language_info": {
      "name": "python"
    }
  },
  "nbformat": 4,
  "nbformat_minor": 0
}